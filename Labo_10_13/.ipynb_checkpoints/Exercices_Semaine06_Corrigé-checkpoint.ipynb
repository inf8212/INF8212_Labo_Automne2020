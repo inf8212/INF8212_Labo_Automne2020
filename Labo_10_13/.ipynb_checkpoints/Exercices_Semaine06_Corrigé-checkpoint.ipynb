{
 "cells": [
  {
   "cell_type": "markdown",
   "metadata": {},
   "source": [
    "# Exercices Semaine 06\n",
    "## Gestionnaire de contacts\n",
    "### Utilisez les dictionnaires pour résoudre les exercices qui suivent."
   ]
  },
  {
   "cell_type": "markdown",
   "metadata": {},
   "source": [
    "### 1. Quelques manipulations simples sur les dictionnaires"
   ]
  },
  {
   "cell_type": "markdown",
   "metadata": {},
   "source": [
    "a. Créer un dictionnaire vide dont le nom de variable est 'contacts'.\n",
    "\n",
    "b. Ajoutez-y des contacts. Commençons par vos voisins: Annie, Karim, Ruth et Alfonso! La clé est le nom du contact; la valeur est un numéro de téléphone.\n",
    "\n",
    "c. Affichez la liste de vos contacts (seulement le nom).\n",
    "\n",
    "d. Modifiez le numéro de téléphone de l'un de vos contact.\n",
    "\n",
    "e. Affichez un à un le nom de vos contacts avec leur numéro de téléphone."
   ]
  },
  {
   "cell_type": "code",
   "execution_count": null,
   "metadata": {},
   "outputs": [],
   "source": [
    "# a.\n",
    "contacts = {}\n",
    "\n",
    "# b.\n",
    "contacts['Annie']   = '514-333-1212'\n",
    "contacts['Karim']   = '438-456-7878'\n",
    "contacts['Ruth']    = '819-654-5959'\n",
    "contacts['Alfonso'] = '819-654-5959'\n",
    "\n",
    "# c.\n",
    "print(list(contacts.keys())) # On peut remplacer keys() par values() pour obtenir les valeurs à la place\n",
    "\n",
    "# d.\n",
    "contacts['Annie'] = '418-999-4545' # C'est semblable à l'ajout d'un nouvel item.\n",
    "                                   # Si la clé existe, la valeur va être remplacée; sinon la clé est ajoutée avec sa valeur\n",
    "\n",
    "# e.\n",
    "for nom, numero in contacts.items():\n",
    "    print(nom, numero, sep=\" : \")"
   ]
  },
  {
   "cell_type": "markdown",
   "metadata": {},
   "source": [
    "### 2. Modification de structure\n",
    "\n",
    "Maintenant que l'on a un dictionnaire de contacts, nous allons le modifier pour y ajouter plus d'information. Nous souhaitons, en plus du numéro de téléphone, avoir la possibilité d'ajouter une liste de notes (au début la liste est vide). La liste de notes et le numéro de téléphone sont maintenant 2 clés d'un nouveau dictionnaire affecté comme valeur à chacun des noms de contact.\n",
    "\n",
    "Voici un exemple de la structure :\n",
    "\n",
    "contacts = { 'Annie': { 'tel': '418-999-4545', 'notes': [] }, ... }\n",
    "\n",
    "a. Faite un programme qui modifie le dictionnaire 'contacts' de façon à ce que sa structure corresponde à celle ci-dessus. Les infos existantes doivent être conservées."
   ]
  },
  {
   "cell_type": "code",
   "execution_count": null,
   "metadata": {},
   "outputs": [],
   "source": [
    "for k, v in contacts.items():\n",
    "    contacts[k] = {'tel':v, 'notes':[]}"
   ]
  },
  {
   "cell_type": "markdown",
   "metadata": {},
   "source": [
    "### 3. La liste d'épicerie\n",
    "\n",
    "Chacun de vos contacts vous a donné sa liste d’épicerie. Voici les liste d’épicerie en question :"
   ]
  },
  {
   "cell_type": "code",
   "execution_count": null,
   "metadata": {},
   "outputs": [],
   "source": [
    "Annie   = ['lait', 'pain', 'beurre', 'brocoli', 'café', 'croissants']\n",
    "Karim   = ['pain', 'boisson gazeuse', 'steak', 'carottes']\n",
    "Ruth    = ['beurre', 'carottes', 'café', 'croissants']\n",
    "Alfonso = ['thé', 'chocolat', 'lait', 'pain', 'courge']\n",
    "\n",
    "# Exécutez cette cellule pour mettre en mémoire!"
   ]
  },
  {
   "cell_type": "markdown",
   "metadata": {},
   "source": [
    "a. Ajouter ces listes comme valeurs à la clé 'notes' aux contacts correspondants.\n",
    "\n",
    "b. Avant d'aller à l'épicerie, puisqu’il y a beaucoup d’articles redondants d’une liste à l’autre, vous voulez les regrouper en une seule liste (un dictionnaire en fait!) avec le dénombrement pour chaque article. Récupérer les informations à partir du dictionnaire des contacts puis créez un nouveau dictionnaire pour le dénombrement des articles. Pour ce nouveau dictionnaire, chaque clé correspond à un article et la valeur est un entier représentant la quantité que vous devez acheter pour cet article. "
   ]
  },
  {
   "cell_type": "code",
   "execution_count": null,
   "metadata": {},
   "outputs": [],
   "source": [
    "# a.\n",
    "contacts['Annie']['notes']   = Annie\n",
    "contacts['Karim']['notes']   = Karim\n",
    "contacts['Ruth']['notes']    = Ruth\n",
    "contacts['Alfonso']['notes'] = Alfonso\n",
    "print(contacts)\n",
    "\n",
    "\n",
    "# b.\n",
    "# 1. C'est plus simple si l'on regroupe les listes en une seule\n",
    "lstEpicerie = []\n",
    "for v in contacts.values():\n",
    "    lstEpicerie += v['notes']\n",
    "\n",
    "# 2. On construit ensuite un dictionnaire vide\n",
    "#    puis on le remplit au fur et à mesure que l'on itère sur la liste.\n",
    "#    Ici, la clé c'est l'article, et la valeur c'est le nombre de fois que cet article apparait dans la liste\n",
    "dicEpicerie = {}\n",
    "for article in lstEpicerie:\n",
    "    if article in dicEpicerie: dicEpicerie[article] += 1 # Si l'item est déjà dans le dictionnaire, on additionne 1\n",
    "    else                     : dicEpicerie[article]  = 1 # Sinon, on ajoute l'article et affectant 1 comme valeur\n",
    "\n",
    "# 3. On affiche les éléments un à la fois\n",
    "#    La méthode items() retourne la clé et la valeur pour chaque item\n",
    "for key, value in dicEpicerie.items():\n",
    "    print(value, key)"
   ]
  },
  {
   "cell_type": "markdown",
   "metadata": {},
   "source": [
    "### 4. Entrées utilisateur\n",
    "\n",
    "Vous voulez permettre à un utilisateur de modifier les informations d'un contact dans le dictionnaire 'contacts'.\n",
    "\n",
    "a. Faites un programme qui affiche la liste des contacts et qui interroge l'utilisateur pour qu'il choisisse un contact à modifier. Par la suite, offrez-lui la possibilité de modifier le numéro de téléphone, et modifiez cette information dans le dictionnaire selon les nouvelles données fournies."
   ]
  },
  {
   "cell_type": "code",
   "execution_count": null,
   "metadata": {},
   "outputs": [],
   "source": [
    "# 1. Afficher les contacts\n",
    "print('Voici la liste de vos contacts:\\n')\n",
    "for contact in contacts:\n",
    "    print('-', contact)\n",
    "\n",
    "# 2. Choix utilisateur du nom de contact\n",
    "contact = input('\\nChoisissez un contact à modifier: ')\n",
    "\n",
    "\n",
    "if contact in contacts:\n",
    "\n",
    "    # 3. Modification du numéro de téléphone\n",
    "    print(\"\\nVoici le numéro de téléphone de\", contact, \":\", contacts[contact]['tel'])\n",
    "    tel = input(\"\\nSaisissez un nouveau numéro de téléphone: \")\n",
    "    contacts[contact]['tel'] = tel\n",
    "    \n",
    "    # 4. Affiche les contacts après modification\n",
    "    print(\"\\nVoici la liste de vos contacts après modification:\")\n",
    "    for k, v in contacts.items():\n",
    "        print(k, v['tel'], sep=\" : \")\n",
    "        \n",
    "else:  \n",
    "    print(\"Ce nom n'est pas dans vos contacts\")\n"
   ]
  }
 ],
 "metadata": {
  "kernelspec": {
   "display_name": "Python 3",
   "language": "python",
   "name": "python3"
  },
  "language_info": {
   "codemirror_mode": {
    "name": "ipython",
    "version": 3
   },
   "file_extension": ".py",
   "mimetype": "text/x-python",
   "name": "python",
   "nbconvert_exporter": "python",
   "pygments_lexer": "ipython3",
   "version": "3.7.6"
  }
 },
 "nbformat": 4,
 "nbformat_minor": 4
}
