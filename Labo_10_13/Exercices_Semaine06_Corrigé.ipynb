{
 "cells": [
  {
   "cell_type": "markdown",
   "metadata": {},
   "source": [
    "# Exercices Semaine 06\n",
    "## Gestionnaire de contacts\n",
    "### Utilisez les dictionnaires pour résoudre les exercices qui suivent.\n",
    "\n",
    "Note: Il y a évidemment plusieurs façon pour arriver à un même résultat. J'ai parfois mis des exemples alternatifs de code."
   ]
  },
  {
   "cell_type": "markdown",
   "metadata": {},
   "source": [
    "### 1. Quelques manipulations simples sur les dictionnaires"
   ]
  },
  {
   "cell_type": "markdown",
   "metadata": {},
   "source": [
    "a. Créer un dictionnaire vide dont le nom de variable est 'contacts'.\n",
    "\n",
    "b. Ajoutez-y des contacts. Commençons par vos voisins: Annie, Karim, Ruth et Alfonso! La clé est le nom du contact; la valeur est un numéro de téléphone.\n",
    "\n",
    "c. Affichez la liste de vos contacts (seulement le nom).\n",
    "\n",
    "d. Modifiez le numéro de téléphone de l'un de vos contact.\n",
    "\n",
    "e. Affichez un à un le nom de vos contacts avec leur numéro de téléphone."
   ]
  },
  {
   "cell_type": "code",
   "execution_count": null,
   "metadata": {},
   "outputs": [],
   "source": [
    "# a.1 Avec les {}\n",
    "contacts = {}\n",
    "\n",
    "# a.2 Avec le constructeur\n",
    "contacts = dict()\n",
    "\n",
    "\n",
    "# b.1 on ajoute les contacts un à la fois\n",
    "contacts['Annie']   = '514-333-1212'\n",
    "contacts['Karim']   = '438-456-7878'\n",
    "contacts['Ruth']    = '819-654-5959'\n",
    "contacts['Alfonso'] = '819-654-5959'\n",
    "\n",
    "# b.2 autre façon, on écrase tout\n",
    "contacts = {\n",
    "    'Annie'  :'514-333-1212',\n",
    "    'Karim'  :'438-456-7878',\n",
    "    'Ruth'   :'819-654-5959',\n",
    "    'Alfonso':'819-654-5959'\n",
    "}\n",
    "\n",
    "# b.3 On aurait aussi pu créer un dictionnaire avec les contacts à ajouter, et concaténer celui-ci\n",
    "# avec le dictionnaire initial. On verra ça plus tard dans la session.\n",
    "\n",
    "\n",
    "# c.1 Un élément à la fois\n",
    "for nom in contacts: print(nom)\n",
    "\n",
    "# c.2 Sous forme de liste\n",
    "print(list(contacts.keys())) # On peut remplacer keys() par values() pour obtenir les valeurs à la place\n",
    "\n",
    "\n",
    "# d. À Q4a on va demander à l'utilisateur de modifier le numéro. Pour l'instant, on fait l'opération directement dans le code.\n",
    "contacts['Annie'] = '418-999-4545' # C'est semblable à l'ajout d'un nouvel item.\n",
    "                                   # Si la clé existe, la valeur va être remplacée; sinon la clé est ajoutée avec sa valeur\n",
    "\n",
    "# e. Ressemble à Q1c mais cette fois on veut la clé ET la valeur. On va utiliser la méthode items() pour ça.\n",
    "#    Notez l'utilisation de 2 variables (nom et numero) pour 'attraper' la clé et la valeur de l'item à chaque itération.\n",
    "for nom, numero in contacts.items():\n",
    "    print(nom, numero, sep=\" : \")"
   ]
  },
  {
   "cell_type": "markdown",
   "metadata": {},
   "source": [
    "### 2. Modification de structure\n",
    "\n",
    "Maintenant que l'on a un dictionnaire de contacts, nous allons le modifier pour y ajouter plus d'information. Nous souhaitons, en plus du numéro de téléphone, avoir la possibilité d'ajouter une liste de notes (au début la liste est vide). La liste de notes et le numéro de téléphone sont maintenant 2 clés d'un nouveau dictionnaire affecté comme valeur à chacun des noms de contact.\n",
    "\n",
    "Voici un exemple de la structure :\n",
    "\n",
    "contacts = { 'Annie': { 'tel': '418-999-4545', 'notes': [] }, ... }\n",
    "\n",
    "a. Faite un programme qui modifie le dictionnaire 'contacts' de façon à ce que sa structure corresponde à celle ci-dessus. Les infos existantes doivent être conservées."
   ]
  },
  {
   "cell_type": "code",
   "execution_count": null,
   "metadata": {},
   "outputs": [],
   "source": [
    "# a.\n",
    "\n",
    "# On commence par faire une itération sur les items de notre dictionnaire.\n",
    "# À chaque itération, on veut modifier la valeur de l'item; on prend donc notre dictionnaire contact...\n",
    "# ...et on sélectionne le bon item à l'aide de la clé (contacts[nom])\n",
    "# On affecte à cet item notre nouvelle structure: un dictionnaire avec une clé 'tel' et une clé 'notes'\n",
    "# On récupère la valeur initiale de l'item (stocké dans la variable tel) pour l'affecter à notre nouvelle clé 'tel'\n",
    "# La valeur affectée à la clé 'notes' est une liste vide.\n",
    "for nom, tel in contacts.items():\n",
    "    contacts[nom] = {'tel':tel, 'notes':[]}\n",
    "    \n",
    "# On peut afficher les éléments de notre dictionnaire pour voir si nos modifications fonctionnent...\n",
    "for k, v in contacts.items(): print(k, ':', v)"
   ]
  },
  {
   "cell_type": "markdown",
   "metadata": {},
   "source": [
    "### 3. La liste d'épicerie\n",
    "\n",
    "Chacun de vos contacts vous a donné sa liste d’épicerie. Voici les liste d’épicerie en question :"
   ]
  },
  {
   "cell_type": "code",
   "execution_count": null,
   "metadata": {},
   "outputs": [],
   "source": [
    "Annie   = ['lait', 'pain', 'beurre', 'brocoli', 'café', 'croissants']\n",
    "Karim   = ['pain', 'boisson gazeuse', 'steak', 'carottes']\n",
    "Ruth    = ['beurre', 'carottes', 'café', 'croissants']\n",
    "Alfonso = ['thé', 'chocolat', 'lait', 'pain', 'courge']\n",
    "\n",
    "# Exécutez cette cellule pour mettre en mémoire!"
   ]
  },
  {
   "cell_type": "markdown",
   "metadata": {},
   "source": [
    "a. Ajouter ces listes comme valeurs à la clé 'notes' aux contacts correspondants.\n",
    "\n",
    "b. Avant d'aller à l'épicerie, puisqu’il y a beaucoup d’articles redondants d’une liste à l’autre, vous voulez les regrouper en une seule liste (un dictionnaire en fait!) avec le dénombrement pour chaque article. Récupérer les informations à partir du dictionnaire des contacts puis créez un nouveau dictionnaire pour le dénombrement des articles. Pour ce nouveau dictionnaire, chaque clé correspond à un article et la valeur est un entier représentant la quantité que vous devez acheter pour cet article. "
   ]
  },
  {
   "cell_type": "code",
   "execution_count": null,
   "metadata": {
    "scrolled": true
   },
   "outputs": [],
   "source": [
    "# # a.1 En utilisant l'opérateur '+=' on s'assure de ne pas supprimer d'éventuelles notes existantes\n",
    "contacts['Annie']['notes']   += Annie\n",
    "contacts['Karim']['notes']   += Karim\n",
    "contacts['Ruth']['notes']    += Ruth\n",
    "contacts['Alfonso']['notes'] += Alfonso\n",
    "\n",
    "# a.2 Alexandre mous propose plutot de faire un mappage entre les clés de contacts et les listes d'épicerie à l'aide\n",
    "# d'un second dictionnaire, puis d'utiliser celui-ci pour affecter les bonnes listes au bons items de 'contacts'\n",
    "# Voyez-vous l'avantage? C'est une notion plus complexe sur laquelle on reviendra\n",
    "dict_de_listes = {\n",
    "    'Annie' : Annie,\n",
    "    'Karim' : Karim,\n",
    "    'Ruth' : Ruth,\n",
    "    'Alfonso' : Alfonso\n",
    "}\n",
    "for nom,info in contacts.items():\n",
    "    contacts[nom]['notes'] = dict_de_listes[nom]\n",
    "\n",
    "\n",
    "# On peut afficher tout ça pour voir le résultat\n",
    "for nom , infos in contacts.items():\n",
    "    print(nom, ':', infos)"
   ]
  },
  {
   "cell_type": "code",
   "execution_count": null,
   "metadata": {},
   "outputs": [],
   "source": [
    "# b.\n",
    "\n",
    "# 1. C'est plus simple si l'on regroupe les listes en une seule pour commencer\n",
    "lstEpicerie = []\n",
    "for v in contacts.values():\n",
    "    lstEpicerie += v['notes']\n",
    "\n",
    "# 2. On construit ensuite un dictionnaire vide\n",
    "#    puis on le remplit au fur et à mesure que l'on itère sur la liste.\n",
    "#    Ici, la clé c'est l'article, et la valeur c'est le nombre de fois que cet article apparait dans la liste\n",
    "dicEpicerie = {}\n",
    "for article in lstEpicerie:\n",
    "    if article in dicEpicerie: dicEpicerie[article] += 1 # Si l'item est déjà dans le dictionnaire, on additionne 1\n",
    "    else                     : dicEpicerie[article]  = 1 # Sinon, on ajoute l'article et affectant 1 comme valeur\n",
    "\n",
    "    \n",
    "# On affiche les éléments\n",
    "for key, value in dicEpicerie.items():\n",
    "    print(value, key)"
   ]
  },
  {
   "cell_type": "markdown",
   "metadata": {},
   "source": [
    "### 4. Entrées utilisateur\n",
    "\n",
    "Vous voulez permettre à un utilisateur de modifier les informations d'un contact dans le dictionnaire 'contacts'.\n",
    "\n",
    "a. Faites un programme qui affiche la liste des contacts et qui interroge l'utilisateur pour qu'il choisisse un contact à modifier. Par la suite, offrez-lui la possibilité de modifier le numéro de téléphone, et modifiez cette information dans le dictionnaire selon les nouvelles données fournies.\n",
    "\n",
    "Alix vous demande d'ajouter une validation du numéro de téléphone. On veut le format suivant: '999-999-9999'; qui correspond à \n",
    "3 chiffres, suivis de 1 tiret, suivis de 3 chiffres, suivis de 1 tiret, suivis de 4 chiffres. Inspirez-vous de l'exercice de la semaine précédente."
   ]
  },
  {
   "cell_type": "code",
   "execution_count": null,
   "metadata": {},
   "outputs": [],
   "source": [
    "# 1. Afficher les contacts à l'utilisateur\n",
    "print('Voici la liste de vos contacts:\\n')\n",
    "for contact in contacts:\n",
    "    print('-', contact)\n",
    "\n",
    "    \n",
    "# 2. Choix utilisateur du nom de contact\n",
    "contact = input('\\nChoisissez un contact à modifier: ')\n",
    "\n",
    "\n",
    "# 3. Modification du numéro de téléphone\n",
    "# On valide d'abord que le nom fourni par l'utilisateur corrrespond bel et bien à une clé de notre dictionnaire contacts\n",
    "if contact in contacts:\n",
    "\n",
    "    # 3a. Saisie du nouveau numéro\n",
    "    print(\"\\nVoici le numéro de téléphone de\", contact, \":\", contacts[contact]['tel'])\n",
    "    tel = input(\"\\nSaisissez un nouveau numéro de téléphone: \")\n",
    "    \n",
    "    # 3b. C'est ici que l'on ajoute la validation... Voici une méthode parmis plusieurs. Quelle est la vôtre!?\n",
    "    # Note: Plus tard on va voir des méthodes de validation plus avancées avec les expressions régulières...\n",
    "    lst    = tel.split('-')\n",
    "    valide = True\n",
    "    if len(lst) != 3:\n",
    "        valide = False\n",
    "    else:\n",
    "        if len(lst[0]) != 3 or len(lst[1]) != 3 or len(lst[2]) != 4:\n",
    "            valide = False\n",
    "        else:\n",
    "            for digit in ''.join(lst):\n",
    "                if digit not in '0123456789':\n",
    "                    valide = False     \n",
    "    \n",
    "    \n",
    "    # 3c. Si valide...\n",
    "    if valide:\n",
    "        \n",
    "        # ...on met à jour le numéro\n",
    "        contacts[contact]['tel'] = tel\n",
    "        \n",
    "        # 4. Affiche les contacts après modification\n",
    "        print(\"\\nVoici la liste de vos contacts après modification:\")\n",
    "        for k, v in contacts.items():\n",
    "            print(k, v['tel'], sep=\" : \")\n",
    "    else:\n",
    "        print('Format non valide!')\n",
    "        \n",
    "else:  \n",
    "    print(\"Ce nom n'est pas dans vos contacts\")"
   ]
  }
 ],
 "metadata": {
  "kernelspec": {
   "display_name": "Python 3",
   "language": "python",
   "name": "python3"
  },
  "language_info": {
   "codemirror_mode": {
    "name": "ipython",
    "version": 3
   },
   "file_extension": ".py",
   "mimetype": "text/x-python",
   "name": "python",
   "nbconvert_exporter": "python",
   "pygments_lexer": "ipython3",
   "version": "3.7.6"
  }
 },
 "nbformat": 4,
 "nbformat_minor": 4
}
