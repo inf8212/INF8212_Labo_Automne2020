{
 "cells": [
  {
   "cell_type": "markdown",
   "metadata": {},
   "source": [
    "# Python\n",
    "\n",
    "**INF8212 - Introduction aux systèmes informatiques**\n",
    "\n",
    "[Mathieu Lemieux](mailto:lemieux.mathieu@courrier.uqam.ca) @ Université du Québec à Montréal (Automne 2020)"
   ]
  },
  {
   "cell_type": "markdown",
   "metadata": {},
   "source": [
    "# Travailler avec des chaînes de caractères\n",
    "\n",
    "Pour une **liste des méthodes** sur les chaînes de caractères, voir la [documentation officielle](https://docs.python.org/3/library/stdtypes.html#string-methods)."
   ]
  },
  {
   "cell_type": "markdown",
   "metadata": {},
   "source": [
    "### Partie I\n",
    "\n",
    "1. [Créer une chaîne](#Créer-une-chaîne)\n",
    "2. [Connaître la longeur d'une chaîne avec la fonction *Len()*](#Connaître-la-longeur-d'une-chaîne-avec-la-fonction-Len())\n",
    "3. [Accéder à un caractère de la chaîne par son index](#Accéder-à-un-caractère-par-son-index)\n",
    "4. [Accéder à des tranches de caractères (Slicing)](#Accéder-à-des-tranches-de-caractères-(Slicing))\n",
    "5. [Concaténation](#Concaténation)\n",
    "\n",
    "### Partie II\n",
    "\n",
    "6. [Modifier les caractères d'une chaîne?](#Modifier-les-caractères-d'une-chaîne?)\n",
    "7. [Recherche de motifs](#Recherche-de-motifs)\n",
    "8. [Formattage & Interpolation](#Formattage-&-Interpolation)\n",
    "9. [Itération sur une chaîne de caractères]()\n",
    "\n",
    "### Partie III\n",
    "\n",
    "10. [Conversions](#Conversions)\n",
    "11. [Caractères spéciaux](#Caractères-spéciaux)\n",
    "12. [Encodage]()"
   ]
  },
  {
   "cell_type": "markdown",
   "metadata": {},
   "source": [
    "## Créer une chaîne"
   ]
  },
  {
   "cell_type": "code",
   "execution_count": null,
   "metadata": {},
   "outputs": [],
   "source": [
    "# Les 4 façons suivantes permettent d'assigner une chaîne de caractères à une variable.\n",
    "chaine1 = 'abcde'\n",
    "chaine2 = \"fghij\"\n",
    "chaine3 = '''klmno'''\n",
    "chaine4 = \"\"\"pqrst\"\"\"\n",
    "print(chaine1);print(chaine2);print(chaine3);print(chaine4)\n",
    "\n",
    "# Une chaîne de caractère peut aussi être vide.\n",
    "chaine5 = ''\n",
    "print('Chaine vide:', chaine5)"
   ]
  },
  {
   "cell_type": "code",
   "execution_count": null,
   "metadata": {},
   "outputs": [],
   "source": [
    "# Il est aussi possible d'utiliser le constructeur str()...\n",
    "# La fonction native str() convertie en chaine de caractères l'argument passé en paramètre\n",
    "# On parlera davantage de la fonction str() dans la section 'Conversion'\n",
    "chaine6 = str(123)\n",
    "print(chaine6)"
   ]
  },
  {
   "cell_type": "markdown",
   "metadata": {},
   "source": [
    "## Connaître la longeur d'une chaîne avec la fonction *Len()*"
   ]
  },
  {
   "cell_type": "code",
   "execution_count": null,
   "metadata": {},
   "outputs": [],
   "source": [
    "# La fonction len() prend une chaîne de caractère comme argument et retourne un entier.\n",
    "chaine = 'abcde'\n",
    "lng    = len(chaine)\n",
    "print(lng)"
   ]
  },
  {
   "cell_type": "markdown",
   "metadata": {},
   "source": [
    "## Accéder à un caractère par son index"
   ]
  },
  {
   "cell_type": "code",
   "execution_count": null,
   "metadata": {},
   "outputs": [],
   "source": [
    "# On indique la position du caractère désiré à l'aide de son index entre crochets '[]'\n",
    "# Attention, l'index commence à 0 en Python (Contrairement à 'R' par exemple où il commence à 1...)\n",
    "chaine = 'abcde'\n",
    "caract = chaine[0]\n",
    "print(caract)"
   ]
  },
  {
   "cell_type": "code",
   "execution_count": null,
   "metadata": {},
   "outputs": [],
   "source": [
    "# Il existe aussi un index négatif, partant de la droite.\n",
    "# Cet index commence à -1 et se poursuit -2, -3, ...\n",
    "chaine = 'abcde'\n",
    "caract = chaine[-1]\n",
    "print(caract)"
   ]
  },
  {
   "cell_type": "code",
   "execution_count": null,
   "metadata": {},
   "outputs": [],
   "source": [
    "# Attention, si l'index spécifié n'existe pas on obtient une erreur!\n",
    "chaine = 'abcde'\n",
    "caract = chaine[5]\n",
    "print(caract)"
   ]
  },
  {
   "cell_type": "markdown",
   "metadata": {},
   "source": [
    "## Accéder à des tranches de caractères (*Slicing*)"
   ]
  },
  {
   "cell_type": "code",
   "execution_count": null,
   "metadata": {},
   "outputs": [],
   "source": [
    "# On indique la tranche désiré à l'aide des index de début et fin, entre crochets '[]', séparés par un double-point ':'\n",
    "# Attention, le caractère correspondant à l'index de début va être inculs dans la tranche mais pas celui de l'index de fin!\n",
    "chaine  = 'abcde'\n",
    "tranche = chaine[2:4]\n",
    "print(tranche)\n",
    "\n",
    "# On peut spécifier un pas en l'ajoutant après un second double-points\n",
    "tranche = chaine[1:4:2]\n",
    "print(tranche)\n",
    "\n",
    "# Une tranche avec un index de fin égal à l'index de début retourne une chaine vide\n",
    "tranche = chaine[2:2]\n",
    "print(tranche)\n",
    "\n",
    "# Idem si l'index de fin égal est inférieur à l'index de début, sauf si le pas est négatif...\n",
    "# ...dans ce cas, la tranche est effectuée à partir de l'autre sens!\n",
    "tranche = chaine[4:2:-1]\n",
    "print(tranche)"
   ]
  },
  {
   "cell_type": "code",
   "execution_count": null,
   "metadata": {},
   "outputs": [],
   "source": [
    "# Contrairement à ce qui se passe lorsque l'on tente d'accéder à un caractère unique,\n",
    "# accéder à une tranche à l'aide d'un index erronné ne génère pas d'erreur mais une chaine vide. Cool!\n",
    "chaine  = 'abcde'\n",
    "tranche = chaine[7:9]\n",
    "print(tranche)"
   ]
  },
  {
   "cell_type": "code",
   "execution_count": null,
   "metadata": {},
   "outputs": [],
   "source": [
    "# Si l'index de début est ommis, la tranche commence à 0\n",
    "chaine  = 'abcde'\n",
    "tranche = chaine[:3]\n",
    "print(tranche)\n",
    "\n",
    "# Si l'index de fin est ommis, la tranche se rend jusqu'au dernier caractère inclusivement\n",
    "chaine  = 'abcde'\n",
    "tranche = chaine[3:]\n",
    "print(tranche)\n",
    "\n",
    "# Une tranche sans index retourne la chaine en entier\n",
    "chaine  = 'abcde'\n",
    "tranche = chaine[:]\n",
    "print(tranche)\n",
    "\n",
    "# Ici aussi on peut spécifier un pas...\n",
    "chaine  = 'abcde'\n",
    "tranche = chaine[::2]\n",
    "print(tranche)"
   ]
  },
  {
   "cell_type": "code",
   "execution_count": null,
   "metadata": {},
   "outputs": [],
   "source": [
    "# Les tranches fonctionnent aussi avec les index négatifs...\n",
    "# Attention, il faut débuter la tranche par l'index le plus à gauche (i.e. le plus petit; ici -4 < -2)...\n",
    "# ...si le pas est positif (ici +1 implicitement)\n",
    "chaine  = 'abcde'\n",
    "tranche = chaine[-4:-2]\n",
    "print(tranche)\n",
    "\n",
    "# On peut aussi combiner index négatif et index positif...\n",
    "chaine  = 'abcde'\n",
    "tranche = chaine[2:-1]\n",
    "print(tranche)"
   ]
  },
  {
   "cell_type": "code",
   "execution_count": null,
   "metadata": {},
   "outputs": [],
   "source": [
    "# Puisqu'une tranche est aussi une chaine de caractère, on peux y sélectionner un caractère via l'index\n",
    "# ...ou y appliquer une autre tranche, et ainsi de suite.\n",
    "chaine  = 'abcdefghij'\n",
    "tranche = chaine[2:8]\n",
    "print(tranche)\n",
    "print(tranche[0])\n",
    "print(tranche[1:3])"
   ]
  },
  {
   "cell_type": "markdown",
   "metadata": {},
   "source": [
    "## Concaténation"
   ]
  },
  {
   "cell_type": "markdown",
   "metadata": {},
   "source": [
    "### Surcharge des opérateurs + et *"
   ]
  },
  {
   "cell_type": "code",
   "execution_count": null,
   "metadata": {},
   "outputs": [],
   "source": [
    "# On dit qu'il y a surcharge (overloading) de ces opérateurs puisqu'il servent également à des opérations arithmétiques.\n",
    "\n",
    "# L'opérateur '+' permet de concaténer 2 chaînes ensembles.\n",
    "# Pour construire une phrase, on doit insérer ses propres espaces au besoin...\n",
    "prenom     = 'John'\n",
    "nom        = 'Doe'\n",
    "nomComplet = prenom + ' ' + nom\n",
    "print(nomComplet)\n",
    "\n",
    "\n",
    "# L'opérateur '*' permet de concaténer une chaine avec elle-même un nombre de fois donné.\n",
    "print(prenom*3)"
   ]
  },
  {
   "cell_type": "markdown",
   "metadata": {},
   "source": [
    "### Méthode *join()*"
   ]
  },
  {
   "cell_type": "code",
   "execution_count": null,
   "metadata": {},
   "outputs": [],
   "source": [
    "# Lorsque les chaines que l'on veut concaténer ensemble se retrouvent dans une liste ou un tuple,\n",
    "# on peut utiliser la méthode join() pour les joindre ensemble et les retourner sous la forme d'une chaine unique.\n",
    "\n",
    "lst = ('a', 'b', 'c')\n",
    "\n",
    "# On spécifie d'abord un séparateur, puis on lui applique la méthode join().\n",
    "# La méthode join() prend un argument de type liste ou tuple\n",
    "# Attention à la syntaxe particulière...\n",
    "msg = '-'.join(lst)\n",
    "print(msg)\n",
    "\n",
    "# Évidemment, le séparateur peut être une chaîne vide.\n",
    "msg = ''.join(lst)\n",
    "print(msg)"
   ]
  },
  {
   "cell_type": "markdown",
   "metadata": {},
   "source": [
    "### Fonction *print()*"
   ]
  },
  {
   "cell_type": "code",
   "execution_count": null,
   "metadata": {},
   "outputs": [],
   "source": [
    "# La fonction print() peut être utilisée pour concaténer des chaines au moment de l'affichage.\n",
    "# Comme vu précédemment, la fonction print() accepte un nombre indéfni d'arguments...\n",
    "\n",
    "# Par défaut, un espace est inséré entre chaque chaînes\n",
    "print('Ceci', 'est', 'une', 'concaténation')\n",
    "\n",
    "# le paramètre 'sep' permet de spécifier le séparasteur. D'autres paramètres existent aussi...\n",
    "print('Hors', 'piste', sep='-', end='!')"
   ]
  },
  {
   "cell_type": "markdown",
   "metadata": {},
   "source": [
    "## Modifier les caractères d'une chaîne?"
   ]
  },
  {
   "cell_type": "markdown",
   "metadata": {},
   "source": [
    "### Immutabilité & réaffectation\n",
    "\n",
    "En python, **les chaînes de caractères sont immuables**, i.e. on ne peut directement les modifier. Cependant, il est possible de créer une nouvelle chaîne à partir d'une chaîne existante (ou plusieurs) et d'affecter celle-ci à la variable initiale (ou une nouvelle). Les différentes méthodes et fonctions qui semblent modifier une chaîne existante créent en fait une nouvelle chaîne. On verra plus tard les diverses implications que cela peut avoir pour votre code."
   ]
  },
  {
   "cell_type": "code",
   "execution_count": null,
   "metadata": {},
   "outputs": [],
   "source": [
    "# D'abord, un contre-exemple avec une liste\n",
    "liste  = ['a', 'b', 'c']\n",
    "\n",
    "print(liste)\n",
    "liste[1] = 'z'\n",
    "print(liste)"
   ]
  },
  {
   "cell_type": "code",
   "execution_count": null,
   "metadata": {},
   "outputs": [],
   "source": [
    "# Contrairement aux listes, on ne peut modifier un élément d'une chaîne par son index.\n",
    "# ATTENTION, le code suivant génère une erreur!\n",
    "chaine = 'abc'\n",
    "\n",
    "print(chaine)\n",
    "chaine[1] = 'z'\n",
    "print(chaine)"
   ]
  },
  {
   "cell_type": "code",
   "execution_count": null,
   "metadata": {},
   "outputs": [],
   "source": [
    "# On peut cependant réaffecter une nouvelle valeur à une variable \n",
    "chaine = 'abc'\n",
    "\n",
    "print(chaine)\n",
    "chaine = chaine[0] + 'z' + chaine[2]\n",
    "print(chaine)"
   ]
  },
  {
   "cell_type": "markdown",
   "metadata": {},
   "source": [
    "### Méthodes *upper()*, *lower()* et *capitalize()*"
   ]
  },
  {
   "cell_type": "code",
   "execution_count": null,
   "metadata": {},
   "outputs": [],
   "source": [
    "chaine = 'bioINFORMATIQUE'\n",
    "\n",
    "# Quelques méthodes de base pour formatter les chaînes de caractères...\n",
    "print(chaine.upper())\n",
    "print(chaine.lower())\n",
    "print(chaine.capitalize())"
   ]
  },
  {
   "cell_type": "markdown",
   "metadata": {},
   "source": [
    "### Méthodes *strip()*, *lstrip()* et *rstrip()*"
   ]
  },
  {
   "cell_type": "code",
   "execution_count": null,
   "metadata": {},
   "outputs": [],
   "source": [
    "# Les méthodes strip(), lstrip() et rstrip() retourne une chaîne sans les caractères d'espacement...\n",
    "\n",
    "chaine = \"    Eureka! Eureka!   \"\n",
    "\n",
    "print('***', chaine.strip() , '***', sep='') # ...Au début et à la fin\n",
    "print('***', chaine.lstrip(), '***', sep='') # ...Au début seulement (left)\n",
    "print('***', chaine.rstrip(), '***', sep='') # ...À la fin seulement (right)\n",
    "\n",
    "# Pour enlever tous les espaces, utiliser plutôt la méthode replace() qu'on va voir à la prochaine section...\n",
    "print('***', chaine.replace(' ', '') , '***', sep='') # ...Au début, à la fin et au milieu!"
   ]
  },
  {
   "cell_type": "markdown",
   "metadata": {},
   "source": [
    "## Recherche de motifs"
   ]
  },
  {
   "cell_type": "markdown",
   "metadata": {},
   "source": [
    "### Méthodes *index()*, *find()*, *count()* et *replace()*"
   ]
  },
  {
   "cell_type": "code",
   "execution_count": null,
   "metadata": {},
   "outputs": [],
   "source": [
    "# Les méthodes find(), index() et count() recherche toutes un motif dans la chaîne.\n",
    "# Elles diffèrent cependant par la valeur qu'elles retournent.\n",
    "# Les paramètres de début et de fin sont facultatifs.\n",
    "\n",
    "\n",
    "chaine1 = \"Quand le chat est parti, les souris dansent!\"\n",
    "motif1  = \"le\"\n",
    "debut   = 15\n",
    "fin     = 30\n",
    "\n",
    "# 1. La méthode index() retourne la position (index) du 1er caractère de la 1ère occurence trouvée.\n",
    "# Retourne une erreur si rien n'est trouvé.\n",
    "result = chaine1.index(motif1, debut, fin)\n",
    "print(result)\n",
    "\n",
    "\n",
    "chaine2 = \"ACGT\"\n",
    "motif2  = \"N\"\n",
    "\n",
    "# 2. La méthode find() fonctionne comme la méthode index(), mais retourne '-1' si rien n'est trouvé\n",
    "result = chaine2.find(motif2)\n",
    "print(result)\n",
    "\n",
    "# 3. La méthode count() retourne le nombre d'occurences trouvées.\n",
    "result = chaine2.count(motif2)\n",
    "print(result)\n",
    "\n",
    "# 4. La méthode replace() retourne une nouvelle chaîne, avec remplacement des motifs recherchés...\n",
    "# Le premier argument correspond au motif recherché, le second au motif à insérer à sa place\n",
    "chaine1 = chaine1.replace('a', 'A')\n",
    "print(chaine1)"
   ]
  },
  {
   "cell_type": "markdown",
   "metadata": {},
   "source": [
    "### Expressions régulières (*regex*)\n",
    "\n",
    "Les expressions régulières permettent de rechercher un motif complexe dans une chaîne; ce sont des outils très puissants! Pour utiliser des expressions régulières, il est nécessaire d'importer d'abord le module standard ***re***. Vous trouverez plus d'informations dans la documentation officielle [ici](https://docs.python.org/3/howto/regex.html). Les expressions régulières sont un sujet avancé, on y reviendra peut-être plus tard dans la session. Voici seulement un court exemple..."
   ]
  },
  {
   "cell_type": "code",
   "execution_count": null,
   "metadata": {},
   "outputs": [],
   "source": [
    "# Expression régulière\n",
    "\n",
    "import re\n",
    "\n",
    "chaine = \"Le ciel bleu\"\n",
    "motif  = \"^Le.*bleu$\"\n",
    "\n",
    "if re.search(motif, chaine): print(\"Trouvé!\")"
   ]
  },
  {
   "cell_type": "markdown",
   "metadata": {},
   "source": [
    "## Formattage & Interpolation"
   ]
  },
  {
   "cell_type": "markdown",
   "metadata": {},
   "source": [
    "### Méthode *format()*\n",
    "\n",
    "Plus d'exemples dans [cet article](https://pyformat.info/)."
   ]
  },
  {
   "cell_type": "code",
   "execution_count": null,
   "metadata": {},
   "outputs": [],
   "source": [
    "# En conjonction avec la méthode format(),\n",
    "# on utilise les accolades {} pour l'interpolation de variables ou d'expressions dans une chaîne.\n",
    "\n",
    "\n",
    "prenom = 'Ava'\n",
    "nom    = 'Lovelace'\n",
    "emploi = 'programmeuse'\n",
    "\n",
    "\n",
    "# 1. L'ordre d'insertion suit implicitement l'ordre des arguments passés à la méthode format()\n",
    "# Dans ce cas, le nombre d'arguments doit être égal ou supérieur au nombre de paires d'accolades dans la chaîne\n",
    "# Dans l'exemple suivant, l'expression 'nom.upper()' est évaluée avant d'être insérée\n",
    "msg = 'Mon nom est {} {}, je suis {}'.format(a, nom.upper(), emploi)\n",
    "print('1.', msg)\n",
    "\n",
    "\n",
    "# 2. En utilisant explicitement les indexes, on peut changer l'ordre et/ou réutiliser une variable\n",
    "msg = 'Mon nom est {1} {0}, je suis {2}. Appelez-moi {0}!'.format(prenom, nom.upper(), emploi)\n",
    "print('2.', msg)\n",
    "\n",
    "# 3. Si l'on veut utiliser des noms de variable au lieu des index, on doit faire explicitement les affectations\n",
    "msg = 'Mon nom est {prenom} {nom}, je suis {emploi}'.format(prenom=prenom, nom=nom.upper(), emploi=emploi)\n",
    "print('3.', msg)\n",
    "\n",
    "\n",
    "# TECHNIQUES AVANCÉES...\n",
    "# 4. Déballer une liste ou un tuple à l'aide de '*'\n",
    "personne = ('Guido', 'van Rossum', 'éleveur de serpent')\n",
    "msg      = 'Mon nom est {} {}, je suis {}'.format(*personne)\n",
    "print('4.', msg)\n",
    "\n",
    "# 5. Déballer un dictionnaire avec '**'\n",
    "# Notez l'utilisation des clés comme noms de variables!\n",
    "personne = {'prenom':'Guido', 'nom':'van Rossum', 'emploi':'éleveur de serpent'}\n",
    "msg      = 'Mon nom est {prenom} {nom}, je suis {emploi}'.format(**personne)\n",
    "print('5.', msg)\n",
    "\n",
    "\n",
    "# FORMULATION DÉPRÉCIÉE...\n",
    "# 6. Pour info, voici la vieille formulation avant la méthode format(), dépréciée...\n",
    "msg = 'Mon nom est %s %s, je suis %s' % ('John', 'Doe', 'mistérieux')\n",
    "print('6.', msg)"
   ]
  },
  {
   "cell_type": "markdown",
   "metadata": {},
   "source": [
    "### Expressions formatées littérales (*formated string, aka f-string*)\n",
    "Les expressions formatées littérales prennent la forme suivante: un ***f*** ou ***F*** devant la chaîne et des ***{ }*** à l'intérieur de la chaîne pour l'interpolation de variables ou d'expressions. Les expressions formatées littérales sont très utiles; elles sont **disponible à partir de la version 3.6 de Python**."
   ]
  },
  {
   "cell_type": "code",
   "execution_count": null,
   "metadata": {},
   "outputs": [],
   "source": [
    "# Avec les Expressions formatées littérales (Formated string), on peut utiliser directement les noms de variables disponibles.\n",
    "\n",
    "prenom = 'Ava'\n",
    "nom    = 'Lovelace'\n",
    "emploi = 'programmeuse'\n",
    "\n",
    "msg = f\"Mon nom est {prenom} {nom.upper()}, je suis {emploi}. J'ai écrit mon 1er programme il y a {2020-1842} ans.\"\n",
    "\n",
    "print(msg)"
   ]
  },
  {
   "cell_type": "markdown",
   "metadata": {},
   "source": [
    "## Itération sur une chaîne de caractères\n",
    "\n",
    "Vous pouz passer cette section et y revenir plus tard si vous n'avez pas déjà vu les boucles en classe."
   ]
  },
  {
   "cell_type": "code",
   "execution_count": null,
   "metadata": {},
   "outputs": [],
   "source": [
    "chaine = 'abcd'\n",
    "\n",
    "# Pour itérer sur les caractères d'une chaîne, il est d'usage d'utiliser une bouble 'for'\n",
    "\n",
    "# Retourne chacun des caractères\n",
    "for v in chaine: print(v)"
   ]
  },
  {
   "cell_type": "markdown",
   "metadata": {},
   "source": [
    "### Fonction *enumerate()*"
   ]
  },
  {
   "cell_type": "code",
   "execution_count": null,
   "metadata": {},
   "outputs": [],
   "source": [
    "chaine = 'abcd'\n",
    "\n",
    "# Techniques plus avancées...\n",
    "\n",
    "# Pour itérer sur l'index (puis accéder à la valeur au besoin), on utilise les fonctions range() et len()...\n",
    "# ...mais pas très 'Pythonic'\n",
    "for i in range(len(chaine)): print(i, chaine[i])\n",
    "\n",
    "# On préfère plutôt utiliser la fonction enumerate()\n",
    "# La fonction enumerate() permet d'accéder simultanément à l'index et à la valeur.\n",
    "# Retourne chacun des index et son caractère associé\n",
    "for index, value in enumerate(chaine): print(index, value)"
   ]
  },
  {
   "cell_type": "markdown",
   "metadata": {},
   "source": [
    "## Conversions"
   ]
  },
  {
   "cell_type": "markdown",
   "metadata": {},
   "source": [
    "### Conversion en chaîne de caractères avec la fonction *str()*"
   ]
  },
  {
   "cell_type": "code",
   "execution_count": null,
   "metadata": {},
   "outputs": [],
   "source": [
    "# Un premier exemple avec un entier\n",
    "nombre = 123\n",
    "chaine = str(nombre)\n",
    "\n",
    "print(nombre); print(type(nombre))\n",
    "print(chaine); print(type(chaine))\n",
    "\n",
    "\n",
    "print('-'*50)\n",
    "\n",
    "# Le même principe s'applique aussi aux réels...\n",
    "nombre = 3.1416\n",
    "chaine = str(nombre)\n",
    "\n",
    "print(nombre); print(type(nombre))\n",
    "print(chaine); print(type(chaine))\n",
    "\n",
    "\n",
    "print('-'*50)\n",
    "\n",
    "# Pour les booléens, seule la chaine vide est convertie à 'False', tout le reste à 'True'\n",
    "chaine1, chaine2, chaine3, chaine4 = '', '0', 'False', 'abc'\n",
    "print(bool(chaine1)); print(bool(chaine2));print(bool(chaine3));print(bool(chaine4))"
   ]
  },
  {
   "cell_type": "code",
   "execution_count": null,
   "metadata": {},
   "outputs": [],
   "source": [
    "# Pour les structures composées...\n",
    "lst = [1, 2, 3]\n",
    "tpl = (1, 2, 3)\n",
    "st  = {1, 2, 3}\n",
    "dic = {'un':1, 'deux':2, 'trois':3}\n",
    "\n",
    "# La fonction str() retourne une chaîne de caractères,\n",
    "# même si visuellement ce n'est pas facile à distinguer\n",
    "print(str(lst), end=' -> '); print(type(str(lst)))\n",
    "print(str(tpl), end=' -> '); print(type(str(tpl)))\n",
    "print(str(st) , end=' -> '); print(type(str(st)))\n",
    "print(str(dic), end=' -> '); print(type(str(dic)))\n",
    "\n",
    "# Notez comment les caractères ont étés intégrés...\n",
    "print(str(lst)[0])"
   ]
  },
  {
   "cell_type": "markdown",
   "metadata": {},
   "source": [
    "### Conversions à partir d'une chaîne de caractères"
   ]
  },
  {
   "cell_type": "code",
   "execution_count": null,
   "metadata": {},
   "outputs": [],
   "source": [
    "# Les conversiosn se font à l'aide des constructeurs respectifs des structures de données en question.\n",
    "# Attention, toutes les chaînes ne sont pas convertibles vers tous les types de données!\n",
    "\n",
    "\n",
    "# Quelques exemples...\n",
    "\n",
    "# 1. bool() accepte une chaîne 'True', 'False', '1', '0'\n",
    "chaine = 'True'\n",
    "print(bool(chaine))\n",
    "\n",
    "# 2. int() n'accepte que des représentations d'entiers en caractères\n",
    "chaine = '-123'\n",
    "print(int(chaine))\n",
    "\n",
    "# 3. même logique pour float(), mais avec les réels...\n",
    "chaine = '123.0'\n",
    "print(float(chaine))\n",
    "\n",
    "# 4. Chanque caractère de la chaîne est un élément de liste distinc avec list()\n",
    "chaine = 'abc'\n",
    "print(list(chaine))\n",
    "\n",
    "# 5. Même logique avec tuple()\n",
    "chaine = 'abc'\n",
    "print(tuple(chaine))\n",
    "\n",
    "# 6. Ainsi qu'avec set()\n",
    "chaine = 'abcccc'\n",
    "print(set(chaine))\n",
    "\n",
    "# 7. Pour les dictionnaire, c'est plus compliqué puisqu'il faut fournir une clé et une valeur pour chaque item\n",
    "# On utilise la fonction zip() pour itérer sur 2+ collections simultanément.\n",
    "# Nous allons voir un peu plus tard la fonction zip(). Pour l'instant, c'est juste pour votre information.\n",
    "keys   = 'abc'\n",
    "values = 'xyz'\n",
    "print(dict(zip(keys, values)))"
   ]
  },
  {
   "cell_type": "markdown",
   "metadata": {},
   "source": [
    "## Caractères spéciaux"
   ]
  },
  {
   "cell_type": "code",
   "execution_count": null,
   "metadata": {},
   "outputs": [],
   "source": [
    "# EN CONSTRUCTION!\n",
    "\n",
    "# Saut de ligne ('enter'); \\n\n"
   ]
  },
  {
   "cell_type": "markdown",
   "metadata": {},
   "source": [
    "### Échappement des caractères spéciaux"
   ]
  },
  {
   "cell_type": "code",
   "execution_count": null,
   "metadata": {},
   "outputs": [],
   "source": [
    "# D'abord, un contre-exemple.\n",
    "# La chaine suivante est affectée à une variable à l'aide de doubles guilemets pour éviter les conflits avec les appostrophes.\n",
    "chaine = \"J'aime l'hiver!\"\n",
    "print(chaine)\n",
    "\n",
    "# La barre oblique inversée (backslash) '\\' permet à certains caractères spéciaux\n",
    "# 'd'échapper' à leur sens spécial en programmation et de revenir à leur sens littéral.\n",
    "# La barre n'apparait pas dans le résultat final.\n",
    "chaine = 'J\\'aime l\\'hiver!'\n",
    "print(chaine)\n",
    "chaine = \"J'ai entendu un grand \\\"Boom!\\\" et puis plus rien.\"\n",
    "print(chaine)"
   ]
  },
  {
   "cell_type": "markdown",
   "metadata": {},
   "source": [
    "### Chaînes brutes (*raw string, aka a-string*)"
   ]
  },
  {
   "cell_type": "code",
   "execution_count": null,
   "metadata": {},
   "outputs": [],
   "source": [
    "# Un problème avec l'utilisation de la barre oblique inversée pour l'échappement des caractères...\n",
    "chaine = 'C:\\Windows\\fichier.txt'\n",
    "print(chaine)\n",
    "\n",
    "# On remédie au problème en 'échappant' la barre oblique inversée elle-même...\n",
    "# ...mais pas très élégant et difficile à implémenter.\n",
    "chaine = 'C:\\Windows\\\\fichier.txt'\n",
    "print(chaine)\n",
    "\n",
    "# Solution plus élégante: les chaines brutes (raw). Elle inhibent le pouvoir d'échappement des barres obliques inversées...\n",
    "# Pour ...chaîne brute, on ajoute un 'r' devant la chaîne.\n",
    "chaine = r'C:\\Windows\\fichier.txt'\n",
    "print(chaine)"
   ]
  },
  {
   "cell_type": "markdown",
   "metadata": {},
   "source": [
    "## Encodage"
   ]
  },
  {
   "cell_type": "code",
   "execution_count": null,
   "metadata": {},
   "outputs": [],
   "source": [
    "# En construction..."
   ]
  }
 ],
 "metadata": {
  "kernelspec": {
   "display_name": "Python 3",
   "language": "python",
   "name": "python3"
  },
  "language_info": {
   "codemirror_mode": {
    "name": "ipython",
    "version": 3
   },
   "file_extension": ".py",
   "mimetype": "text/x-python",
   "name": "python",
   "nbconvert_exporter": "python",
   "pygments_lexer": "ipython3",
   "version": "3.7.6"
  }
 },
 "nbformat": 4,
 "nbformat_minor": 4
}
