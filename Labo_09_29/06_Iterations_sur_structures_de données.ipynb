{
 "cells": [
  {
   "cell_type": "markdown",
   "metadata": {},
   "source": [
    "# Python\n",
    "\n",
    "**INF8212 - Introduction aux systèmes informatiques**\n",
    "\n",
    "[Mathieu Lemieux](mailto:lemieux.mathieu@courrier.uqam.ca) @ Université du Québec à Montréal (Automne 2020)"
   ]
  },
  {
   "cell_type": "markdown",
   "metadata": {},
   "source": [
    "## Itération sur une liste ou un tuple"
   ]
  },
  {
   "cell_type": "code",
   "execution_count": null,
   "metadata": {},
   "outputs": [],
   "source": [
    "# Les éléments d'une listes ou d'un tuple ont un index (leur position) et une valeur (le contenu à cette position).\n",
    "\n",
    "\n",
    "# Soit:\n",
    "friends = ['Sabrina', 'David', 'Rachel']\n",
    "\n",
    "\n",
    "# Pour obtenir les valeurs uniquement.\n",
    "# La variable 'friend' reçoit le contenu de la liste 'friends' à la position correspondante selon l'itération\n",
    "for friend in friends:\n",
    "    print(friend)\n",
    "\n",
    "      \n",
    "print('-'*50)\n",
    "# Pour obtenir les indexes seulement.\n",
    "# La variable 'i' reçoit les nombres de 0 jusqu'à len(friends)-1\n",
    "for i in range(len(friends)):\n",
    "    print(i)\n",
    "\n",
    "\n",
    "print('-'*50)\n",
    "# Pour obtenir les valeurs ET les indexes... fonction enumerate()\n",
    "# Ici il faut prévoir 2 variables pour recevoir le contenu de 'friends': la 1ere pour l'index, la 2e pour la valeur\n",
    "for index, value in enumerate(friends):\n",
    "    print(index, value, sep='. ')\n",
    "\n",
    "    \n",
    "print('-'*50)\n",
    "# Fonctionne aussi, mais 'non-Pythonic'... La plus part du temps on peut utiliser enumerate(), c'est plus simple.\n",
    "i=0\n",
    "while i < len(friends):\n",
    "    print(i, friends[i], sep='. ')\n",
    "    i += 1"
   ]
  },
  {
   "cell_type": "markdown",
   "metadata": {},
   "source": [
    "## Itération sur un dictionnaire"
   ]
  },
  {
   "cell_type": "code",
   "execution_count": null,
   "metadata": {},
   "outputs": [],
   "source": [
    "# Les éléments d'un dictionnaire n'ont pas d'index; on utilise plutôt la clé pour accéder à un élément.\n",
    "# Lors d'une itération, il n'y a pas un ordre d'apparition prévisible des éléments\n",
    "\n",
    "\n",
    "# Soit:\n",
    "myDict = {'Superman': 'Clark Kent', 'Hulk': 'Robert Bruce Banner'}\n",
    "\n",
    "\n",
    "\n",
    "# La clé seulement\n",
    "for key in myDict:\n",
    "    print(key)\n",
    "    \n",
    "    \n",
    "print('-'*50)\n",
    "# La valeur seulement\n",
    "for value in myDict.values():\n",
    "    print(value)\n",
    "\n",
    "\n",
    "print('-'*50)\n",
    "# La clé et la valeur.\n",
    "# Dans un tuple car une seule variable 'item' pour recevoir les deux valeurs\n",
    "for item in myDict.items():\n",
    "    print(item)\n",
    "\n",
    "\n",
    "print('-'*50)\n",
    "# La clé et la valeur. \n",
    "# La clé et la valeur déballées (unpacked) séparément dans 'key' et 'value' respectivement\n",
    "for key, value in myDict.items():\n",
    "    print(key, value, sep=' <--> ')"
   ]
  }
 ],
 "metadata": {
  "kernelspec": {
   "display_name": "Python 3",
   "language": "python",
   "name": "python3"
  },
  "language_info": {
   "codemirror_mode": {
    "name": "ipython",
    "version": 3
   },
   "file_extension": ".py",
   "mimetype": "text/x-python",
   "name": "python",
   "nbconvert_exporter": "python",
   "pygments_lexer": "ipython3",
   "version": "3.7.6"
  }
 },
 "nbformat": 4,
 "nbformat_minor": 4
}
