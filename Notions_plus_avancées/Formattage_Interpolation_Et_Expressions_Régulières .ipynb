{
 "cells": [
  {
   "cell_type": "markdown",
   "metadata": {},
   "source": [
    "# Python\n",
    "\n",
    "**INF8212 - Introduction aux systèmes informatiques**\n",
    "\n",
    "[Mathieu Lemieux](mailto:lemieux.mathieu@courrier.uqam.ca) @ Université du Québec à Montréal (Automne 2020)"
   ]
  },
  {
   "cell_type": "markdown",
   "metadata": {},
   "source": [
    "## 1. Formattage et Interpolation (*String formating*)\n",
    "\n",
    "Voir la documentation officielle [ici](https://docs.python.org/3/tutorial/inputoutput.html#fancier-output-formatting)"
   ]
  },
  {
   "cell_type": "markdown",
   "metadata": {},
   "source": [
    "### Méthodes *upper()*, *lower()*, *capitalize()*"
   ]
  },
  {
   "cell_type": "code",
   "execution_count": null,
   "metadata": {},
   "outputs": [],
   "source": [
    "chaine1 = 'Bioinformatique'\n",
    "chaine2 = 'abc'\n",
    "\n",
    "print( chaine1.upper() )\n",
    "print( chaine1.lower() )\n",
    "print( chaine2.capitalize() )\n",
    "\n",
    "print( chaine1.upper() )"
   ]
  },
  {
   "cell_type": "markdown",
   "metadata": {},
   "source": [
    "### Méthode *format()*\n",
    "\n",
    "Plus d'exemples dans [cet article](https://pyformat.info/)."
   ]
  },
  {
   "cell_type": "code",
   "execution_count": null,
   "metadata": {},
   "outputs": [],
   "source": [
    "prenom      = 'Ava'\n",
    "nom         = 'Lovelace'\n",
    "titreEmploi = 'programmeuse'\n",
    "\n",
    "\n",
    "# 1. L'ordre d'insertion suit l'index de façon implicite.\n",
    "msg = 'Mon nom est {} {}, je suis {}'.format(prenom, nom.upper(), titreEmploi)\n",
    "print('1.', msg)\n",
    "\n",
    "# 2. Même exemple, déconstruit\n",
    "chaine    = 'Mon nom est {} {}, je suis {}'\n",
    "variables = (prenom, nom.upper(), titreEmploi)\n",
    "msg       = chaine.format(*variables) # '*' permet la séparation (unpacking) d'une série (tuple/list/string)\n",
    "print('2.', msg)\n",
    "\n",
    "# 3. En utilisant explicitement les indexes, on peut changer l'ordre et/ou réutiliser une variable\n",
    "msg = 'Mon nom est {0} {1}, je suis {2}. Appelez-moi {0}!'.format(prenom, nom.upper(), titreEmploi)\n",
    "print('3.', msg)\n",
    "\n",
    "# 4. Si l'on veut utiliser des noms de variable... on doit faire les affectations\n",
    "msg = 'Mon nom est {prenomx} {nom}, je suis {titreEmploi}'.format(prenom=prenom, nom=nom.upper(), titreEmploi=titreEmploi)\n",
    "print('4.', msg)\n",
    "\n",
    "# 5. Regarder ce que l'on peut faire avec un dictionnaire!\n",
    "personne = {'prenom':'Guido', 'nom':'van Rossum', 'titreEmploi':'programmeur', 'hobby':'éleveur de serpent'}\n",
    "msg      = 'Mon nom est {prenom} {nom}, je suis {titreEmploi}'.format(**personne) # '**' spéare un dictionnaire (clé/valeur)\n",
    "print('5.', msg)\n",
    "\n",
    "\n",
    "print('-'*50)\n",
    "# 6. Pour info, voici la vieille formulation avant 'format()', dépréciée...\n",
    "msg = 'Mon nom est %s %s, je suis %s' % (prenom, nom.upper(), titreEmploi)\n",
    "print('6.', msg)"
   ]
  },
  {
   "cell_type": "markdown",
   "metadata": {},
   "source": [
    "### Expressions formatées littérales (*Formatted String Literals* OU *f-string*)\n",
    "À partir de Python 3.6 on peut utiliser la forme suivante: un ***f*** ou ***F*** devant la chaîne et des ***{ }*** pour l'interpolation de variables ou d'expressions."
   ]
  },
  {
   "cell_type": "code",
   "execution_count": null,
   "metadata": {},
   "outputs": [],
   "source": [
    "prenom      = 'Ava'\n",
    "nom         = 'Lovelace'\n",
    "titreEmploi = 'programmeuse'\n",
    "\n",
    "msg = f\"Mon nom est {prenom} {nom.upper()}, je suis {titreEmploi}, j'ai écrit mon 1er programme il y a {2020-1842} ans.\"\n",
    "print(msg)"
   ]
  },
  {
   "cell_type": "markdown",
   "metadata": {},
   "source": [
    "## 2. Recherche de motifs avec les <u>Expressions régulières</u> (regex)\n",
    "\n",
    "Les expressions régulières permettent de rechercher un motif dans une chaîne. Documentation officielle [ici](https://docs.python.org/3/howto/regex.html).\n",
    "\n",
    "Nécessite l'importation du module standard ***re***."
   ]
  },
  {
   "cell_type": "code",
   "execution_count": null,
   "metadata": {},
   "outputs": [],
   "source": [
    "# Juste un court exemple.\n",
    "\n",
    "import re\n",
    "\n",
    "chaine = \"Le ciel bleu\"\n",
    "motif  = \"^Le.*bleu$\"\n",
    "\n",
    "if re.search(motif, chaine): print(\"Trouvé!\")"
   ]
  }
 ],
 "metadata": {
  "kernelspec": {
   "display_name": "Python 3",
   "language": "python",
   "name": "python3"
  },
  "language_info": {
   "codemirror_mode": {
    "name": "ipython",
    "version": 3
   },
   "file_extension": ".py",
   "mimetype": "text/x-python",
   "name": "python",
   "nbconvert_exporter": "python",
   "pygments_lexer": "ipython3",
   "version": "3.7.6"
  }
 },
 "nbformat": 4,
 "nbformat_minor": 4
}
