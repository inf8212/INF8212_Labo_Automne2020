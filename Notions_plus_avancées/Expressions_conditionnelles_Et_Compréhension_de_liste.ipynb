{
 "cells": [
  {
   "cell_type": "markdown",
   "metadata": {},
   "source": [
    "# Python\n",
    "\n",
    "**INF8212 - Introduction aux systèmes informatiques**\n",
    "\n",
    "[Mathieu Lemieux](mailto:lemieux.mathieu@courrier.uqam.ca) @ Université du Québec à Montréal (Automne 2020)"
   ]
  },
  {
   "cell_type": "markdown",
   "metadata": {},
   "source": [
    "# Expressions conditionnelles (*Ternary operator*)\n",
    "\n",
    "Les expressions conditionnelles permettent d'exprimer une structure conditionnelle sur 1 ligne.\n",
    "\n",
    "Forme de base : [Valeur si vrai] **if** [Condition] **else** [Valeur si faux]"
   ]
  },
  {
   "cell_type": "code",
   "execution_count": null,
   "metadata": {},
   "outputs": [],
   "source": [
    "a, b, c = False, False, True\n",
    "\n",
    "# Forme de base\n",
    "print( 1 if a else 2 )\n",
    "\n",
    "# On peut en imbriquer plusieurs...\n",
    "print( 1 if a else 2 if b else 3             )\n",
    "print( 1 if a else 2 if b else 3 if c else 4 )"
   ]
  },
  {
   "cell_type": "code",
   "execution_count": null,
   "metadata": {},
   "outputs": [],
   "source": [
    "# Changer la valeur affectée à la variable 'a' pour voir les changements...\n",
    "a = 1\n",
    "\n",
    "# 1. Autre exemple.\n",
    "print('petit' if a<=0 else 'moyen' if 0<a<=1 else 'grand' if 1<a<=2 else 'énorme')\n",
    "\n",
    "# 2. On peut ajouter des parenthèses si l'on préfère...\n",
    "print('petit' if a<=0 else ('moyen' if 0<a<=1 else ('grand' if 1<a<=2 else 'énorme')))\n",
    "\n",
    "# 3. Équivalent à l'aide d'un bloc conditionnel...\n",
    "if       a <= 0: print('petit' )\n",
    "elif 0 < a <= 1: print('moyen' )\n",
    "elif 1 < a <= 2: print('grand' )\n",
    "else           : print('énorme')"
   ]
  },
  {
   "cell_type": "markdown",
   "metadata": {},
   "source": [
    "## Compréhensions de listes (*List comprehension*)\n",
    "\n",
    "Souvent, on veut créer une liste en tiérant sur une suite de données. On peut utiliser les **Compréhensions de liste** pour créer ces listes de façon consise.\n",
    "\n",
    "Domunentation python [ici](https://docs.python.org/3/tutorial/datastructures.html#list-comprehensions)"
   ]
  },
  {
   "cell_type": "code",
   "execution_count": null,
   "metadata": {},
   "outputs": [],
   "source": [
    "# 1. D'abord un exemple simple, SANS compréhension de liste.\n",
    "lst = []\n",
    "for i in range(10):\n",
    "    lst.append(i**2) # Note, range(10) = range(0, 10) = génère une suite de 0 à 10-1\n",
    "print(lst)\n",
    "\n",
    "# 2. Même résultat, avec Compréhension\n",
    "x = [i**2 for i in range(10)]\n",
    "print(x)"
   ]
  },
  {
   "cell_type": "code",
   "execution_count": null,
   "metadata": {},
   "outputs": [],
   "source": [
    "# Fonctionne aussi avec les ensembles (set)\n",
    "a = {i**2 for i in range(10)}\n",
    "print(a); print(type(a))"
   ]
  },
  {
   "cell_type": "code",
   "execution_count": null,
   "metadata": {},
   "outputs": [],
   "source": [
    "# Ainsi qu'avec les dictionnaires\n",
    "\n",
    "# 1. Ex\n",
    "a = {i:j for i, j in zip(('a', 'b'), (1, 2))} # Rappel, la fonction zip() permet d'itérer sur 2 collections à la fois\n",
    "\n",
    "print(a); print(type(a))\n",
    "\n",
    "\n",
    "# 2. Autre exemple\n",
    "tpl = ('Zéro', 'Un', 'Deux', 'Trois')\n",
    "a   = {i:j**2 for i, j in zip(tpl, range(len(tpl)))}\n",
    "\n",
    "print(a); print(type(a))"
   ]
  },
  {
   "cell_type": "markdown",
   "metadata": {},
   "source": [
    "### Ajout de condition"
   ]
  },
  {
   "cell_type": "code",
   "execution_count": null,
   "metadata": {},
   "outputs": [],
   "source": [
    "# Ex.\n",
    "a = [i**2 for i in range(10) if not i%2] # 'if not i%2' permet de vérifier s'il y a un reste à la division de i par 2\n",
    "print(a)\n",
    "\n",
    "# Autre exemple. ATTENTION: Notez bien l'ordre if-else-for !!!\n",
    "a = [i**2 if i!=3 else 'neuf' for i in range(10)]\n",
    "print(a)"
   ]
  }
 ],
 "metadata": {
  "kernelspec": {
   "display_name": "Python 3",
   "language": "python",
   "name": "python3"
  },
  "language_info": {
   "codemirror_mode": {
    "name": "ipython",
    "version": 3
   },
   "file_extension": ".py",
   "mimetype": "text/x-python",
   "name": "python",
   "nbconvert_exporter": "python",
   "pygments_lexer": "ipython3",
   "version": "3.7.6"
  }
 },
 "nbformat": 4,
 "nbformat_minor": 4
}
