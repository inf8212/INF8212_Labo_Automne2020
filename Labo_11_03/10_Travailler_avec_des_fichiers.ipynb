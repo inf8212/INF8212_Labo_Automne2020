{
 "cells": [
  {
   "cell_type": "markdown",
   "metadata": {},
   "source": [
    "# Python\n",
    "\n",
    "**INF8212 - Introduction aux systèmes informatiques**\n",
    "\n",
    "[Mathieu Lemieux](mailto:lemieux.mathieu@courrier.uqam.ca) @ Université du Québec à Montréal (Automne 2020)"
   ]
  },
  {
   "cell_type": "markdown",
   "metadata": {},
   "source": [
    "# Travailler avec des fichiers\n",
    "\n",
    "Voir la documentation officielle [ici](https://docs.python.org/3/tutorial/inputoutput.html#reading-and-writing-files)"
   ]
  },
  {
   "cell_type": "markdown",
   "metadata": {},
   "source": [
    "## 1. Ouverture / fermeture des fichiers texte\n",
    "\n",
    "Fonction ***open()*** et méthode ***close()***."
   ]
  },
  {
   "cell_type": "markdown",
   "metadata": {},
   "source": [
    "*Forme générale* : **open(** file, mode='r', buffering=-1, encoding=None, errors=None, newline=None, closefd=True, opener=None **)**"
   ]
  },
  {
   "cell_type": "markdown",
   "metadata": {},
   "source": [
    "Le premier argument est le chemin d'accès du fichier à ouvrir, le second spécifie le mode d'ouverture du fichier; en lecture (r=read) par défaut.\n",
    "\n",
    "*Modes d'ouverture* : r (read), w (write), a (append), x (create). Voir les définitions [ici](https://www.w3schools.com/python/ref_func_open.asp)"
   ]
  },
  {
   "cell_type": "code",
   "execution_count": null,
   "metadata": {},
   "outputs": [],
   "source": [
    "# Ouverture\n",
    "f = open('./test/test.txt', mode='r')  # <-- Important de comprendre comment fonctionne les chemin d'accès de fichier!!\n",
    "\n",
    "# Do some stuff...\n",
    "\n",
    "# Fermeture. Les fichiers non-fermés restent actifs tant que le code est en cours d'exécution (=bad!).\n",
    "f.close()\n",
    "\n",
    "# ATTENTION!\n",
    "# Vous allez nécessairement obtenir une erreur si le fichier en question n'existe pas...\n",
    "# Exécutez ce code sur votre machine et créez un fichier .txt dans le bon dossier!"
   ]
  },
  {
   "cell_type": "markdown",
   "metadata": {},
   "source": [
    "### Vérifier le chemin d'accès *a priori*\n",
    "\n",
    "Le module standard ***os*** facilite les interactions avec le système d'exploitation.\n",
    "\n",
    "La fonction ***os.path.exists()*** permet de vérifier *a priori* le chemin d'accès à un fichier."
   ]
  },
  {
   "cell_type": "code",
   "execution_count": null,
   "metadata": {},
   "outputs": [],
   "source": [
    "import os\n",
    "\n",
    "fichier = './test/test.txt'\n",
    "\n",
    "if os.path.exists(fichier):\n",
    "    f = open(fichier)\n",
    "    print('Tout va bien!')\n",
    "    f.close()\n",
    "else:\n",
    "    print('Fichier inaccessible...')"
   ]
  },
  {
   "cell_type": "markdown",
   "metadata": {},
   "source": [
    "### *The pythonic way of programming: ask for forgiveness, not permission!*\n",
    "\n",
    "Dans le code précédent, rien ne garantit qu'un fichier ne devienne innaccessible entre l'exécution de **os.path.exist()** et **open()**...\n",
    "\n",
    "Récupérer une exception (*i.e.* une erreur) avec les blocks ***try / except / finally***.\n",
    "\n",
    "Pour plus de détail sur la gestion des erreurs, voir la documentation officielle ici : [Erreurs et exceptions](https://docs.python.org/fr/3/tutorial/errors.html)."
   ]
  },
  {
   "cell_type": "code",
   "execution_count": null,
   "metadata": {},
   "outputs": [],
   "source": [
    "fichier = './test/test.txt'\n",
    "\n",
    "try:\n",
    "    f = open(fichier)\n",
    "    print('Tout va bien!')\n",
    "    f.close()\n",
    "except:\n",
    "    print('Erreur rencontrée...')\n",
    "finally:\n",
    "    print(\"Dans tous les cas, cette instruction s'exécute...\")"
   ]
  },
  {
   "cell_type": "markdown",
   "metadata": {},
   "source": [
    "### Compatibilité des chemins d'accès sous Linux et Windows avec ***Path()***\n",
    "\n",
    "La fonction ***Path()*** permet de formater automatiquement le chemin d'accès selon le système utilisé.\n",
    "\n",
    "C'est une bonne pratique: [voici un article qui explique pourquoi](https://medium.com/@ageitgey/python-3-quick-tip-the-easy-way-to-deal-with-file-paths-on-windows-mac-and-linux-11a072b58d5f).\n",
    "\n",
    "Il faut d'abord importer le module standard **pathlib**.\n"
   ]
  },
  {
   "cell_type": "code",
   "execution_count": null,
   "metadata": {},
   "outputs": [],
   "source": [
    "# Ce code fonctionne correctement sous Linux ET Windows.\n",
    "# Attention! Pour voir l'impact réel, il faut exécuter à l'extérieur des Notebooks car ceux-ci ajoutent un peu de magie!\n",
    "\n",
    "from pathlib import Path # Inutile de tout importer, on n'a besoin que de Path()...\n",
    "\n",
    "fichier = './test/test.txt'\n",
    "\n",
    "try:\n",
    "    f = open(Path(fichier))\n",
    "    print('Tout va bien!')\n",
    "    f.close()\n",
    "except:\n",
    "    print('erreur...')"
   ]
  },
  {
   "cell_type": "markdown",
   "metadata": {},
   "source": [
    "### Gestionnaire de contexte ***with***\n",
    "\n",
    "L'instruction ***with*** permet de contextualiser l'ouverture et la fermeture des fichiers: \n",
    "le fichier est fermé automatiquement à la fin du bloc."
   ]
  },
  {
   "cell_type": "code",
   "execution_count": null,
   "metadata": {},
   "outputs": [],
   "source": [
    "from pathlib import Path\n",
    "\n",
    "fichier ='./test/test.txt'\n",
    "\n",
    "try:\n",
    "    with open(Path(fichier)) as f:\n",
    "        # Confirmons que le fichier et bel et bien ouvert...\n",
    "        if not f.closed: print('Ouverture de fichier confirmé!')\n",
    "            \n",
    "    # Maintenant que nous sommes sorti du block 'with', vérifions si le fichier est toujours ouvert...\n",
    "    if f.closed: print('Fichier maintenant fermé!')\n",
    "    else       : print('Fichier toujours ouvert!')\n",
    "except:\n",
    "    pass # 'pass' permet de laisser un bloc vide sans générer d'erreur..."
   ]
  },
  {
   "cell_type": "markdown",
   "metadata": {},
   "source": [
    "### Finalement!"
   ]
  },
  {
   "cell_type": "code",
   "execution_count": null,
   "metadata": {},
   "outputs": [],
   "source": [
    "# Bref, voici la forme générale que je privilégie pour travailler avec des fichiers!\n",
    "\n",
    "from pathlib import Path\n",
    "\n",
    "fichier = Path('./test/test.txt')\n",
    "\n",
    "try:\n",
    "    with open(fichier) as f:\n",
    "        # Do some stuff..\n",
    "        pass\n",
    "except:\n",
    "    # Gérer les exception/erreurs\n",
    "    print('err')"
   ]
  },
  {
   "cell_type": "markdown",
   "metadata": {},
   "source": [
    "## 2. Créer un fichier texte"
   ]
  },
  {
   "cell_type": "code",
   "execution_count": null,
   "metadata": {},
   "outputs": [],
   "source": [
    "# MODES 'w', 'a' et 'x'\n",
    "# Le mode 'w' permet d'accéder à un fichier en mode écriture. Si existe déjà, SON CONTENU SERA EFFACÉ! Sinon il sera créé.\n",
    "# Le mode 'a' conserve le contenu d'un fichier existant et débute l'écriture à partir de la fin.\n",
    "# Le mode 'x' génère une erreur si le fichier existe déjà.\n",
    "\n",
    "from pathlib import Path\n",
    "from random  import random\n",
    "\n",
    "fichier = Path(f'./test/test{random()}.txt') # N'existe pas encore... <- nom de fichier généré au hasard!\n",
    "                                             # Ici on a un exemple d'interpolation avec f'...{variable}...'\n",
    "\n",
    "try:\n",
    "    with open(fichier, mode='w') as f:\n",
    "        # Do some stuff..\n",
    "        print('ok')\n",
    "except:\n",
    "    # Gérer les exception/erreurs\n",
    "    print('not ok')\n"
   ]
  },
  {
   "cell_type": "markdown",
   "metadata": {},
   "source": [
    "## 3. Lire le contenu d'un fichier texte"
   ]
  },
  {
   "cell_type": "code",
   "execution_count": null,
   "metadata": {},
   "outputs": [],
   "source": [
    "# MODE 'r'\n",
    "\n",
    "from pathlib import Path\n",
    "\n",
    "fichier ='./test/test.txt'\n",
    "\n",
    "\n",
    "# 1. Itération sur chaque ligne avec une boucle\n",
    "try:\n",
    "    with open(fichier, 'r') as f:\n",
    "        for l in f:\n",
    "            print(l, end=\"\") # Par défaut, end='\\n'\n",
    "except:\n",
    "    print('err...')\n",
    "\n",
    "\n",
    "print('\\n', '-'*50)\n",
    "\n",
    "# 2. Charger tout le contenu avec la méthode read()\n",
    "try:\n",
    "    with open(fichier, 'r') as f:\n",
    "        print(f.read())\n",
    "except:\n",
    "    print('err...')\n",
    "\n",
    "\n",
    "print('-'*50)\n",
    "\n",
    "# 3. Charger tout le contenu dans une liste avec la méthode readlines()\n",
    "try:\n",
    "    with open(fichier, 'r') as f:\n",
    "        print(f.readlines())\n",
    "except:\n",
    "    print('err...')\n",
    "\n",
    "\n",
    "print('-'*50)\n",
    "\n",
    "# 4. Itération sur chaque ligne avec la méthode-générateur readline()\n",
    "try:\n",
    "    with open(fichier, 'r') as f:\n",
    "        print(f.readline())\n",
    "        print(f.readline())\n",
    "        print(f.readline()[:7]) # Sélectionner seulement les 7 premiers caractères...\n",
    "except:\n",
    "    print('err...')"
   ]
  },
  {
   "cell_type": "markdown",
   "metadata": {},
   "source": [
    "## 4. Écrire dans un fichier texte"
   ]
  },
  {
   "cell_type": "code",
   "execution_count": null,
   "metadata": {},
   "outputs": [],
   "source": [
    "# MODES 'w', 'a' et 'x'...\n",
    "\n",
    "from pathlib import Path\n",
    "from random  import random\n",
    "\n",
    "fichier1 = Path(f'./test/test{random()}.txt')\n",
    "fichier2 = Path('./test/test.txt')\n",
    "\n",
    "\n",
    "# 1. Ecrire dans un fichier avec la fonction print() en passant l'objet de fichier au paramètre 'file'\n",
    "try:\n",
    "    with open(fichier1, 'w') as f:        # Ici en mode 'write'\n",
    "        print (\"¡Ay, caramba!\", file=f)\n",
    "except:\n",
    "    print('err...')\n",
    "\n",
    "\n",
    "# 2. Écrire dans un fichier avec la méthode write()\n",
    "try:\n",
    "    with open(fichier2, 'a') as f:        # Ici en mode 'append' -> On conserve le contenu!\n",
    "        f.write(\"\\nUne autre ligne\")\n",
    "except:\n",
    "    print('err...')"
   ]
  }
 ],
 "metadata": {
  "kernelspec": {
   "display_name": "Python 3",
   "language": "python",
   "name": "python3"
  },
  "language_info": {
   "codemirror_mode": {
    "name": "ipython",
    "version": 3
   },
   "file_extension": ".py",
   "mimetype": "text/x-python",
   "name": "python",
   "nbconvert_exporter": "python",
   "pygments_lexer": "ipython3",
   "version": "3.7.6"
  }
 },
 "nbformat": 4,
 "nbformat_minor": 4
}
