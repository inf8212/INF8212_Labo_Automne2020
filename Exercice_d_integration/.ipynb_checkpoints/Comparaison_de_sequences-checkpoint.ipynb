{
 "cells": [
  {
   "cell_type": "markdown",
   "metadata": {},
   "source": [
    "# Exercice d'intégration\n",
    "## DESS Bioinformatique UQÀM\n",
    "### INF8212 - Intrioduction aux systèmes informatiques (Automne 2020)"
   ]
  },
  {
   "cell_type": "markdown",
   "metadata": {},
   "source": [
    "# Comparaison de séquences\n",
    "\n",
    "En biologie, les macromolécules d'intérêt sont des [**polymères**](https://en.wikipedia.org/wiki/Polymer), c'est-à-dire des molécules formées de sous-unités répétitives (leurs monomères). La structure primaire d'une macromolécule est la **séquence** ordonnée de ses monomères; il est possible de représenter cette séquence à l'aide d'une chaîne de caractères où chaque monomère est encodé par un caractère unique. \n",
    "\n",
    "les [**acides nucléiques**](https://en.wikipedia.org/wiki/Nucleic_acid_sequence) (ADN & ARN) et les [**protéines**](https://en.wikipedia.org/wiki/Protein_primary_structure) (ou polypeptides) sont les principales macromolécules traitées en bioinformatiques. Leur structure primaire étant porteuse d'information, il est important de pouvoir  **comparer ces séquences entre-elles**. Ces comparaisons peuvent entre-autres nous informer sur les **origines évolutives** de ces macromolécules et des organismes qui les produisent; nous auront plus tard l'occasion de revenir sur les différentes applications des comparaisons de séquences. Au besoin, retournez voir le système d'encodage utilisé pour les [**nucléotides**](https://en.wikipedia.org/wiki/Nucleotide#Abbreviation_codes_for_degenerate_bases) des acides nucléiques et les [**acides aminées**](https://en.wikipedia.org/wiki/Amino_acid#Table_of_standard_amino_acid_abbreviations_and_properties) des protéines.\n",
    "\n",
    "Pour cette série d'exercices, nous allons comparer les deux séquences d'ADN ci-dessous:"
   ]
  },
  {
   "cell_type": "code",
   "execution_count": null,
   "metadata": {},
   "outputs": [],
   "source": [
    "# Soit les deux séquences d'ADN suivantes\n",
    "s = 'GCTAGTTAGCGGATAGCGATCGTGCGAGTTATCGAGTTCGTAGTCGGATTA'\n",
    "t = 'GCTAGTTAGCGATCGTGCGAGTTATCGAGTTCGTAGGCATAGGTCGGATTA'\n",
    "\n",
    "\n",
    "# Exécutez cette cellule pour mettre en mémoire les variables s et t !"
   ]
  },
  {
   "cell_type": "markdown",
   "metadata": {},
   "source": [
    "## Distance de Hamming\n",
    "\n",
    "La **distance de Hamming** est une mesure de **différence** entre deux séquences de *même taille*. Elle consiste à comparer les deux séquences à chacune des position et à compter le nombre de positions pour lesquelles les caractères diffèrent. Écrivez une fonction qui retourne la distance de Hamming entre deux séquences. Quelles-sont, selon-vous, les inconvénients de cette mesure?"
   ]
  },
  {
   "cell_type": "code",
   "execution_count": null,
   "metadata": {},
   "outputs": [],
   "source": [
    "def hamming(s, t):   \n",
    "    \n",
    "    ##################\n",
    "    # VOTRE CODE ICI #\n",
    "    ##################\n",
    "    \n",
    "    return distance\n",
    "\n",
    "\n",
    "distance =  hamming(s, t)\n",
    "print(f'Distance de Hamming: {distance}')"
   ]
  },
  {
   "cell_type": "markdown",
   "metadata": {},
   "source": [
    "[Voir le code](./code/hamming.py)"
   ]
  },
  {
   "cell_type": "markdown",
   "metadata": {},
   "source": [
    "## Appariments\n",
    "\n",
    "En modifiant légèrement notre fonction, nous pourrions retourner la liste des positions plutôt qu'un décompte. Aussi, pourquoi ne pas se concentrer sur les **similarités** et considérer plutôt les positions pour lesquelles il y a **appariment** (***match***) des caractères? Inspirez-vous de la fonction précédente et écrivez une nouvelle fonction qui retourne une liste des positions appareillées entre deux séquences de même taille. Puisque nous comparons les séquences à des positions identiques, notre liste ne retournera qu'une seule position (l'index) pour chaque appariment."
   ]
  },
  {
   "cell_type": "code",
   "execution_count": null,
   "metadata": {},
   "outputs": [],
   "source": [
    "def appariments(s, t):\n",
    "    \n",
    "    ##################\n",
    "    # VOTRE CODE ICI #\n",
    "    ##################\n",
    "    \n",
    "    return positions\n",
    "\n",
    "\n",
    "positions =  appariments(s, t)\n",
    "print(f'Liste des positions appareillées: {positions}')"
   ]
  },
  {
   "cell_type": "markdown",
   "metadata": {},
   "source": [
    "[Voir le code](./code/appariments.py)"
   ]
  },
  {
   "cell_type": "markdown",
   "metadata": {},
   "source": [
    "## Alignement de séquences\n",
    "\n",
    "Un **alignement de séquences** est une comparaison de séquences monomère par monomère. Plusieurs formattages existent afin de mettre en valeurs les similitudes et les différences lors de l'affichage d'un alignement. On peut entre autres afficher l'une sous l'autre ces séquences pour en faire ressortir les similarités; c'est ce que nous ferons dans cet exercice. Dans la figure qui suit, le symbol `|` (*pipe*) a été ajouté vis-à-vis des monomères appareillés:\n",
    "\n",
    "```\n",
    "GCTAGTTAGCGGATAGCGATCGTGCGAGTTATCGAGTTCGTAGTCGGATTA\n",
    "|||||||||||           |      |    ||      |||||||||\n",
    "GCTAGTTAGCGATCGTGCGAGTTATCGAGTTCGTAGGCATAGGTCGGATTA\n",
    "\n",
    "```\n",
    "\n",
    "Écrivez une fonction qui affiche l'alignement de deux séquences comme montré ci-dessus. Utilisez la fonction précédente pour obtenir d'abord une liste des positions appareillées puis passez cette liste comme paramètre à votre fonction d'alignement, en plus des chaînes *s* et *t*. Exécutez-là et comparez vos résultats à ceux présentés. Selon vous, sommes-nous en train de passer à côté de quelque-chose?"
   ]
  },
  {
   "cell_type": "code",
   "execution_count": null,
   "metadata": {},
   "outputs": [],
   "source": [
    "def affichageAlignement(s, t, positions):\n",
    "    \n",
    "    ##################\n",
    "    # VOTRE CODE ICI #\n",
    "    ##################\n",
    "    \n",
    "        \n",
    "positions =  appariments(s, t)\n",
    "affichageAlignement(s, t, positions)"
   ]
  },
  {
   "cell_type": "markdown",
   "metadata": {},
   "source": [
    "[Voir le code](./code/affichageAlignement.py)\n",
    "\n",
    "[Exemple de code](./code/affichageAlignement_nbCarParLignes.py) avec gestion du nombre de caractères par lignes."
   ]
  },
  {
   "cell_type": "markdown",
   "metadata": {},
   "source": [
    "## Appariments étendus\n",
    "\n",
    "Les appariments affichées jusqu'ici sont restreints à ceux se trouvant à des positions identiques sur les deux séquences. Dans la pratique, on est aussi intéressé par les **similarités apparaissant à des positions différentes**.\n",
    "\n",
    "Écrivez une nouvelle fonction qui étend la recherche d'appariment à l'ensemble des positions et qui retourne une liste de ceux-ci. Cette fois, puisque les appariments ne sont plus nécessairement sur des positions identiques, les positions retournées devront être des paires de coordonnées *(i, j)*. Tenter d'optimiser la performance de votre code en évitant de chercher plus d'une fois une même suite de caractère sur une séquence. Conseils: les ensembles clé-valeur (dictionnaires en *python*) sont des structures de données toutes désignées pour cet exercice."
   ]
  },
  {
   "cell_type": "code",
   "execution_count": null,
   "metadata": {},
   "outputs": [],
   "source": [
    "def apparimentsEtendus(s, t):\n",
    "   \n",
    "    ##################\n",
    "    # VOTRE CODE ICI #\n",
    "    ##################\n",
    "    \n",
    "    return positions\n",
    "    \n",
    "        \n",
    "positions = apparimentsEtendus(s, t)\n",
    "print('Liste des positions:\\n', positions)\n",
    "print(f'Nombre de positions appareillées en considérant toutes les combinaisons: {len(positions)}')"
   ]
  },
  {
   "cell_type": "markdown",
   "metadata": {},
   "source": [
    "[Voir le code](./code/apparimentsEtendus.py)\n",
    "\n",
    "[Version naive](./code/apparimentsEtendus_naif.py), sans l'utilisation de dictionnaire."
   ]
  },
  {
   "cell_type": "markdown",
   "metadata": {},
   "source": [
    "## Tracé de points (*Dot plot*)\n",
    "\n",
    "Il serait difficile de visualiser efficacement l'alignement obtenu à l'aide de notre première fonction d'affichage. Puisque nous avons maintenant des paires de coordonnées, nous pourrions les utiliser pour créer un graphique de type un nuage de point (*Scatter Plot*; ou, puisqu'il s'agit de données discrètes, un ***tracé de points***, ou ***Dot Plot***). Importez la librairie [**matplotlib**](https://matplotlib.org/) et créez une fonction qui affiche dans un graphique les positions retournées par la fonction de l'exercice précédant. Si vous n'êtes pas familier avec cette librairie, allez voir cette [courte démonstration](./ressources/matplotlib_pyplot.ipynb).\n",
    "\n",
    "Exécutez maintenant cette fonction. Waw! Ça fait beaucoup de points! Selon vous, est-ce que tous les appariements affichés ont une réelle signification biologique?"
   ]
  },
  {
   "cell_type": "code",
   "execution_count": null,
   "metadata": {},
   "outputs": [],
   "source": [
    "from matplotlib import pyplot as plt\n",
    "\n",
    "def dotplot(positions):\n",
    "    \n",
    "    ##################\n",
    "    # VOTRE CODE ICI #\n",
    "    ##################\n",
    "\n",
    "\n",
    "positions = apparimentsEtendus(s, t)\n",
    "dotplot(positions)"
   ]
  },
  {
   "cell_type": "markdown",
   "metadata": {},
   "source": [
    "[Voir le code](./code/dotplot.py)"
   ]
  },
  {
   "cell_type": "markdown",
   "metadata": {},
   "source": [
    "##  *K-mers*\n",
    "\n",
    "Alors que nous nous inréressons surtout aux appariments pouvant être la conséquence d'une relation évolutive (**homologie**), certains des appariments affichés sur le graphique semblent plutôt être le fruit du hasard. Serait-il possible d'éliminer ce *bruit* en limitant l'affichage des appariements aux sous-chaînes d'une certaine taille? Voyez-vous à quoi correspondent ces sous-chaînes dans le graphique?\n",
    "\n",
    "Un **k-mer** est une sous-séquence de taille k (*i.e.* k caractères à l'intérieur d'une séquence, en respectant l'ordre). Afin de mettre l'emphase sur les correspondances d'intérêt, nous pouvons établir une taille minimale (**seuil *k***) des k-mers à considérer. Puisque nous ne tenons pas encore compte des substitutions et des indels (v. prochaine série d'exercices), ces sous-séquences sont en fait des sous-chaînes (caractères consécutifs à l'intérieur d'une séquence).\n",
    "\n",
    "Idéalement, on voudrait une fonction qui retourne, pour deux séquences de même taille, la liste des positions appareillées pour les k-mers de taille minimale k. Cet exercice est plus difficile que les précédents. Nous nous contenterons d'écrire une fonction qui reprend la liste des positions obtenues à l'aide de notre fonction des appariments étendus, puis qui regroupe ensemble les positions d'un même k-mer (les diagonales!) pour n'afficher que les positions de ceux dont la taille atteint ou surpasse le seuil spécifié (on choisi une valeur quelconque de *k*).\n",
    "\n",
    "Réutilisez ensuite la fonction d'affichage de l'exercice précédent (*Dot Plot*) pour afficher le nouvel alignement. Essayez différentes valeurs de k et choisissez celle qui vous semble la plus appropriée. Comment interprétez-vous ces résultats? Quelles-sont, selon-vous, les limites d'un tel alignement?"
   ]
  },
  {
   "cell_type": "code",
   "execution_count": null,
   "metadata": {},
   "outputs": [],
   "source": [
    "def seuil(toutesPositions, k):\n",
    "    \n",
    "    ##################\n",
    "    # VOTRE CODE ICI #\n",
    "    ##################\n",
    "            \n",
    "    return positions\n",
    "\n",
    "\n",
    "k = 7 # <- Choisissez une taille de k-mer\n",
    "toutesPositions = apparimentsEtendus(s, t)\n",
    "positions = seuil(toutesPositions, k)\n",
    "dotplot(positions)"
   ]
  },
  {
   "cell_type": "markdown",
   "metadata": {},
   "source": [
    "[Voir le code](./code/seuil.py)"
   ]
  },
  {
   "cell_type": "markdown",
   "metadata": {},
   "source": [
    "# Aperçu de la prochaine série d'exercices\n",
    "\n",
    "## Substitutions (*mismatch*) et indels (*gaps*)\n",
    "\n",
    "Jusqu'à présent nos alignements ne prennent en considération que les k-mers entièrement constitués d'appariments. Pour faciliter l'alignement de k-mers de grande taille, nous aimerions tolérer quelques mésappariments (***mismatch***), aussi appelés **substitutions** pour faire référence aux mécanismes évolutifs.\n",
    "\n",
    "L'évolution des macromolécules implique non seulement des substitutions mais également des pertes et des gains de monomères. L'**insertion** d'un caractère dans une séquence pouvant être représenté comme la **délétion** de ce caractère dans l'autre séquence; on parle donc d'**indel** (***gap***) pour faire référence à ce type de mutation. Les indels sont, par convention, généralement représentés par des ```-``` dans les séquences alignées. En outre, l'ajout d'indels dans nos alignements nous permettra de comparer des séquences de taille différentes!\n",
    "\n",
    "Pour ajouter la prise en compte des substitutions et des indels, nous devrons aussi introduire la notion de pointage. Le système de pointage (*score scheme*, faisant souvent aussi appel à une **matrice de subsistution**) permet de pénaliser les monomères non-appareillés dans les alignements de séquences. L'alignement sera considéré jusqu'à l'atteinte d'un certain score minimal (***threshold***).\n",
    "\n",
    "Dans la prochaine série d'exercices, nous verrons comment tenir compte des substitutions et des indels dans les comparaisons de séquences. Nous verrons entre-autres comment calculer un nouvel indicateur de distance: la **distance de Levenshtein**, qui est un cas simple de **distance d'édition**."
   ]
  },
  {
   "cell_type": "markdown",
   "metadata": {},
   "source": [
    "Auteur: [Mathieu Lemieux](mailto:mathieu@mathieulemieux.com), novembre 2020"
   ]
  }
 ],
 "metadata": {
  "kernelspec": {
   "display_name": "Python 3",
   "language": "python",
   "name": "python3"
  },
  "language_info": {
   "codemirror_mode": {
    "name": "ipython",
    "version": 3
   },
   "file_extension": ".py",
   "mimetype": "text/x-python",
   "name": "python",
   "nbconvert_exporter": "python",
   "pygments_lexer": "ipython3",
   "version": "3.7.6"
  }
 },
 "nbformat": 4,
 "nbformat_minor": 4
}
