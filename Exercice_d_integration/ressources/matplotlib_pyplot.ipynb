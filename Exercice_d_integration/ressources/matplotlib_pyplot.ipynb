{
 "cells": [
  {
   "cell_type": "markdown",
   "metadata": {},
   "source": [
    "# Courte démonstration de matplotlib"
   ]
  },
  {
   "cell_type": "code",
   "execution_count": null,
   "metadata": {},
   "outputs": [],
   "source": [
    "# ATTENTION! matplotlib n'est pas une librairie standard; on doit d'abord l'installer AVANT de pouvoir l'importer\n",
    "# Pour installer matplotlib avec l'installateur 'pip', exécutez la commande 'pip install matplotlib' dans un terminal.\n",
    "# Pour installer matplotlib avec l'installateur 'Anaconda',exécutez plutôt 'conda install -c conda-forge matplotlib'.\n",
    "\n",
    "# Ce code (avec '!' devant) s'exécute dans un terminal en arrière-plan. \n",
    "# L'exécution peut prendre quelques instants...\n",
    "!conda install -c conda-forge matplotlib"
   ]
  },
  {
   "cell_type": "markdown",
   "metadata": {},
   "source": [
    "## Nuages de points (*Scatter plot*)"
   ]
  },
  {
   "cell_type": "code",
   "execution_count": 1,
   "metadata": {},
   "outputs": [
    {
     "name": "stdout",
     "output_type": "stream",
     "text": [
      "coordonnées originales: [(1, 5), (2, 6), (3, 7)]\n",
      "x: [1, 2, 3]\n",
      "y: [5, 6, 7]\n"
     ]
    },
    {
     "data": {
      "image/png": "[encoded data removed]",
      "text/plain": [
       "<Figure size 432x288 with 1 Axes>"
      ]
     },
     "metadata": {
      "needs_background": "light"
     },
     "output_type": "display_data"
    },
    {
     "data": {
      "text/plain": [
       "<Figure size 432x288 with 0 Axes>"
      ]
     },
     "metadata": {},
     "output_type": "display_data"
    }
   ],
   "source": [
    "# python 3.9; matplotlib 3.3\n",
    "\n",
    "# Pour cette courte démonstration, nous allon seulement importer le module pyplot de matplotlib\n",
    "from matplotlib import pyplot as plt\n",
    "\n",
    "# Soit une liste de coordonnées pour 3 points dans un graphique à 2 dimensions\n",
    "points = [(1, 5), (2, 6), (3, 7)]\n",
    "\n",
    "# On transforme d'abord les paires (i, j) en listes de coordonnées x et y\n",
    "x, y = [], []\n",
    "for coord in points:\n",
    "    x.append(coord[0])\n",
    "    y.append(coord[1])\n",
    "    \n",
    "# On peut imprimer les listes pour bien comprendre le format demandé\n",
    "print('coordonnées originales:', points)\n",
    "print('x:', x)\n",
    "print('y:', y)\n",
    "\n",
    "# On peut ensuite afficher les points dans un graphique (scatter() = nuage de points)\n",
    "plt.scatter(x, y, s=25)  # Cré un graphique de type 'Scatter plot'. Option 's' pour la taille des points\n",
    "plt.show()               # Affiche le graphique à l'écran!\n",
    "plt.clf()                # Efface le graphique de la mémoire"
   ]
  }
 ],
 "metadata": {
  "kernelspec": {
   "display_name": "Python 3",
   "language": "python",
   "name": "python3"
  },
  "language_info": {
   "codemirror_mode": {
    "name": "ipython",
    "version": 3
   },
   "file_extension": ".py",
   "mimetype": "text/x-python",
   "name": "python",
   "nbconvert_exporter": "python",
   "pygments_lexer": "ipython3",
   "version": "3.7.6"
  }
 },
 "nbformat": 4,
 "nbformat_minor": 4
}
