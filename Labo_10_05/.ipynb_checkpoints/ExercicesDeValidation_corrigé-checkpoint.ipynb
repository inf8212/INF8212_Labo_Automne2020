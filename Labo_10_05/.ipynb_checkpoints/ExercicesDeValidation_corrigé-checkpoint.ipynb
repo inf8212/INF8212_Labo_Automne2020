{
 "cells": [
  {
   "cell_type": "markdown",
   "metadata": {},
   "source": [
    "## Exercices de validation - Semaine 05"
   ]
  },
  {
   "cell_type": "code",
   "execution_count": null,
   "metadata": {},
   "outputs": [],
   "source": [
    "# Soit les variables suivantes\n",
    "nom      = 'John Doe'\n",
    "age      = 25\n",
    "taille   = 1.80\n",
    "courriel = 'doe.john@courrier.uqam.ca'\n",
    "tel      = '514-123-4567'\n",
    "\n",
    "# Attention! Exécutez d'abord cette cellules pour mettre les variables en mémoire"
   ]
  },
  {
   "cell_type": "markdown",
   "metadata": {},
   "source": [
    "### 1.\tValidation du type de variable\n",
    "\n",
    "Vous voulez valider que le type des variables nom, age et taille correspondent respectivement à une chaîne, un entier et un réel."
   ]
  },
  {
   "cell_type": "code",
   "execution_count": null,
   "metadata": {},
   "outputs": [],
   "source": [
    "# Utilisation de la fonction native type()\n",
    "if     type(nom)    is str : print('La variable nom est une chaîne de caractères!')\n",
    "if not type(taille) is bool: print(\"La variable taille n'est pas un booléen!\")\n",
    "\n",
    "# Utilisation de la fonction native isinstance()\n",
    "if     isinstance(age     , int)  : print('La variable age est un entier!')\n",
    "if not isinstance(courriel, float): print(\"La variable courriel n'est pas un réel!\")"
   ]
  },
  {
   "cell_type": "markdown",
   "metadata": {},
   "source": [
    "### 2.\tTester pour une condition"
   ]
  },
  {
   "cell_type": "markdown",
   "metadata": {},
   "source": [
    "a.\tUne facile pour commencer… Déterminer si la taille est entre 1.5 et 1.6 mètres; sinon déterminer si la taille est plus de 1.8 mètres. Pour chacun des cas, imprimer un message différent."
   ]
  },
  {
   "cell_type": "code",
   "execution_count": null,
   "metadata": {},
   "outputs": [],
   "source": [
    "if   1.5 <= taille <= 1.6: print(\"C'est petit\")\n",
    "elif        taille >  1.8: print(\"C'est grand\")\n",
    "else                     : print(\"C'est moyen, ou bien très petit\")"
   ]
  },
  {
   "cell_type": "markdown",
   "metadata": {},
   "source": [
    "b.\tDéterminez si cette personne est née au 20ème siècle. Commencez simplement avec l’information que vous avez, puis complexifiez avec les différents cas de figure (peut-être aller voir la définition [ici](https://fr.wikipedia.org/wiki/XXe_si%C3%A8cle)."
   ]
  },
  {
   "cell_type": "code",
   "execution_count": null,
   "metadata": {},
   "outputs": [],
   "source": [
    "y = 2020-age\n",
    "if    1901 < y < 2001         : print(\"For sure!\")\n",
    "elif (2001 < y) or (y < 1901) : print(\"Nope!\")\n",
    "else                          : print(\"Maybe?\")"
   ]
  },
  {
   "cell_type": "markdown",
   "metadata": {},
   "source": [
    "### 3.\tValider un format"
   ]
  },
  {
   "cell_type": "markdown",
   "metadata": {},
   "source": [
    "a.\tValider que le nom est composé d’un prénom et d’un nom de famille. On va supposer qu’il n’y a pas de ‘middle name’ ni de noms composés."
   ]
  },
  {
   "cell_type": "code",
   "execution_count": null,
   "metadata": {},
   "outputs": [],
   "source": [
    "if len(nom.split()) == 2: print('Ce nom est valide:', nom)\n",
    "else                    : print('Ce nom est invalide:', nom)"
   ]
  },
  {
   "cell_type": "markdown",
   "metadata": {},
   "source": [
    "b.\tValider que le numéro de téléphone correspond à un format valide, avec l’indicatif régional 514 (supposons que c’est le seul indicatif accepté) et les ‘-‘ aux bons endroits."
   ]
  },
  {
   "cell_type": "code",
   "execution_count": null,
   "metadata": {},
   "outputs": [],
   "source": [
    "condition1 = tel[0:3] == '514'\n",
    "condition2 = tel[3]   == '-'\n",
    "condition3 = tel[7]   == '-'\n",
    "\n",
    "if condition1 and condition2 and condition3: print('Ce numéro est valide:', tel)\n",
    "else                                       : print('Ce numéro est invalide:', tel)\n",
    "\n",
    "\n",
    "# Une variante...\n",
    "valide = True\n",
    "if tel[0:3] != '514'               : valide = False\n",
    "if tel[3]   != '-' or tel[7] != '-': valide = False\n",
    "\n",
    "if valide: print('Ce numéro est valide:', tel)\n",
    "else     : print('Ce numéro est invalide:', tel)"
   ]
  },
  {
   "cell_type": "markdown",
   "metadata": {},
   "source": [
    "c.\tValider que le courriel correspond à un format valide.\n",
    "\n",
    "Voici les conditions, il y en a plusieurs :\n",
    "\n",
    "    i. Tout courriel contient un ‘@’\n",
    "\n",
    "    ii. À gauche du ‘@’, il doit y avoir au minimum 1 caractère\n",
    "\n",
    "    iii. À droite du ‘@’, Il doit y avoir un nom de domaine. Les noms de domaines ont au minimum un point, avec au minimum 2 caractères à droite du dernier point et 1 caractère minimum à gauche de ce dernier point"
   ]
  },
  {
   "cell_type": "code",
   "execution_count": null,
   "metadata": {},
   "outputs": [],
   "source": [
    "# 1 façon parmis d'autres...\n",
    "# On pratique l'utilisation de la méthode split() ainsi que le tranchage (splicing) de chaîne\n",
    "\n",
    "valide = False\n",
    "\n",
    "lst = courriel.split('@')\n",
    "if len(lst) == 2:                   # Doit contenir un '@' --> Le split doit retourner une liste de 2 éléments\n",
    "    if len(lst[0]) >= 1:            # Le 1er élément doit contenir au moins 1 caractère --> Le '@' ne doit pas être au début\n",
    "        lst2 = lst[1].split('.')    # Important de ne pas utiliser lst[1] si on n'est pas certain que l'index 1 existe!\n",
    "                                    # Ici ça va puisqu'on est dans le sous-bloc où on a testé la condition\n",
    "        if len(lst2) >= 2:          # Doit contenir au moins un point --> Le 2e split doit retourner une liste d'au moins 2\n",
    "            if len(lst2[-1]) >= 2:  # Le dernier élément du 2e split doit avoir au moins 2 caractères (ca, com, org, ...)\n",
    "                if len(''.join(lst2[:-1])):  # Le reste du split doit avoir au moins 1 caractère\n",
    "                    valide = True\n",
    "\n",
    "if valide: print('Courriel valide:', courriel)\n",
    "else     : print('Courriel invalide:', courriel)"
   ]
  },
  {
   "cell_type": "code",
   "execution_count": null,
   "metadata": {},
   "outputs": [],
   "source": [
    "# Même exemple mais avec l'utilisation de print() pour suivre ce qui ce passe.\n",
    "# Utile pour debugger votre code!\n",
    "\n",
    "valide = False\n",
    "\n",
    "lst = courriel.split('@'); print('lst =', lst)                                   # <-- on affiche ce qui se passe\n",
    "if len(lst) == 2:\n",
    "    if len(lst[0]) >= 1:\n",
    "        lst2 = lst[1].split('.'); print('lst2 =', lst2)                          # <-- on affiche ce qui se passe\n",
    "        if len(lst2) >= 2:\n",
    "            if len(lst2[-1]) >= 2:\n",
    "                print('lst2[-1] =', lst2[-1])                                    # <-- on affiche ce qui se passe\n",
    "                if len(''.join(lst2[:-1])):\n",
    "                    print('lst2[:-1] =', lst2[:-1])                              # <-- on affiche ce qui se passe\n",
    "                    print(\"len(''.join(lst2[:-1])) =\", len(''.join(lst2[:-1])))  # <-- on affiche ce qui se passe\n",
    "                    valide = True\n",
    "\n",
    "print('valide =', valide)                                                        # <-- on affiche ce qui se passe"
   ]
  }
 ],
 "metadata": {
  "kernelspec": {
   "display_name": "Python 3",
   "language": "python",
   "name": "python3"
  },
  "language_info": {
   "codemirror_mode": {
    "name": "ipython",
    "version": 3
   },
   "file_extension": ".py",
   "mimetype": "text/x-python",
   "name": "python",
   "nbconvert_exporter": "python",
   "pygments_lexer": "ipython3",
   "version": "3.7.6"
  }
 },
 "nbformat": 4,
 "nbformat_minor": 4
}
