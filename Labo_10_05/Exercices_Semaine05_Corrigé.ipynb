{
 "cells": [
  {
   "cell_type": "code",
   "execution_count": null,
   "metadata": {},
   "outputs": [],
   "source": [
    "# Exécutez d'abord cette cellule pour charger les variables en mémoire dans le Notebook Jupyter\n",
    "nom      = 'John Doe'\n",
    "age      = 25\n",
    "taille   = 1.80\n",
    "courriel = 'doe.john@courrier.uqam.ca'\n",
    "tel      = '514-123-4567'"
   ]
  },
  {
   "cell_type": "markdown",
   "metadata": {},
   "source": [
    "## 2. asd"
   ]
  },
  {
   "cell_type": "code",
   "execution_count": 1,
   "metadata": {},
   "outputs": [
    {
     "name": "stdout",
     "output_type": "stream",
     "text": [
      "Vous êtes indiscutablement né au 20ème siècle!\n"
     ]
    }
   ],
   "source": [
    "\n",
    "if age < 19:\n",
    "    print('Désolé, trop jeune pour être né au 20ème siècle!')\n",
    "elif age == 20 or age == 120:\n",
    "    print('Humm, vous êtes possiblement né au 20ème siècle.')\n",
    "elif age > 120:\n",
    "    print('Désolé, trop vieux pour être né au 20ème siècle!')\n",
    "else:\n",
    "    print('Vous êtes indiscutablement né au 20ème siècle!')"
   ]
  }
 ],
 "metadata": {
  "kernelspec": {
   "display_name": "Python 3",
   "language": "python",
   "name": "python3"
  },
  "language_info": {
   "codemirror_mode": {
    "name": "ipython",
    "version": 3
   },
   "file_extension": ".py",
   "mimetype": "text/x-python",
   "name": "python",
   "nbconvert_exporter": "python",
   "pygments_lexer": "ipython3",
   "version": "3.7.6"
  }
 },
 "nbformat": 4,
 "nbformat_minor": 4
}
