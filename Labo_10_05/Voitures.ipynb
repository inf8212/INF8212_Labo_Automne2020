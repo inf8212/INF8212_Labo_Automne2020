{
 "cells": [
  {
   "cell_type": "code",
   "execution_count": null,
   "metadata": {},
   "outputs": [],
   "source": [
    "voitures = input('Quelles sont les marques de voiture que vous aimez? ').lower().replace(',', ' ').split()\n",
    "\n",
    "for voiture in voitures:\n",
    "    if   voiture == 'ford'   : print(\"Super, j'aime les\"          , voiture.capitalize(), '!!!')\n",
    "    elif voiture == 'toyota' : print(\"Zut, je n'aime pas les\"     , voiture.capitalize(), '!'  )\n",
    "    else                     : print(\"Humm, je ne connais pas les\", voiture.capitalize(), '...')"
   ]
  }
 ],
 "metadata": {
  "kernelspec": {
   "display_name": "Python 3",
   "language": "python",
   "name": "python3"
  },
  "language_info": {
   "codemirror_mode": {
    "name": "ipython",
    "version": 3
   },
   "file_extension": ".py",
   "mimetype": "text/x-python",
   "name": "python",
   "nbconvert_exporter": "python",
   "pygments_lexer": "ipython3",
   "version": "3.7.6"
  }
 },
 "nbformat": 4,
 "nbformat_minor": 4
}
