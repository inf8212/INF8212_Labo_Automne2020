{
 "cells": [
  {
   "cell_type": "markdown",
   "metadata": {},
   "source": [
    "# Interroger l'AIP Entrez du NCBI à l'aide de Biopython"
   ]
  },
  {
   "cell_type": "markdown",
   "metadata": {},
   "source": [
    "### Quelques références pour l'API Entrez:\n",
    "\n",
    "- [The 9 E-utilities and Associated Parameters](https://dataguide.nlm.nih.gov/eutilities/utilities.html)\n",
    "- [A General Introduction to the E-utilities](https://www.ncbi.nlm.nih.gov/books/NBK25497/)\n",
    "- [The E-utilities In-Depth: Parameters, Syntax and More](https://www.ncbi.nlm.nih.gov/books/NBK25499/)\n",
    "\n",
    "Liste des bases de données disponibles [ici](https://www.ncbi.nlm.nih.gov/books/NBK25497/table/chapter2.T._entrez_unique_identifiers_ui/?report=objectonly)."
   ]
  },
  {
   "cell_type": "markdown",
   "metadata": {},
   "source": [
    "### Références Biopython:\n",
    "\n",
    "- [Guide d'utilisation au format pdf](http://biopython.org/DIST/docs/tutorial/Tutorial.pdf)\n",
    "- [Site web](https://biopython.org/)"
   ]
  },
  {
   "cell_type": "code",
   "execution_count": null,
   "metadata": {},
   "outputs": [],
   "source": [
    "# Attention. Biopython n'est pas une librairie standard de python; il faut d'abord l'installer !!\n",
    "!pip install biopython # Ou avec Anaconda: 'conda install -c conda-forge biopython'"
   ]
  },
  {
   "cell_type": "code",
   "execution_count": null,
   "metadata": {},
   "outputs": [],
   "source": [
    "from Bio import Entrez, SeqIO\n",
    "Entrez.email = 'lemieux.mathieu@courrier.uqam.ca' # Remplacez par votre addresse courriel !!"
   ]
  },
  {
   "cell_type": "markdown",
   "metadata": {},
   "source": [
    "### ESearch : Chercher dans une base de données à l'aide d'un mot-clé."
   ]
  },
  {
   "cell_type": "code",
   "execution_count": null,
   "metadata": {},
   "outputs": [],
   "source": [
    "def eSearch(db, term):\n",
    "    handle = Entrez.esearch(db=db, term=term, retmax='5', sort='relevance')\n",
    "    record = Entrez.read(handle)\n",
    "    handle.close()\n",
    "    return record"
   ]
  },
  {
   "cell_type": "code",
   "execution_count": null,
   "metadata": {},
   "outputs": [],
   "source": [
    "kw     = input('Mot-clé: ')\n",
    "db     = 'gene'\n",
    "term   = f'human[organism] {kw}*[gene]' # Exemple de champs qui peuvent être utilisés pour construire la requête.\n",
    "\n",
    "record = eSearch(db=db, term=term)\n",
    "IdList = record['IdList']\n",
    "\n",
    "print(IdList)"
   ]
  },
  {
   "cell_type": "markdown",
   "metadata": {},
   "source": [
    "### ESummary : Sommaire d'information sur une entrée spécifique d'une base de donnée"
   ]
  },
  {
   "cell_type": "code",
   "execution_count": null,
   "metadata": {},
   "outputs": [],
   "source": [
    "def eSummary(db, ids):\n",
    "    handle = Entrez.esummary(db=db, id=ids)\n",
    "    record = Entrez.read(handle)\n",
    "    handle.close()\n",
    "    return record"
   ]
  },
  {
   "cell_type": "code",
   "execution_count": null,
   "metadata": {},
   "outputs": [],
   "source": [
    "IdList = ['7076', '2056', '2052', '2057', '8288']  # <- Exemple de liste d'identifiant de gènes\n",
    "ids    = ','.join(IdList)  # <- On peut passer une liste de ids, à condition de transformer en chaîne, avec des virgules.\n",
    "db     = 'gene'\n",
    "\n",
    "record    = eSummary(db=db, ids=ids)\n",
    "Summaries = record['DocumentSummarySet']['DocumentSummary']\n",
    "\n",
    "for i in range(len(IdList)):\n",
    "    name        = Summaries[i]['Name']\n",
    "    description = Summaries[i]['Description']\n",
    "    summary     = Summaries[i]['Summary']\n",
    "    organism    = Summaries[i]['Organism']['ScientificName']\n",
    "    print('\\n', name, organism, description, summary, sep='\\n')"
   ]
  },
  {
   "cell_type": "markdown",
   "metadata": {},
   "source": [
    "### ELink : Accéder aux références croisées dans les bases de données\n",
    "\n",
    "Très utile! Permet par exemple d'obtenir le numéro d'accession d'une séquence nucléotidique à l'aide de l'identifiant du gêne."
   ]
  },
  {
   "cell_type": "code",
   "execution_count": null,
   "metadata": {},
   "outputs": [],
   "source": [
    "def eLink(dbFrom, db, id, linkname):\n",
    "    handle = Entrez.elink(dbFrom=dbFrom, db=db, id=id, linkname=linkname)\n",
    "    record = Entrez.read(handle)\n",
    "    handle.close()\n",
    "    return record"
   ]
  },
  {
   "cell_type": "code",
   "execution_count": null,
   "metadata": {},
   "outputs": [],
   "source": [
    "dbFrom   = 'gene'\n",
    "db       = 'nuccore'\n",
    "linkname = 'gene_nuccore_refseqgene'\n",
    "idGene   = '2056'  # <- Exemple d'identifiant de gène\n",
    "\n",
    "record   = eLink(dbFrom=dbFrom, db=db, id=idGene, linkname=linkname)\n",
    "idRefSeq = record[0]['LinkSetDb'][0]['Link'][0]['Id']\n",
    "\n",
    "print(idRefSeq)"
   ]
  },
  {
   "cell_type": "markdown",
   "metadata": {},
   "source": [
    "### EFetch : Accéder à des formats de fichier spécifiques (ex. fiche GenBank, fichier Fasta)\n",
    "\n",
    "On utilise record = SeqIO.read() au lieu de record = Entrez.read()"
   ]
  },
  {
   "cell_type": "code",
   "execution_count": null,
   "metadata": {},
   "outputs": [],
   "source": [
    "def eFetch(db, id, rettype, recordFormat):\n",
    "    handle = Entrez.efetch(db=db, id=id, rettype=rettype)\n",
    "    record = SeqIO.read(handle, recordFormat)\n",
    "    handle.close()\n",
    "    return record"
   ]
  },
  {
   "cell_type": "markdown",
   "metadata": {},
   "source": [
    "#### Téléchargement de la fiche GenBank"
   ]
  },
  {
   "cell_type": "code",
   "execution_count": null,
   "metadata": {},
   "outputs": [],
   "source": [
    "db           = 'nucleotide'\n",
    "rettype      = 'gb'\n",
    "recordFormat = 'genbank'\n",
    "id           = '1243022497'  # <- Exemple de numéro d'accession\n",
    "# id           = '1243022497'  # <- Exemple de référence croisée RefSeq\n",
    "\n",
    "record  = eFetch(db=db, id=id, rettype=rettype, recordFormat=recordFormat)\n",
    "\n",
    "# Affichage de tout le contenu\n",
    "print(record, '\\n')\n",
    "\n",
    "# Affichage des 'Features'\n",
    "for feature in record.features: print(feature)\n",
    "    \n",
    "# Affichage de la séquence\n",
    "print(record.seq)\n",
    "\n",
    "# Enregistrement de la fiche GenBank\n",
    "SeqIO.write(record, 'nom_de_fichier.gb', 'gb')"
   ]
  },
  {
   "cell_type": "markdown",
   "metadata": {},
   "source": [
    "#### Téléchargement du fichier Fasta"
   ]
  },
  {
   "cell_type": "code",
   "execution_count": null,
   "metadata": {},
   "outputs": [],
   "source": [
    "db           = 'nucleotide'\n",
    "rettype      = 'fasta'\n",
    "recordFormat = 'fasta'\n",
    "idRefSeq     = '1243022497'  # <- Exemple de référence croisée RefSeq\n",
    "\n",
    "record  = eFetch(db=db, id=idRefSeq, rettype=rettype, recordFormat=recordFormat)\n",
    "\n",
    "print(record)\n",
    "record.description = record.id  # <- On peut modifier le descriptif du fasta au besoin.\n",
    "                                #    Pratique avant de faire des arbres phylogénétiques sur des alignements multiples\n",
    "\n",
    "# Enregistrement du fichier Fasta\n",
    "SeqIO.write(record, 'nom_de_fichier.fasta', 'fasta')"
   ]
  }
 ],
 "metadata": {
  "kernelspec": {
   "display_name": "Python 3",
   "language": "python",
   "name": "python3"
  },
  "language_info": {
   "codemirror_mode": {
    "name": "ipython",
    "version": 3
   },
   "file_extension": ".py",
   "mimetype": "text/x-python",
   "name": "python",
   "nbconvert_exporter": "python",
   "pygments_lexer": "ipython3",
   "version": "3.7.6"
  }
 },
 "nbformat": 4,
 "nbformat_minor": 4
}
