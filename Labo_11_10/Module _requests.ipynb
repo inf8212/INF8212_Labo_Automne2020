{
 "cells": [
  {
   "cell_type": "markdown",
   "metadata": {},
   "source": [
    "# Module *requests*\n",
    "\n",
    "Pour interroger un API (REST). Un petit survol disponible [ici](https://www.w3schools.com/python/module_requests.asp)."
   ]
  },
  {
   "cell_type": "code",
   "execution_count": null,
   "metadata": {},
   "outputs": [],
   "source": [
    "import requests\n",
    "\n",
    "url      = 'https://jsonplaceholder.typicode.com/posts'  # Url utile pour faire des tests\n",
    "params   = {'userId':1}                                  # Paramètres sous forme de dictionnaire, ici id=1\n",
    "req      = requests.get(url, params)                     # Ici méthode get(), mais on peut aussi utiliser post()\n",
    "response = req.json()                                    # Liste de dictionnaire\n",
    "req.close()\n",
    "\n",
    "# Affichage\n",
    "for i in response:\n",
    "    print('\\n')\n",
    "    for k, v in i.items(): print(k, v, sep=' : ')"
   ]
  },
  {
   "cell_type": "code",
   "execution_count": null,
   "metadata": {},
   "outputs": [],
   "source": [
    "def ESearch(db, id): \n",
    "\n",
    "    url    = \"https://eutils.ncbi.nlm.nih.gov/entrez/eutils/efetch.fcgi\"\n",
    "    params = {\n",
    "                'db'      : db,\n",
    "                'id'      : id,\n",
    "                'rettype' : 'gb'\n",
    "             }\n",
    "    return requests.get(url, params)\n",
    "\n",
    "\n",
    "# Appel de la fonction\n",
    "db, id = 'nuccore', 'AB123456'\n",
    "req      = ESearch(db, id)\n",
    "results  = req.text\n",
    "req.close()\n",
    "\n",
    "# Affichage\n",
    "print('\\nRésultats retournée :\\n', results)"
   ]
  }
 ],
 "metadata": {
  "kernelspec": {
   "display_name": "Python 3",
   "language": "python",
   "name": "python3"
  },
  "language_info": {
   "codemirror_mode": {
    "name": "ipython",
    "version": 3
   },
   "file_extension": ".py",
   "mimetype": "text/x-python",
   "name": "python",
   "nbconvert_exporter": "python",
   "pygments_lexer": "ipython3",
   "version": "3.7.6"
  }
 },
 "nbformat": 4,
 "nbformat_minor": 4
}
