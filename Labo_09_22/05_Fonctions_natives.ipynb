{
 "cells": [
  {
   "cell_type": "markdown",
   "metadata": {},
   "source": [
    "# Python\n",
    "\n",
    "**INF8212 - Introduction aux systèmes informatiques**\n",
    "\n",
    "[Mathieu Lemieux](mailto:lemieux.mathieu@courrier.uqam.ca) @ Université du Québec à Montréal (Automne 2020)"
   ]
  },
  {
   "cell_type": "markdown",
   "metadata": {},
   "source": [
    "# Fonctions natives\n",
    "\n",
    "Voir la liste complète [ici](https://docs.python.org/3/library/functions.html)"
   ]
  },
  {
   "cell_type": "markdown",
   "metadata": {},
   "source": [
    "### Fonctions vues jusqu'à maintenant :\n",
    "- print()\n",
    "- type()\n",
    "- int(), float(), str(), bool(), list(), tuple(), dict(), set()\n",
    "- len()\n",
    "- range()\n",
    "\n",
    "### En voici d'autres...\n",
    "- zip()\n",
    "- enumerate()\n",
    "- input()\n",
    "- dir()\n",
    "- abs(), min(), max(), sum()\n",
    "- all(), any()"
   ]
  },
  {
   "cell_type": "markdown",
   "metadata": {},
   "source": [
    "## *zip()*"
   ]
  },
  {
   "cell_type": "code",
   "execution_count": null,
   "metadata": {},
   "outputs": [],
   "source": [
    "# La fonction zip() permet d'itérer simultanément sur 2+ collections (liste, tuple, ensemble, chaîne de caractères).\n",
    "# Attention, l'ordre des éléments dans les ensembles (set) n'est pas respectée!\n",
    "\n",
    "# Soit...\n",
    "lst    = [1, 2, 3]\n",
    "tpl    = (4, 5, 6)\n",
    "st     = {7, 8, 9} # L'ordre n'est pas conservée sur les ensembles...\n",
    "chaine = 'abcde'   # Fonctionne aussi avec les chaines de caractères.\n",
    "\n",
    "\n",
    "\n",
    "# 1. Exemple de base\n",
    "for i, j, k in zip(lst, tpl, st):\n",
    "    print(i, j, k, sep=' et ')\n",
    "\n",
    "    \n",
    "print('-'*50)    \n",
    "\n",
    "# 2. L'ensemble le plus petit détermine le nombre d'éléments retournés\n",
    "for i, j in zip(lst, chaine): print(i, j)\n",
    "\n",
    "    \n",
    "print('-'*50) \n",
    "    \n",
    "# 3. Particulièrement utile pour construire des dictionnaires!\n",
    "superHeros = ('Superman', 'Spiderman')\n",
    "alterEgos  = ('Clark Kent', 'Peter Parker')\n",
    "secretList = dict(zip(superHeros, alterEgos)); print(secretList)"
   ]
  },
  {
   "cell_type": "markdown",
   "metadata": {},
   "source": [
    "## *enumerate()*"
   ]
  },
  {
   "cell_type": "code",
   "execution_count": null,
   "metadata": {},
   "outputs": [],
   "source": [
    "# La fonction enumerate() permet d'obtenir l'index ET la valeur lors d'une itération sur une collection\n",
    "# Fonctionne pour les listes, les tuples, les ensembles et les chaines de caractères.\n",
    "# Attention, l'ordre des éléments dans les ensembles (set) n'est pas respectée!\n",
    "# Pour les dictionnaires, voir la méthode items()...\n",
    "\n",
    "friends = ['Sabrina', 'David', 'Julie']\n",
    "\n",
    "# 1. D'abord, un contre-exemple...\n",
    "# Lors d'une itération, pour obtenir les valeurs uniquement (sans index)\n",
    "for friend in friends: print(friend)"
   ]
  },
  {
   "cell_type": "code",
   "execution_count": null,
   "metadata": {},
   "outputs": [],
   "source": [
    "friends = ['Sabrina', 'David', 'Julie']\n",
    "\n",
    "# 2. Exemple avec enumerate(), pour obtenir à la fois l'index et la valeur\n",
    "# Prévoir 2 variables pour stocker l'index et la valeur retournée à chaque itération...\n",
    "for index, value in enumerate(friends):\n",
    "    print(index, value, sep='. ')"
   ]
  },
  {
   "cell_type": "markdown",
   "metadata": {},
   "source": [
    "### Méthodes *values()* et *items()*\n",
    "\n",
    "S'appliquent aux dictionnaires."
   ]
  },
  {
   "cell_type": "code",
   "execution_count": null,
   "metadata": {},
   "outputs": [],
   "source": [
    "# Un dictionnaire comme ceux que vous risquez de rencontrer prochainement...\n",
    "gene = {\n",
    "    \"Gene ID\"           :596,\n",
    "    \"Official Symbol\"   :\"BCL2\",\n",
    "    \"Official Full Name\":\"BCL2 apoptosis regulator\",\n",
    "    \"Gene type\"         :\"protein coding\",\n",
    "    \"RefSeq status\"     :\"REVIEWED\",\n",
    "    \"Organism\"          :\"Homo sapiens\"\n",
    "}\n",
    "\n",
    "\n",
    "# 1. D'abord, pour obtenir la clé. Pas de méthode spéciale\n",
    "for k in gene: print(k)\n",
    "    \n",
    "    \n",
    "print('-'*50) \n",
    "\n",
    "# 2. Ensuite, pour obtenir la valeur. Méthode value()\n",
    "for v in gene.values(): print(v)\n",
    "    \n",
    "\n",
    "print('-'*50) \n",
    "\n",
    "# 3. La méthode items() permet d'obtenir la clé ET la valeur.\n",
    "for k, v in gene.items(): print(k, v, sep=' : ')"
   ]
  },
  {
   "cell_type": "markdown",
   "metadata": {},
   "source": [
    "## *input()*"
   ]
  },
  {
   "cell_type": "code",
   "execution_count": null,
   "metadata": {},
   "outputs": [],
   "source": [
    "# Fonction input() permet d'interroger l'utilisateur.\n",
    "\n",
    "# Ex.\n",
    "nomUtilisateur = input('Svp, entrez votre nom: ')\n",
    "print(f'Bonjour {nomUtilisateur}!')"
   ]
  },
  {
   "cell_type": "code",
   "execution_count": null,
   "metadata": {},
   "outputs": [],
   "source": [
    "# la valeur retournée par input() est toujours une chaîne de caractères!\n",
    "# On doit donc convertir le type au besoin...\n",
    "\n",
    "# Ex.\n",
    "valeur = input('Choisissez une valeur entre 1 et 10 : ')\n",
    "valeur = int(valeur)                                   # On utilise la fonction int() pour convertir la variable en entier.\n",
    "                                                       # Notez en passant la mutabilité des variables en Python...\n",
    "print(f'La valeur {valeur} au carré est {valeur**2}!') # On peut ensuite utiliser la variable pour des opérations arithmétiques"
   ]
  },
  {
   "cell_type": "markdown",
   "metadata": {},
   "source": [
    "### Méthodes *isnumeric(), isdigit()* et *isdecimal()*\n",
    "\n",
    "Voir [ici](https://stackoverflow.com/questions/44891070/whats-the-difference-between-str-isdigit-isnumeric-and-isdecimal-in-python) pour une distinction entre les 3 méthodes, très semblables. S'appliquent aux chaînes de caractères."
   ]
  },
  {
   "cell_type": "code",
   "execution_count": null,
   "metadata": {},
   "outputs": [],
   "source": [
    "# Le code précédent génère une erreur si l'utilisateur entre une valeur non-convertissable en entier...\n",
    "# Les méthode isnumeric(), isdigit() et isdecimal() permet de tester une chaîne pour la conversion en numérique (entier/réel)\n",
    "\n",
    "valeur = input('Choisissez une valeur entre 1 et 10 : ')\n",
    "\n",
    "if   valeur.isnumeric(): print(f'La valeur {valeur} au carré est {int(valeur)**2}!')\n",
    "else                   : print(f\"La valeur {valeur} n'est pas numérique!\")"
   ]
  },
  {
   "cell_type": "code",
   "execution_count": null,
   "metadata": {},
   "outputs": [],
   "source": [
    "# Selon le contexte, il peut être utile d'utiliser des conditionnels au sein d'une boucle While...\n",
    "\n",
    "while True:\n",
    "    valeur                       = input('Choisissez une valeur entre 1 et 10 : ')\n",
    "    if   not valeur.isdigit()    : print('Vous devez écrire une valeur numérique')       \n",
    "    elif not (1<=int(valeur)<=10): print('Vous devez écrire une valeur entre 1 et 10')\n",
    "    else                         : break # Permet de sortir promptement de la boucle\n",
    "        \n",
    "print(valeur)"
   ]
  },
  {
   "cell_type": "markdown",
   "metadata": {},
   "source": [
    "## *dir()*\n",
    "\n",
    "Permet de connaitre les méthodes disponibles pour un type d'objet donné."
   ]
  },
  {
   "cell_type": "code",
   "execution_count": null,
   "metadata": {},
   "outputs": [],
   "source": [
    "# Ex. d'utilisation de la méthode dir() avec ici un ensemble\n",
    "a = {1, 2, 3}\n",
    "\n",
    "\n",
    "# 1. D'abord, on peut afficher le type d'objet...\n",
    "print(type(a))\n",
    "\n",
    "\n",
    "print('-'*50) \n",
    "\n",
    "# 2. Afficher ensuite la liste de toutes les méthodes (pour les objets de ce type)\n",
    "print(dir(a))\n",
    "\n",
    "\n",
    "print('-'*50) \n",
    "\n",
    "# 3. N'afficher que les méthodes publiques (On laisse de côté les méthodes privées, aka 'dunder methods')\n",
    "print([i for i in dir(a) if i[0]!='_']) # On utilise une Comprehension de liste. On va voir ça bientôt si ce n'est déjà fait..."
   ]
  },
  {
   "cell_type": "markdown",
   "metadata": {},
   "source": [
    "## *abs(), min(), max()* et *sum()*"
   ]
  },
  {
   "cell_type": "code",
   "execution_count": null,
   "metadata": {},
   "outputs": [],
   "source": [
    "# abs(): valeur absolue\n",
    "a = -1; print(f'Valeur absolue de {a} est {abs(a)}')\n",
    "\n",
    "# min() et max(): la plus petite et la plus grande valeur\n",
    "b = [4, 3.2, 7]; print(f'Plus petite valeur de la liste est {min(b)} et la plus grande est {max(b)}')\n",
    "\n",
    "# sum(): somme des valeurs\n",
    "c = {1, 2, 2, 2}; print(f'La somme est {sum(c)}! Surpris? Cherchez pourquoi...')"
   ]
  },
  {
   "cell_type": "markdown",
   "metadata": {},
   "source": [
    "## *all()* et *any()*"
   ]
  },
  {
   "cell_type": "code",
   "execution_count": null,
   "metadata": {},
   "outputs": [],
   "source": [
    "a = (0, 1, True, 'allo', False, '')\n",
    "\n",
    "# all(): retourne True si tous les éléments de la collection sont vrai (ou 'thruthy')\n",
    "print(all(a[1:4]))\n",
    "print(all(a[0:2]))\n",
    "\n",
    "\n",
    "print('-'*50) \n",
    "\n",
    "# any(): retourne True si au moins un élément de la collection est vrai (ou 'thruthy')\n",
    "print(any(a[0:2]))\n",
    "print(any(a[4:]))"
   ]
  }
 ],
 "metadata": {
  "kernelspec": {
   "display_name": "Python 3",
   "language": "python",
   "name": "python3"
  },
  "language_info": {
   "codemirror_mode": {
    "name": "ipython",
    "version": 3
   },
   "file_extension": ".py",
   "mimetype": "text/x-python",
   "name": "python",
   "nbconvert_exporter": "python",
   "pygments_lexer": "ipython3",
   "version": "3.7.6"
  }
 },
 "nbformat": 4,
 "nbformat_minor": 4
}
