{
 "cells": [
  {
   "cell_type": "markdown",
   "metadata": {},
   "source": [
    "# Python\n",
    "\n",
    "**INF8212 - Introduction aux systèmes informatiques**\n",
    "\n",
    "[Mathieu Lemieux](mailto:lemieux.mathieu@courrier.uqam.ca) @ Université du Québec à Montréal (Automne 2020)"
   ]
  },
  {
   "cell_type": "markdown",
   "metadata": {},
   "source": [
    "# Introduction"
   ]
  },
  {
   "cell_type": "markdown",
   "metadata": {},
   "source": [
    "## 1. Commentaires"
   ]
  },
  {
   "cell_type": "markdown",
   "metadata": {},
   "source": [
    "### Commentaires sur une ligne"
   ]
  },
  {
   "cell_type": "code",
   "execution_count": null,
   "metadata": {},
   "outputs": [],
   "source": [
    "# Ceci est une ligne de commantaire en Python...\n",
    "\n",
    "x = 1 # On peut aussi mettre un commentaire à droite d'une instruction, sur la m^meme ligne"
   ]
  },
  {
   "cell_type": "markdown",
   "metadata": {},
   "source": [
    "### Commentaires sur plusieurs lignes (bloc de commentaires)"
   ]
  },
  {
   "cell_type": "code",
   "execution_count": null,
   "metadata": {},
   "outputs": [],
   "source": [
    "\"\"\"\n",
    "Ceci est un\n",
    "commentaire\n",
    "sur plusieurs lignes\n",
    "\"\"\"\n",
    "\n",
    "# Mais les Hashtag\n",
    "# ...ça fonctionne aussi pour faire des block\n",
    "# à condition d'en mettre sur chaque ligne\n",
    "\n",
    "# Note: les notebooks Jupyter ne rendent pas très bien les blocs de commentaires: Essayez plutot dans un fichier '.py'"
   ]
  },
  {
   "cell_type": "markdown",
   "metadata": {},
   "source": [
    "## 2. Instructions"
   ]
  },
  {
   "cell_type": "markdown",
   "metadata": {},
   "source": [
    "En règle générale, chaque instruction est écrite sur une ligne séparée.\n",
    "\n",
    "Les instructions sont exécutées de façon synchrones les unes après les autres à partir du haut vers le bas."
   ]
  },
  {
   "cell_type": "markdown",
   "metadata": {},
   "source": [
    "### Lorsqu'une line ne correspond plus à une instruction..."
   ]
  },
  {
   "cell_type": "code",
   "execution_count": null,
   "metadata": {},
   "outputs": [],
   "source": [
    "# Plus d'une ligne par instruction...\n",
    "# On utilise \\ (backslash) pour continuer sur la ligne suivante.\n",
    "\n",
    "print('Ceci est un message écrit \\\n",
    "sur plusieurs lignes')\n",
    "\n",
    "\n",
    "# Plus d'une instruction par ligne...\n",
    "# On utilise un point-virgule ( ; ) pour passer à une nouvelle instruction sur la même ligne.\n",
    "\n",
    "print('Un'); print('deux')"
   ]
  },
  {
   "cell_type": "markdown",
   "metadata": {},
   "source": [
    "## 3. Variables"
   ]
  },
  {
   "cell_type": "markdown",
   "metadata": {},
   "source": [
    "### Affectation"
   ]
  },
  {
   "cell_type": "code",
   "execution_count": null,
   "metadata": {},
   "outputs": [],
   "source": [
    "# Affectation d'une valeur à une variable avec le signe égal ( = ).\n",
    "\n",
    "# Ex. :\n",
    "x = 1\n",
    "y = True\n",
    "z = 'Python'\n",
    "\n",
    "# Note: pour fin de comparaison logique, Python utilise plutot le double signe égal ( == ).\n",
    "# Aussi, il y a d'autres opérateurs d'affectation (comme += ou -=). On regarde ça un peu plus tard..."
   ]
  },
  {
   "cell_type": "markdown",
   "metadata": {},
   "source": [
    "### En Python, pas de déclaration ni d'assignation explicite de type!"
   ]
  },
  {
   "cell_type": "code",
   "execution_count": null,
   "metadata": {},
   "outputs": [],
   "source": [
    "# La variable est créée au moment de l'affectation et le type est assigné implicitement.\n",
    "\n",
    "x = 1\n",
    "print(type(x))"
   ]
  },
  {
   "cell_type": "markdown",
   "metadata": {},
   "source": [
    "### Typage dynamique"
   ]
  },
  {
   "cell_type": "code",
   "execution_count": null,
   "metadata": {},
   "outputs": [],
   "source": [
    "# On peut affecter une nouvelle valeur d'un type différent; la variable change de type.\n",
    "\n",
    "x = 1\n",
    "print(type(x))\n",
    "x = 'Allo'  \n",
    "print(type(x))"
   ]
  },
  {
   "cell_type": "markdown",
   "metadata": {},
   "source": [
    "### Caractères acceptés\n",
    "\n",
    "Les noms des variables :\n",
    "- ne doivent contenir que des caractères alphanumériques et/ou trait de soulignement (A-z, 0-9, et _ ). Pas d'espaces!\n",
    "- doivent débuter par une lettre OU un trait de soulignement; bref pas par un caractère numérique!\n",
    "\n",
    "Les caractères accentués sont aussi acceptés (mais il faut être prudent et alors considérer le système d'encodage de notre fichier)\n",
    "\n",
    "Attention, les noms sont sensibles à la casse!\n",
    "\n",
    "À noter: les mêmes règles s'appliquent aux fonctions et aux objets."
   ]
  },
  {
   "cell_type": "code",
   "execution_count": null,
   "metadata": {},
   "outputs": [],
   "source": [
    "# Les noms suivants sont valides:\n",
    "prenom = 'John'\n",
    "NOM = 'Doe'\n",
    "nom_complet = 'John Doe'\n",
    "Formule1 = 'Vroum vroum!'\n",
    "\n",
    "# Cas habituellement réservé pour une variable dont on sait à l'avance que l'on ne va pas utiliser :\n",
    "_ = 1\n",
    "\n",
    "# Les 3 noms de variable suivants sont valides et différents ...mais est-ce une bonne idée?\n",
    "nombre = 1\n",
    "Nombre = 2\n",
    "NOMBRE = 3"
   ]
  },
  {
   "cell_type": "markdown",
   "metadata": {},
   "source": [
    "### Convention pour nommer variables, fonctions et objets"
   ]
  },
  {
   "cell_type": "code",
   "execution_count": null,
   "metadata": {},
   "outputs": [],
   "source": [
    "# 'Camel notation' pour les variables et les fonctions.\n",
    "ceciEstUneVariable = 1\n",
    "def ceciEstUneFonction(): pass\n",
    "\n",
    "# 'Pascal notation' pour les objets.\n",
    "class CeciEstUnObjet: pass\n",
    "\n",
    "\n",
    "\n",
    "# Aussi...\n",
    "\n",
    "# 'Snake notation', possible mais pas 'Pythonic'...\n",
    "snake_notation = 1\n",
    "\n",
    "# 'Kebab-notation', génère une erreur car caractère invalide '-'!\n",
    "# kebab-notation = 1"
   ]
  },
  {
   "cell_type": "markdown",
   "metadata": {},
   "source": [
    "### Noms réservés"
   ]
  },
  {
   "cell_type": "code",
   "execution_count": null,
   "metadata": {},
   "outputs": [],
   "source": [
    "# Exécuter les instructions suivantes pour obtenir la liste des mots réservés\n",
    "import keyword\n",
    "for i in keyword.kwlist: print(i)"
   ]
  },
  {
   "cell_type": "markdown",
   "metadata": {},
   "source": [
    "À cette liste s'ajoute celle des fonctions natives (built-in)."
   ]
  },
  {
   "cell_type": "markdown",
   "metadata": {},
   "source": [
    "## 4. Fonctions natives (*built-in*)"
   ]
  },
  {
   "cell_type": "markdown",
   "metadata": {},
   "source": [
    "Voir la liste des fonctions natives dans la documentation officielle (3.6) [ici](https://docs.python.org/3.6/library/functions.html)."
   ]
  },
  {
   "cell_type": "markdown",
   "metadata": {},
   "source": [
    "### Une fonction très utile : *print()*"
   ]
  },
  {
   "cell_type": "code",
   "execution_count": null,
   "metadata": {},
   "outputs": [],
   "source": [
    "print('test')\n",
    "\n",
    "\n",
    "# la fonction native print() permet d'afficher du texte dans la console.\n",
    "# Elle prend comme argument une chaîne de caractères.\n",
    "\n",
    "# Ex 1.\n",
    "print('Ceci est un message!')\n",
    "\n",
    "print(\"\"\"c'est la vie!\"\"\")\n",
    "\n",
    "# Ex 2.\n",
    "msg = 'Ceci est un autre message!'\n",
    "print(msg)\n",
    "\n",
    "\n",
    "# Plusieurs chaînes de caractères peuvent être concaténées ensemble.\n",
    "# On utilise alors des virgules pour les séparer.\n",
    "# Par défaut, un espace est ajouté entre chaque chaîne.\n",
    "\n",
    "# Ex 3.\n",
    "debut  = 'Ceci est'\n",
    "milieu = 'un autre'\n",
    "fin    = 'message!'\n",
    "print(debut, milieu, fin)\n",
    "\n",
    "\n",
    "# On peut spécifier le séparateur avec le paramètre sep.\n",
    "# Ex 4.\n",
    "prefix = 'méli'\n",
    "suffix = 'mélo'\n",
    "print(prefix, suffix, sep='-')\n",
    "\n",
    "# On peut spécifier un/des caractères de fin avec le paramètre end. Par défaut c'est un saut de ligne (\\n)\n",
    "# Ex 5.\n",
    "prefix = 'auto'\n",
    "suffix = 'route'\n",
    "print(prefix, suffix, sep='', end='...')"
   ]
  },
  {
   "cell_type": "markdown",
   "metadata": {},
   "source": [
    "## 5. Modules"
   ]
  },
  {
   "cell_type": "markdown",
   "metadata": {},
   "source": [
    "### Modules standards\n",
    "\n",
    "Plusieurs modules sont installés par défaut avec l'interpréteur Python mais doivent être importés pour pouvoir être utilisés.\n",
    "\n",
    "Voir la liste des modules standards dans la documentation officielle (3.6) [ici](https://docs.python.org/3.6/py-modindex.html)"
   ]
  },
  {
   "cell_type": "code",
   "execution_count": null,
   "metadata": {},
   "outputs": [],
   "source": [
    "# Ex. 1\n",
    "import re\n",
    "if re.search(\"^Le.*bleu$\", \"Le ciel bleu\"): print(\"Trouvé!\")\n",
    "    \n",
    "print('-'*50)\n",
    "\n",
    "# Ex. 2\n",
    "import keyword as kw\n",
    "for i in kw.kwlist: print(i)\n",
    "\n",
    "print('-'*50)\n",
    "    \n",
    "# Ex. 3\n",
    "from pathlib import Path\n",
    "print(Path('../../test.txt'))"
   ]
  },
  {
   "cell_type": "markdown",
   "metadata": {},
   "source": [
    "### Importer des modules externes"
   ]
  },
  {
   "cell_type": "markdown",
   "metadata": {},
   "source": [
    "Avec le gestionnaire de module pip (Package Installer for Python), utiliser la commande 'pip install [module]'.\n",
    "    \n",
    "Ex.: pip install pandas\n",
    "\n",
    "Par la suite, on importe le module dans son code de la même façon que pour les modules standards."
   ]
  }
 ],
 "metadata": {
  "kernelspec": {
   "display_name": "Python 3",
   "language": "python",
   "name": "python3"
  },
  "language_info": {
   "codemirror_mode": {
    "name": "ipython",
    "version": 3
   },
   "file_extension": ".py",
   "mimetype": "text/x-python",
   "name": "python",
   "nbconvert_exporter": "python",
   "pygments_lexer": "ipython3",
   "version": "3.7.6"
  }
 },
 "nbformat": 4,
 "nbformat_minor": 4
}
