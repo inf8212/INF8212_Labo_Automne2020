{
 "cells": [
  {
   "cell_type": "markdown",
   "metadata": {},
   "source": [
    "# Python\n",
    "\n",
    "**INF8212 - Intro. aux systèmes informatiques**\n",
    "\n",
    "[Mathieu Lemieux](mailto:lemieux.mathieu@courrier.uqam.ca) @ Université du Québec à Montréal (Automne 2020)"
   ]
  },
  {
   "cell_type": "markdown",
   "metadata": {},
   "source": [
    "# Structures de contrôle"
   ]
  },
  {
   "cell_type": "markdown",
   "metadata": {},
   "source": [
    "## Embranchements\n",
    "\n",
    "Les structures d'exécution conditinnelle (***if-elif-else***) permettent d'opérer des embranchements dans l'exécution du code."
   ]
  },
  {
   "cell_type": "code",
   "execution_count": null,
   "metadata": {},
   "outputs": [],
   "source": [
    "# Soit les 2 variables de type booléen suivantes\n",
    "condition1 = 0\n",
    "condition2 = True\n",
    "\n",
    "\n",
    "# Suite d'instructions conditionnel... certaines avec opérateur logique\n",
    "# Les conditions sont évaluées 'truthy' ou 'falsy'.\n",
    "if condition1:\n",
    " print('Condition 1 est vraie')\n",
    " print('Condition 1 est vraiement vraie')\n",
    "    \n",
    "if condition2:\n",
    "    print('Condition 2 est vraie')\n",
    "\n",
    "if condition1 or condition2:\n",
    "    print('Condition 1 ou 2 est vraie')\n",
    "    \n",
    "if condition1 and not condition2:\n",
    "    print('Condition 1 est vraie et condition 2 est fausse')\n"
   ]
  },
  {
   "cell_type": "code",
   "execution_count": null,
   "metadata": {},
   "outputs": [],
   "source": [
    "condition1 = True\n",
    "condition2 = True\n",
    "\n",
    "\n",
    "# If, elif, else.\n",
    "if condition1:\n",
    "    print('Condition 1 est vraie; on ne sais pas pour condition 2...')\n",
    "elif condition2: # Équivalent à else if\n",
    "    print('Condition 1 est fausse ET condition 2 est vraie')\n",
    "else:\n",
    "    print('Conditions 1 et 2 sont fausses')\n",
    "    \n",
    "print(\"Cette ligne s'affiche peu importe\")"
   ]
  },
  {
   "cell_type": "code",
   "execution_count": null,
   "metadata": {},
   "outputs": [],
   "source": [
    "x = 5\n",
    "\n",
    "\n",
    "# Avec opérateurs de comparaison\n",
    "if x == 1:\n",
    "    print('x==1')\n",
    "elif x > 2:\n",
    "    print('x != 1 et x > 2')\n",
    "else:\n",
    "    print('Conditions 1 et 2 sont fausses')"
   ]
  },
  {
   "cell_type": "markdown",
   "metadata": {},
   "source": [
    "## Itérations\n",
    "\n",
    "Les structures d'exécution itérative (boucle ***for*** et boucle ***while***) permettent de répéter l'exécution de certains blocs de code."
   ]
  },
  {
   "cell_type": "markdown",
   "metadata": {},
   "source": [
    "### Boucle *for*"
   ]
  },
  {
   "cell_type": "code",
   "execution_count": null,
   "metadata": {},
   "outputs": [],
   "source": [
    "# Pour chaque élément d'une collection...\n",
    "\n",
    "# Peut s'écrire sur une seule ligne si une seule instruction à exécuter\n",
    "for number in 1, 2, 3: print(number)\n",
    "    \n",
    "# Sinon on doit faire une INDENTATION !!\n",
    "for number in 1, 2, 3:\n",
    "    print('---')\n",
    "    print(number)"
   ]
  },
  {
   "cell_type": "markdown",
   "metadata": {},
   "source": [
    "### Fonction *range()*"
   ]
  },
  {
   "cell_type": "code",
   "execution_count": null,
   "metadata": {},
   "outputs": [],
   "source": [
    "# La fonction range() génère une suite...\n",
    "\n",
    "start = 0\n",
    "stop  = 5\n",
    "\n",
    "for i in range(0, 3): print(i)\n",
    "\n",
    "# Pas de 1 par défaut, dernière position non-incluse\n",
    "for i in range(start, stop): print(i)\n",
    "\n",
    "    \n",
    "print('-'*50)\n",
    "\n",
    "# En spécifiant le pas...\n",
    "step  = 2\n",
    "for i in range(start, stop, step): print(i)"
   ]
  },
  {
   "cell_type": "markdown",
   "metadata": {},
   "source": [
    "### Boucle *while*"
   ]
  },
  {
   "cell_type": "code",
   "execution_count": null,
   "metadata": {},
   "outputs": [],
   "source": [
    "# On l'utilise généralement quand la fin de l'itération dépend d'une condition rencontrée.\n",
    "\n",
    "happyLevel = 5\n",
    "while happyLevel >= 1:\n",
    "    print(f\"I'm happy, level {happyLevel}!\")\n",
    "    happyLevel -= 1  # Un autre opérateur d'assignation... Équivalent de 'happyLevel = happyLevel - 1'\n",
    "    \n",
    "print(\"I'm happy no more :(\")"
   ]
  },
  {
   "cell_type": "code",
   "execution_count": null,
   "metadata": {},
   "outputs": [],
   "source": [
    "# Boucle infinie...\n",
    "\n",
    "while True:\n",
    "    if input('Dites merci: ') == 'merci': break"
   ]
  }
 ],
 "metadata": {
  "kernelspec": {
   "display_name": "Python 3",
   "language": "python",
   "name": "python3"
  },
  "language_info": {
   "codemirror_mode": {
    "name": "ipython",
    "version": 3
   },
   "file_extension": ".py",
   "mimetype": "text/x-python",
   "name": "python",
   "nbconvert_exporter": "python",
   "pygments_lexer": "ipython3",
   "version": "3.7.6"
  }
 },
 "nbformat": 4,
 "nbformat_minor": 4
}
