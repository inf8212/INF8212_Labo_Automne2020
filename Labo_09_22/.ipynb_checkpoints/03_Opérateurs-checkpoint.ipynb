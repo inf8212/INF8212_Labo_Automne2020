{
 "cells": [
  {
   "cell_type": "markdown",
   "metadata": {},
   "source": [
    "# Python\n",
    "\n",
    "**INF4500 - Bioinformatique**\n",
    "\n",
    "[Mathieu Lemieux](mailto:lemieux.mathieu@courrier.uqam.ca) @ Université du Québec à Montréal (Automne 2020)"
   ]
  },
  {
   "cell_type": "markdown",
   "metadata": {},
   "source": [
    "# Opérateurs"
   ]
  },
  {
   "cell_type": "markdown",
   "metadata": {},
   "source": [
    "Plus de détails sur les opérateurs [ici](https://www.w3schools.com/python/python_operators.asp). Aujourd'hui on n'en regarde que quelque-uns..."
   ]
  },
  {
   "cell_type": "markdown",
   "metadata": {},
   "source": [
    "### Opérateurs arithmétiques"
   ]
  },
  {
   "cell_type": "code",
   "execution_count": null,
   "metadata": {},
   "outputs": [],
   "source": [
    "# Opérateurs arithmétiques : +, -, *, /, **, %, //\n",
    "\n",
    "x, y = 7.5, 3\n",
    "\n",
    "# Ex.\n",
    "print('+', x+y)\n",
    "print('-', x-y)\n",
    "print('*', x*y)\n",
    "print('/', x/y)\n",
    "print('**', x**y)    # Exposant\n",
    "print('%', x%y)      # Modulo (restant d'une division)\n",
    "print('//', x//y)    # Division tronquée (floor division)"
   ]
  },
  {
   "cell_type": "markdown",
   "metadata": {},
   "source": [
    "### Opérateurs de comparaison"
   ]
  },
  {
   "cell_type": "code",
   "execution_count": null,
   "metadata": {},
   "outputs": [],
   "source": [
    "# Opérateurs de comparaison : <, >, ==, !=, <=, >=\n",
    "\n",
    "# Ex.\n",
    "x, y = 1, 2\n",
    "if x != y: print(\"1 n'égal pas 2\")\n",
    "    \n",
    "    \n",
    "# Autres Ex.\n",
    "print(x==1)\n",
    "print(x==2)"
   ]
  },
  {
   "cell_type": "markdown",
   "metadata": {},
   "source": [
    "### Opérateurs logiques"
   ]
  },
  {
   "cell_type": "code",
   "execution_count": null,
   "metadata": {},
   "outputs": [],
   "source": [
    "# Opérateurs logiques : and, or, not\n",
    "\n",
    "a, b = True, False\n",
    "\n",
    "print(a and b)\n",
    "print(a or b)\n",
    "print(not a)"
   ]
  },
  {
   "cell_type": "markdown",
   "metadata": {},
   "source": [
    "### Opérateurs binaires (*bitwise*)"
   ]
  },
  {
   "cell_type": "code",
   "execution_count": null,
   "metadata": {},
   "outputs": [],
   "source": [
    "# Deux exemples.\n",
    "# On ne les utilisera probablement pas...\n",
    "\n",
    "print(101&110)\n",
    "print(101|110)"
   ]
  }
 ],
 "metadata": {
  "kernelspec": {
   "display_name": "Python 3",
   "language": "python",
   "name": "python3"
  },
  "language_info": {
   "codemirror_mode": {
    "name": "ipython",
    "version": 3
   },
   "file_extension": ".py",
   "mimetype": "text/x-python",
   "name": "python",
   "nbconvert_exporter": "python",
   "pygments_lexer": "ipython3",
   "version": "3.7.6"
  }
 },
 "nbformat": 4,
 "nbformat_minor": 4
}
