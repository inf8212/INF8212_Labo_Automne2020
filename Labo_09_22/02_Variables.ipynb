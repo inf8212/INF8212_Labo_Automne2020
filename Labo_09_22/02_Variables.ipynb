{
 "cells": [
  {
   "cell_type": "markdown",
   "metadata": {},
   "source": [
    "# Python\n",
    "\n",
    "**INF8212 - Introduction aux systèmes informatiques**\n",
    "\n",
    "[Mathieu Lemieux](mailto:lemieux.mathieu@courrier.uqam.ca) @ Université du Québec à Montréal (Automne 2020)"
   ]
  },
  {
   "cell_type": "markdown",
   "metadata": {},
   "source": [
    "# Variables et structures de données\n",
    "\n",
    "Seules les principales structures de données sont présentées.\n",
    "\n",
    "Pour un portrait complet, voir la documentation officielle [ici](https://docs.python.org/3.6/library/stdtypes.html).\n",
    "\n",
    "On aura l'occasion de revenir plus en profondeur sur chacune des structures et leurs méthodes au cours de la session."
   ]
  },
  {
   "cell_type": "markdown",
   "metadata": {},
   "source": [
    "## Une (autre!) fonction utile : *type()*"
   ]
  },
  {
   "cell_type": "code",
   "execution_count": null,
   "metadata": {},
   "outputs": [],
   "source": [
    "# La fonction native type() permet de récupérer le type d'un objet (En Python, tout ou presque est fondamentalement un objet).\n",
    "# Utilisez-là entre autres en conjonction avec la fonction print()...\n",
    "\n",
    "print(type(1))\n",
    "print(type('tasrdtasrtd'))"
   ]
  },
  {
   "cell_type": "markdown",
   "metadata": {},
   "source": [
    "## *Built-in types*"
   ]
  },
  {
   "cell_type": "markdown",
   "metadata": {},
   "source": [
    "### 1 - Entier (*Integer*)"
   ]
  },
  {
   "cell_type": "code",
   "execution_count": null,
   "metadata": {},
   "outputs": [],
   "source": [
    "# Valeurs numériques entières positives et négatives\n",
    "x, y, z = 5, -3, 0\n",
    "\n",
    "for i in (x, y, z): print(type(i))"
   ]
  },
  {
   "cell_type": "markdown",
   "metadata": {},
   "source": [
    "### 2 - Réel (*Float*)"
   ]
  },
  {
   "cell_type": "code",
   "execution_count": null,
   "metadata": {},
   "outputs": [],
   "source": [
    "# Valeurs numériques réelles. Le point ( . ) permet l'assignation implicite du type float.\n",
    "x, y, z = 3.1415927, -1.1, 4.0\n",
    "\n",
    "for i in (x, y, z): print(type(i))"
   ]
  },
  {
   "cell_type": "markdown",
   "metadata": {},
   "source": [
    "### 3 - Chaîne de caractères (*String*)"
   ]
  },
  {
   "cell_type": "code",
   "execution_count": null,
   "metadata": {},
   "outputs": [],
   "source": [
    "# Un ou plusieurs caractères Unicode.\n",
    "w, x, y, z = 'Un', \"2\", \"\"\"3.0\"\"\", '''-4'''\n",
    "\n",
    "for i in (w, x, y, z): print(type(i))"
   ]
  },
  {
   "cell_type": "markdown",
   "metadata": {},
   "source": [
    "### 4 - Booléen (*Booléan*)"
   ]
  },
  {
   "cell_type": "code",
   "execution_count": null,
   "metadata": {},
   "outputs": [],
   "source": [
    "# Vrai ou Faux\n",
    "x, y = True, False\n",
    "\n",
    "for i in (x, y): print(type(i))"
   ]
  },
  {
   "cell_type": "markdown",
   "metadata": {},
   "source": [
    "### Existe aussi le type spécial *None*..."
   ]
  },
  {
   "cell_type": "code",
   "execution_count": null,
   "metadata": {},
   "outputs": [],
   "source": [
    "a = None\n",
    "\n",
    "print(a)\n",
    "if not a: print(a)"
   ]
  },
  {
   "cell_type": "markdown",
   "metadata": {},
   "source": [
    "## Conversion à l'aide des fonctions *int(), float(), str() et bool()*"
   ]
  },
  {
   "cell_type": "code",
   "execution_count": null,
   "metadata": {},
   "outputs": [],
   "source": [
    "w, x, y, z, = 1, 1.0, '1', True\n",
    "for i in (w, x, y, z): print(i, type(i))\n",
    "\n",
    "    \n",
    "print('-'*50)\n",
    "\n",
    "# Conversion en entier à l'aide de la fonction int()\n",
    "for i in (w, x, y, z):print(int(i), type(int(i)))\n",
    "    \n",
    "    \n",
    "print('-'*50)\n",
    "\n",
    "# Conversion en réel à l'aide de la fonction float()\n",
    "for i in (w, x, y, z):print(float(i), type(float(i)))\n",
    "\n",
    "\n",
    "print('-'*50)\n",
    "\n",
    "# Conversion en chaîne de caractères à l'aide de la fonction str()\n",
    "for i in (w, x, y, z):print(str(i), type(str(i)))\n",
    "\n",
    "    \n",
    "print('-'*50)\n",
    "\n",
    "# Conversion en booléen à l'aide de la fonction bool()\n",
    "for i in (w, x, y, z):print(bool(i), type(bool(i)))\n"
   ]
  },
  {
   "cell_type": "markdown",
   "metadata": {},
   "source": [
    "## Structures composées"
   ]
  },
  {
   "cell_type": "markdown",
   "metadata": {},
   "source": [
    "### 5 - Liste (list)\n",
    "\n",
    "Quelques méthodes et exemples [ici](https://www.w3schools.com/python/python_ref_list.asp)"
   ]
  },
  {
   "cell_type": "code",
   "execution_count": null,
   "metadata": {},
   "outputs": [],
   "source": [
    "# En python, les listes correspondent aux tableaux ou array dans d'autres langages.\n",
    "# Une liste peut contenir une combinaison de n'importe quel type de données cependant.\n",
    "# On utilise les crochets [] pour définir une liste\n",
    "\n",
    "x = []  # Ex. de liste vide\n",
    "print(type(x))\n",
    "\n",
    "x = [False, 1, 2.0, 'trois']\n",
    "print(x)\n",
    "\n",
    "\n",
    "print('-'*50)\n",
    "# Quelques opérations de base sur les liste (on en verra davantage au cours de la session):\n",
    "\n",
    "\n",
    "# 1. Pour AJOUTER un élément à la fin, méthode append()\n",
    "x.append('quatre')\n",
    "print(x)\n",
    "\n",
    "# 2. Pour INSÉRER un élément à une position précise (index commence à 0), méthode insert()\n",
    "x.insert(4, '3 et demi')\n",
    "print(x)\n",
    "\n",
    "# 3. Pour MODIFIER un élément selon sa position, on réaffecte à l'aide des []\n",
    "x[0] = int(x[0])\n",
    "print(x)\n",
    "x[2] = 'bonjour'\n",
    "print(x)\n",
    "\n",
    "# 4. Pour SUPPRIMER un élément selon sa position, méthode pop()\n",
    "x.pop(2)\n",
    "print(x)\n"
   ]
  },
  {
   "cell_type": "markdown",
   "metadata": {},
   "source": [
    "### 6 - Tuple"
   ]
  },
  {
   "cell_type": "code",
   "execution_count": null,
   "metadata": {},
   "outputs": [],
   "source": [
    "# En python, les tuples sont des listes immuables.\n",
    "# On peut réaffecter un autre tuple à la même variable mais on ne peut en modifier le contenu.\n",
    "# Structure de données plus performante que les listes dans certaines situations.\n",
    "# On utilise les parenthèses pour définir un tuple.\n",
    "\n",
    "x = ()  # Ex. de tuple vide\n",
    "print(type(x))\n",
    "\n",
    "# Réaffectation != mutabilité\n",
    "x = (False, 1, 2.0, 'trois')\n",
    "x = (False, 1, 2.0, 'trois', 'quatre')\n",
    "print(x)\n",
    "\n",
    "# Référence d'un élément par son index, comme avec les listes\n",
    "print(x[3])"
   ]
  },
  {
   "cell_type": "markdown",
   "metadata": {},
   "source": [
    "### 7 - Dictionnaire (dictionnary)"
   ]
  },
  {
   "cell_type": "code",
   "execution_count": null,
   "metadata": {},
   "outputs": [],
   "source": [
    "# En python, les dictionnaires sont des ensembles clé-valeur.\n",
    "# Il sont implémentés à l'aide d'une fonction de hashage (recherche en temps constant!)\n",
    "# On utilise les 'curly brackets' {} pour définir un dictionnaire.\n",
    "\n",
    "x = {}  # Ex. de dictionnaire vide\n",
    "print(type(x))\n",
    "\n",
    "# Autre exemple\n",
    "x = {'Superman': 'Clark Kent', 'Hulk': 'Robert Bruce Banner'}\n",
    "print(x)\n",
    "\n",
    "# Les éléments d'un dictionnaire n'ont pas d'ordre (donc pas d'index)\n",
    "# On utilise la clée pour référencer un élément.\n",
    "# La méthode get() ne retourne pas d'erreur si la clé n'existe pas.\n",
    "print(x['Superman'])\n",
    "print(x.get('Superwoman'))\n",
    "\n",
    "\n",
    "\n",
    "print('-'*50)\n",
    "\n",
    "# 1. Pour AJOUTER un élément\n",
    "x['Spiderman'] = 'Peter Parker'\n",
    "print(x)\n",
    "\n",
    "# 2. Pour SUPPRIMER un élément\n",
    "x.pop('Spiderman')\n",
    "print(x)\n",
    "\n",
    "# On modifie un élément en réaffectant sa valeur à partir de la clé.\n",
    "x['Hulk'] = 'Robert B. Banner'\n",
    "print(x)"
   ]
  },
  {
   "cell_type": "markdown",
   "metadata": {},
   "source": [
    "### 8 - Ensemble (set)"
   ]
  },
  {
   "cell_type": "code",
   "execution_count": null,
   "metadata": {},
   "outputs": [],
   "source": [
    "# Les ensembles sont comme des dictionnaires, mais les éléments qui s'y trouvent ne sont pas associés à des clés.\n",
    "# Le concept général des ensemble est celui de présence/absence.\n",
    "# On utilise également des 'curly brackets' {} pour définir les ensembles.\n",
    "\n",
    "x = {}\n",
    "print(type(x))\n",
    "x = dict()\n",
    "print(type(x))\n",
    "\n",
    "x = {1, 2, 3, 4, 4, 4}\n",
    "print(type(x))\n",
    "x = {'1':1}\n",
    "print(type(x))\n",
    "\n",
    "print('-'*50)\n",
    "\n",
    "# Plusieurs méthodes utiles sont disponibles avec les ensemble; en voici deux:\n",
    "x = {1, 2, 3, 4}\n",
    "y = {3, 4, 5, 6}\n",
    "print(x.intersection(y))\n",
    "print(x.symmetric_difference(y))"
   ]
  },
  {
   "cell_type": "markdown",
   "metadata": {},
   "source": [
    "## Conversion à l'aide des fonctions *list(), tuple(), dict() et set()*"
   ]
  },
  {
   "cell_type": "code",
   "execution_count": null,
   "metadata": {},
   "outputs": [],
   "source": [
    "# Comme avec les 'built-in types', chaque structure a son constructeur (fonction de conversion).\n",
    "\n",
    "myList  = ['Un', 'Deux', 'Trois', 'Quatre']\n",
    "myTuple = (1, 2, 3, 4)\n",
    "myDict  = {'Un':1, 'Deux':2, 'Trois':3, 'Quatre':4}\n",
    "mySet   = {1, 2, 3, 4}\n",
    "\n",
    "for i in (myList, myTuple, myDict, mySet): print(type(i))\n",
    "\n",
    "\n",
    "print('-'*50)\n",
    "\n",
    "# Quelques exemples...\n",
    "print(list(myTuple))\n",
    "print(tuple(mySet))\n",
    "print(set(myList))\n",
    "\n",
    "\n",
    "print('-'*50)\n",
    "\n",
    "# Plus complexe avec dict()...\n",
    "x = zip(myList, mySet) # La fonction zip permet d'itérer conjointement sur deux collections à la fois.\n",
    "print(dict(x))"
   ]
  }
 ],
 "metadata": {
  "kernelspec": {
   "display_name": "Python 3",
   "language": "python",
   "name": "python3"
  },
  "language_info": {
   "codemirror_mode": {
    "name": "ipython",
    "version": 3
   },
   "file_extension": ".py",
   "mimetype": "text/x-python",
   "name": "python",
   "nbconvert_exporter": "python",
   "pygments_lexer": "ipython3",
   "version": "3.7.6"
  }
 },
 "nbformat": 4,
 "nbformat_minor": 4
}
