{
 "cells": [
  {
   "cell_type": "markdown",
   "metadata": {},
   "source": [
    "# Rappel des principales notions vues jusqu'ici\n",
    "\n",
    "Depuis le début de la session nous avons parcouru beaucoup de chemin dans notres apprentissage de la programmation à l'aide du langage Python. C'est le moment de faire le bilan des notions vues jusqu'ici. Au besoin, retournez faire quelques exercices pour consolider vos acquis; nous nous appuirons sur ceux-ci pour la suite du cours.\n",
    "\n",
    "**P.S. Si les notions suivantes vous semblent encore difficiles, c'est le moment de me le dire, je vais pouvoir vous aider!!**"
   ]
  },
  {
   "cell_type": "markdown",
   "metadata": {},
   "source": [
    "    1. Variables et structures de données\n",
    "    2. Opérateurs\n",
    "    3. Fonctions natives\n",
    "    4. Structures de contrôle: embranchements & itérations\n",
    "    5. Manipuler des chaînes de caractères\n",
    "    6. Manipuler des listes et des tuples\n",
    "    7. Manipuler des dictionnaires\n",
    "    8. Importer des modules\n",
    "    9. Obtenir de l'aide"
   ]
  },
  {
   "cell_type": "markdown",
   "metadata": {},
   "source": [
    "## 1. Variables et structures de données"
   ]
  },
  {
   "cell_type": "markdown",
   "metadata": {},
   "source": [
    "#### Quelques types de variables"
   ]
  },
  {
   "cell_type": "code",
   "execution_count": null,
   "metadata": {},
   "outputs": [],
   "source": [
    "# Booléen (boolean)\n",
    "x, y = True, False\n",
    "\n",
    "# Entier (integer)\n",
    "x, y = 25, -12\n",
    "\n",
    "# Réel (float)\n",
    "x, y = -6.9, 3.\n",
    "\n",
    "# Chaîne de caractère (string)\n",
    "x = 'abcdefghij'\n",
    "y = \"abcdefghij\"\n",
    "z = \"\"\"abcdefghij\"\"\""
   ]
  },
  {
   "cell_type": "markdown",
   "metadata": {},
   "source": [
    "#### Quelques structures de données"
   ]
  },
  {
   "cell_type": "code",
   "execution_count": null,
   "metadata": {},
   "outputs": [],
   "source": [
    "# Liste (list)\n",
    "x = [1, 2, 3]\n",
    "\n",
    "# Tuple (tuple); immuable\n",
    "x = (1, 2, 3)\n",
    "\n",
    "# Dictionnaires (dictionary); ensembles clés-valeurs\n",
    "x = {'a':1, 'b':2}"
   ]
  },
  {
   "cell_type": "markdown",
   "metadata": {},
   "source": [
    "## 2. Opérateurs"
   ]
  },
  {
   "cell_type": "code",
   "execution_count": null,
   "metadata": {},
   "outputs": [],
   "source": [
    "# Quelques opérateurs d'assignation\n",
    "x  = 1  # Assignation\n",
    "x += 1  # Incrémentation (Une valeur doit, au préalable, avoir été assignée à la variable)\n",
    "x -= 1  # Décrémentation (Une valeur doit, au préalable, avoir été assignée à la variable)"
   ]
  },
  {
   "cell_type": "code",
   "execution_count": null,
   "metadata": {},
   "outputs": [],
   "source": [
    "# Opérateurs de comparaison -> Évaluation à vrai (True) ou faux (False)\n",
    "2 == 1  # Est-ce égal?\n",
    "2 != 1  # Est-ce inégal?\n",
    "2 >  1  # ...\n",
    "2 >= 1\n",
    "2 <  1\n",
    "2 <= 1"
   ]
  },
  {
   "cell_type": "code",
   "execution_count": null,
   "metadata": {},
   "outputs": [],
   "source": [
    "x, y = True, False\n",
    "\n",
    "# Opérateurs logiques -> 'truthy' ou 'falsy' si pas un booléen\n",
    "print(not x)\n",
    "print(x or y)\n",
    "print(x and y)"
   ]
  },
  {
   "cell_type": "code",
   "execution_count": null,
   "metadata": {},
   "outputs": [],
   "source": [
    "# Opérateurs arithmétiques\n",
    "print(2  + 1)\n",
    "print(2  - 1)\n",
    "print(2  * 1) # multiplication\n",
    "print(2 ** 1) # exposant\n",
    "print(2  / 1) # Division         ; Retourne un réel\n",
    "print(2 // 1) # Division tronquée; retourne un entier\n",
    "print(2  % 1) # Modulo (reste)"
   ]
  },
  {
   "cell_type": "markdown",
   "metadata": {},
   "source": [
    "## 3. Fonctions natives (*Built-in functions*)"
   ]
  },
  {
   "cell_type": "markdown",
   "metadata": {},
   "source": [
    "#### Quelques fonctions couramment utilisées"
   ]
  },
  {
   "cell_type": "code",
   "execution_count": null,
   "metadata": {},
   "outputs": [],
   "source": [
    "# print()\n",
    "# Affiche une chaîne de caractère, ou une concaténation de chaînes.\n",
    "# Par défaut, le séparateur est un espace et un saut de ligne est ajouté à la fin.\n",
    "\n",
    "str1, str2, str3, int1 = 'a', 'b', 'c', 1\n",
    "print(str1, str2, str3, str(int1), sep='@', end='')\n",
    "print('Sur la même ligne...')"
   ]
  },
  {
   "cell_type": "code",
   "execution_count": null,
   "metadata": {},
   "outputs": [],
   "source": [
    "# type()\n",
    "# Permet de connaître le type de données stocké dans une variable\n",
    "\n",
    "x = 12.\n",
    "print(type(x))"
   ]
  },
  {
   "cell_type": "code",
   "execution_count": null,
   "metadata": {},
   "outputs": [],
   "source": [
    "# input()\n",
    "# Interroge l'utilisateur; retourne une chaîne de caractères\n",
    "\n",
    "x = input('Entrez un nombre: ')\n",
    "print(x, type(x))"
   ]
  },
  {
   "cell_type": "code",
   "execution_count": null,
   "metadata": {},
   "outputs": [],
   "source": [
    "# len()\n",
    "# Donne la longeur d'une chaîne de caractères, liste, tuple, dictionnaire\n",
    "\n",
    "print(len('allo'))"
   ]
  },
  {
   "cell_type": "code",
   "execution_count": null,
   "metadata": {},
   "outputs": [],
   "source": [
    "# range()\n",
    "# Génère une suite d'entiers; par défaut commence à 0 et avance avec des pas positifs de 1\n",
    "# La position à 'end' est exclue\n",
    "\n",
    "start = 12\n",
    "end   =  4\n",
    "step  = -2\n",
    "for i in range(start, end, step): print(i)"
   ]
  },
  {
   "cell_type": "markdown",
   "metadata": {},
   "source": [
    "#### Fonctions de conversion (*aka* constructeurs)"
   ]
  },
  {
   "cell_type": "code",
   "execution_count": null,
   "metadata": {},
   "outputs": [],
   "source": [
    "# bool(), int(), float(), str(), list(), tuple(), dict()\n",
    "\n",
    "# 1 - utilisées pour initier un type de données (construction):\n",
    "\n",
    "x = str()      # Chaîne vide\n",
    "y = list()     # Liste vide\n",
    "print(type(x))\n",
    "print(type(y))\n",
    "\n",
    "\n",
    "\n",
    "# 2 - Utilisées pour convertir vers un type de données\n",
    "# Attention; l'argument passé à la fonction doit être 'convertissable'.\n",
    "# Lire la documentation pour connaître les règles.\n",
    "\n",
    "x = 'allo'\n",
    "y = list(x)\n",
    "z = bool(x)\n",
    "print(y)\n",
    "print(z)"
   ]
  },
  {
   "cell_type": "markdown",
   "metadata": {},
   "source": [
    "#### Fonctions *abs(), min(), max()* et *sum()*"
   ]
  },
  {
   "cell_type": "code",
   "execution_count": null,
   "metadata": {},
   "outputs": [],
   "source": [
    "# abs(): valeur absolue\n",
    "a = -1; print(f'Valeur absolue de {a} est {abs(a)}')\n",
    "\n",
    "# min() et max(): la plus petite et la plus grande valeur\n",
    "b = [4, 3.2, 7]; print(f'Plus petite valeur de la liste est {min(b)} et la plus grande est {max(b)}')\n",
    "\n",
    "# sum(): somme des valeurs\n",
    "c = {1, 2, 2, 2}; print(f'La somme est {sum(c)}! Surpris? Cherchez pourquoi...')"
   ]
  },
  {
   "cell_type": "markdown",
   "metadata": {},
   "source": [
    "#### Fonctions *all()* et *any()*"
   ]
  },
  {
   "cell_type": "code",
   "execution_count": null,
   "metadata": {},
   "outputs": [],
   "source": [
    "a = (0, 1, True, 'allo', False, '')\n",
    "\n",
    "# all(): retourne True si tous les éléments de la collection sont vrai (ou 'thruthy')\n",
    "print(all(a[1:4]))\n",
    "print(all(a[0:2]))\n",
    "\n",
    "\n",
    "print('-'*50) \n",
    "\n",
    "# any(): retourne True si au moins un élément de la collection est vrai (ou 'thruthy')\n",
    "print(any(a[0:2]))\n",
    "print(any(a[4:]))"
   ]
  },
  {
   "cell_type": "markdown",
   "metadata": {},
   "source": [
    "## 4. Structures de contrôle"
   ]
  },
  {
   "cell_type": "markdown",
   "metadata": {},
   "source": [
    "### Embranchements (instructions conditionnelles)"
   ]
  },
  {
   "cell_type": "markdown",
   "metadata": {},
   "source": [
    "#### Blocs *if/elif/else*"
   ]
  },
  {
   "cell_type": "code",
   "execution_count": null,
   "metadata": {},
   "outputs": [],
   "source": [
    "# if/elif/else\n",
    "\n",
    "# Soit les 2 variables de type booléen suivantes\n",
    "condition1 = 0\n",
    "condition2 = True\n",
    "\n",
    "\n",
    "# Suite d'instructions conditionnel... certaines avec opérateur logique\n",
    "# Les conditions sont évaluées 'truthy' ou 'falsy'.\n",
    "if condition1:\n",
    " print('Condition 1 est vraie')\n",
    " print('Condition 1 est vraiement vraie')\n",
    "    \n",
    "if condition2:\n",
    "    print('Condition 2 est vraie')\n",
    "\n",
    "if condition1 or condition2:\n",
    "    print('Condition 1 ou 2 est vraie')\n",
    "    \n",
    "if condition1 and not condition2:\n",
    "    print('Condition 1 est vraie et condition 2 est fausse')"
   ]
  },
  {
   "cell_type": "code",
   "execution_count": null,
   "metadata": {},
   "outputs": [],
   "source": [
    "condition1 = True\n",
    "condition2 = True\n",
    "\n",
    "\n",
    "# If, elif, else.\n",
    "if condition1:\n",
    "    print('Condition 1 est vraie; on ne sais pas pour condition 2...')\n",
    "elif condition2: # Équivalent à else if\n",
    "    print('Condition 1 est fausse ET condition 2 est vraie')\n",
    "else:\n",
    "    print('Conditions 1 et 2 sont fausses')\n",
    "    \n",
    "print(\"Cette ligne s'affiche peu importe\")"
   ]
  },
  {
   "cell_type": "code",
   "execution_count": null,
   "metadata": {},
   "outputs": [],
   "source": [
    "x = 5\n",
    "\n",
    "\n",
    "# Avec opérateurs de comparaison\n",
    "if x == 1:\n",
    "    print('x==1')\n",
    "elif x > 2:\n",
    "    print('x != 1 et x > 2')\n",
    "else:\n",
    "    print('Conditions 1 et 2 sont fausses')"
   ]
  },
  {
   "cell_type": "markdown",
   "metadata": {},
   "source": [
    "### Itérations (boucles)"
   ]
  },
  {
   "cell_type": "markdown",
   "metadata": {},
   "source": [
    "#### Boucles *for*"
   ]
  },
  {
   "cell_type": "code",
   "execution_count": null,
   "metadata": {},
   "outputs": [],
   "source": [
    "# Pour chaque élément d'une collection...\n",
    "\n",
    "# Peut s'écrire sur une seule ligne si une seule instruction à exécuter\n",
    "for number in 1, 2, 3: print(number)\n",
    "    \n",
    "# Sinon on doit faire une INDENTATION !!\n",
    "for number in 1, 2, 3:\n",
    "    print('---')\n",
    "    print(number)"
   ]
  },
  {
   "cell_type": "code",
   "execution_count": null,
   "metadata": {},
   "outputs": [],
   "source": [
    "# La fonction range() génère une suite...\n",
    "# Ele est très utile avec les boucles!\n",
    "\n",
    "start = 0\n",
    "stop  = 5\n",
    "\n",
    "for i in range(0, 3): print(i)\n",
    "\n",
    "# Pas de 1 par défaut, dernière position non-incluse\n",
    "for i in range(start, stop): print(i)\n",
    "\n",
    "    \n",
    "print('-'*50)\n",
    "\n",
    "# En spécifiant le pas...\n",
    "step  = 2\n",
    "for i in range(start, stop, step): print(i)"
   ]
  },
  {
   "cell_type": "markdown",
   "metadata": {},
   "source": [
    "#### Boucles *while*"
   ]
  },
  {
   "cell_type": "code",
   "execution_count": null,
   "metadata": {},
   "outputs": [],
   "source": [
    "# On l'utilise généralement quand la fin de l'itération dépend d'une condition rencontrée.\n",
    "\n",
    "happyLevel = 5\n",
    "while happyLevel >= 1:\n",
    "    print(f\"I'm happy, level {happyLevel}!\")\n",
    "    happyLevel -= 1  # Un autre opérateur d'assignation... Équivalent de 'happyLevel = happyLevel - 1'\n",
    "    \n",
    "print(\"I'm happy no more :(\")"
   ]
  },
  {
   "cell_type": "code",
   "execution_count": null,
   "metadata": {},
   "outputs": [],
   "source": [
    "# Boucle infinie...\n",
    "\n",
    "while True:\n",
    "    if input('Dites merci: ') == 'merci': break"
   ]
  },
  {
   "cell_type": "markdown",
   "metadata": {},
   "source": [
    "## 5. Manipuler des chaînes de caractères"
   ]
  },
  {
   "cell_type": "markdown",
   "metadata": {},
   "source": [
    "### Index et tranches"
   ]
  },
  {
   "cell_type": "code",
   "execution_count": null,
   "metadata": {},
   "outputs": [],
   "source": [
    "x = 'abcdefghij'\n",
    "\n",
    "# Index\n",
    "print(x[0])\n",
    "print(x[-2])\n",
    "\n",
    "# Tranches; [index de départ : index de fin +1 : pas]\n",
    "print(x[:])   # Tout\n",
    "print(x[:4])  # De la position 0 à 3 (4-1)\n",
    "print(x[4:])  # De la position 4 jusqu'à la fin\n",
    "print(x[2:6]) # De la position 2 à 5\n",
    "\n",
    "# En ajoutant le pas\n",
    "print(x[::2])    # avec un pas de 2\n",
    "print(x[6:2:-1]) # de la position 6 jusqu'à 2 avec pas de -1"
   ]
  },
  {
   "cell_type": "markdown",
   "metadata": {},
   "source": [
    "### Concaténation"
   ]
  },
  {
   "cell_type": "code",
   "execution_count": null,
   "metadata": {},
   "outputs": [],
   "source": [
    "a, b, c = 'a', 'b', 'c'\n",
    "\n",
    "# Surcharge de l'opérateur arithmétique '+'\n",
    "d = a+b+c\n",
    "print(d)"
   ]
  },
  {
   "cell_type": "markdown",
   "metadata": {},
   "source": [
    "### Quelques méthodes de formatage"
   ]
  },
  {
   "cell_type": "code",
   "execution_count": null,
   "metadata": {},
   "outputs": [],
   "source": [
    "# upper(), lower(), capitalize()\n",
    "x = 'bioINFO'\n",
    "print(x.upper())\n",
    "print(x.lower())\n",
    "print(x.capitalize())"
   ]
  },
  {
   "cell_type": "markdown",
   "metadata": {},
   "source": [
    "### Itérations sur une chaîne"
   ]
  },
  {
   "cell_type": "code",
   "execution_count": null,
   "metadata": {},
   "outputs": [],
   "source": [
    "x = 'abcdefghij'\n",
    "\n",
    "# Boucle for; itérer sur les caractères de la chaîne\n",
    "for caracter in x: print(caracter)\n",
    "    \n",
    "# Boucle for + range() + len(); itérer sur l'index, puis récupérer le caractère au besoin avec x[]\n",
    "for i in range(len(x)): print(x[i])\n",
    "    \n",
    "# fonction enumerate()\n",
    "for index, caracter in enumerate(x):\n",
    "    print(index, caracter)\n",
    "    \n",
    "# Boucle while; itérer sur une variable compteur qui fait office d'index, puis récupérer le caractère au besoin avec x[]\n",
    "i = 0\n",
    "while i < len(x):\n",
    "    print(x[i])\n",
    "    i += 1 # Incrémenter manuellement un compteur qui représente l'index"
   ]
  },
  {
   "cell_type": "markdown",
   "metadata": {},
   "source": [
    "### Convertir en chaîne à l'aide de la fonction str()\n"
   ]
  },
  {
   "cell_type": "code",
   "execution_count": null,
   "metadata": {},
   "outputs": [],
   "source": [
    "v = True\n",
    "w = 1.3\n",
    "x = [1, 2, 3]\n",
    "y = (1, 2, 3)\n",
    "z = {'a':1, 'b':2}\n",
    "\n",
    "# Conversions à l'aide de la fonction str()\n",
    "print(str(v))  # True/False écrit tel quel dans la chaîne\n",
    "print(str(w))\n",
    "print(str(x))  # Les crochets et les virgules font maintenant partie de la chaîne\n",
    "print(str(y))  # Idem pour les parenthèses avec la conversion de tuple\n",
    "print(str(z))  # Idem pour les parenthèses courbées avec la conversion de dictionnaires"
   ]
  },
  {
   "cell_type": "markdown",
   "metadata": {},
   "source": [
    "### Convertir de chaîne à liste et vice-versa à l'aide des méthodes split() et join()\n"
   ]
  },
  {
   "cell_type": "code",
   "execution_count": null,
   "metadata": {},
   "outputs": [],
   "source": [
    "x = ['a', 'b', 'c']\n",
    "\n",
    "# join()\n",
    "# De liste (ou tuple) vers chaîne\n",
    "print(''.join(x))\n",
    "print('-'.join(x))"
   ]
  },
  {
   "cell_type": "code",
   "execution_count": null,
   "metadata": {},
   "outputs": [],
   "source": [
    "y = 'abc abc'\n",
    "\n",
    "# split()\n",
    "# De chaîne vers liste\n",
    "print(y.split())\n",
    "print(y.split(sep='a'))"
   ]
  },
  {
   "cell_type": "markdown",
   "metadata": {},
   "source": [
    "## 6. Manipuler des listes et des tuples"
   ]
  },
  {
   "cell_type": "markdown",
   "metadata": {},
   "source": [
    "### Index et tranches pour les listes et les tuples"
   ]
  },
  {
   "cell_type": "code",
   "execution_count": null,
   "metadata": {},
   "outputs": [],
   "source": [
    "# Comme avec les chaînes de caractères!\n",
    "\n",
    "x = ['a', 'b', 'c', 'd', 'e', 'f', 'g', 'h', 'i']\n",
    "\n",
    "# Index\n",
    "print(x[0])\n",
    "print(x[-2])\n",
    "\n",
    "# Tranches; [index de départ : index de fin +1 : pas]\n",
    "print(x[:])   # Tout\n",
    "print(x[:4])  # De la position 0 à 3 (4-1)\n",
    "print(x[4:])  # De la position 4 jusqu'à la fin\n",
    "print(x[2:6]) # De la position 2 à 5\n",
    "\n",
    "# En ajoutant le pas\n",
    "print(x[::2])    # avec un pas de 2\n",
    "print(x[6:2:-1]) # de la position 6 jusqu'à 2 avec pas de -1"
   ]
  },
  {
   "cell_type": "markdown",
   "metadata": {},
   "source": [
    "### Concaténation de listes ou de tuples"
   ]
  },
  {
   "cell_type": "code",
   "execution_count": null,
   "metadata": {},
   "outputs": [],
   "source": [
    "# Comme avec les chaînes de caractères!\n",
    "\n",
    "a, b, c = [1, 2, 3], [4, 5], [6, 7]\n",
    "\n",
    "# Surcharge de l'opérateur arithmétique '+'\n",
    "d = a+b+c\n",
    "print(d)"
   ]
  },
  {
   "cell_type": "markdown",
   "metadata": {},
   "source": [
    "### Itérations sur une liste ou un tuple"
   ]
  },
  {
   "cell_type": "code",
   "execution_count": null,
   "metadata": {},
   "outputs": [],
   "source": [
    "a = ['a', 'b', 'c']\n",
    "\n",
    "# Seulement la valeur\n",
    "for value in a: print(value)\n",
    "\n",
    "# Index et valeur avec la fonction ennumerate()\n",
    "for index, value in ennumerate(a): print(index, value)\n",
    "\n",
    "# Index seulement avec boucle while et l'incrémentation d'une variable compteur\n",
    "i = 0\n",
    "while i < len(a):\n",
    "    print(a[i])\n",
    "    i += 1"
   ]
  },
  {
   "cell_type": "markdown",
   "metadata": {},
   "source": [
    "### Ajout et suppression d'éléments sur les listes (PAS les tuples qui sont IMMUABLES)"
   ]
  },
  {
   "cell_type": "code",
   "execution_count": null,
   "metadata": {},
   "outputs": [],
   "source": [
    "a = ['a', 'b', 'c']\n",
    "\n",
    "# Méthode append() pour ajouter à la fin de la liste\n",
    "a.append('d'); print(a)\n",
    "\n",
    "# Méthode insert pour ajouter à un index précis; on donne l'index puis la valeur\n",
    "a.insert(2, 'b2'); print(a)\n",
    "\n",
    "# Méthode pop() pour supprimer; on passe l'index en argument\n",
    "a.pop(0); print(a)\n",
    "\n",
    "# L'instruction del fonctionne aussi\n",
    "del a[0]; print(a)"
   ]
  },
  {
   "cell_type": "markdown",
   "metadata": {},
   "source": [
    "## 7. Manipuler des dictionnaires"
   ]
  },
  {
   "cell_type": "markdown",
   "metadata": {},
   "source": [
    "### Créer un dictionnaire"
   ]
  },
  {
   "cell_type": "code",
   "execution_count": null,
   "metadata": {},
   "outputs": [],
   "source": [
    "# créer un dictionnaire\n",
    "a = {'a':1, 'b':2}\n",
    "b = dict(zip(('a', 'b'), (1, 2))) # Pour utiliser la fonction dict(), il faut joindre 2 listes/tuples avec la fonction zip()\n",
    "                                  # Une pour les clées et l'autres pour les valeurs\n",
    "print(a)\n",
    "print(b)"
   ]
  },
  {
   "cell_type": "markdown",
   "metadata": {},
   "source": [
    "### Accéder à son contenu et le modifier"
   ]
  },
  {
   "cell_type": "code",
   "execution_count": null,
   "metadata": {},
   "outputs": [],
   "source": [
    "# Soit le dictionnaire suivant\n",
    "monDictionnaire = {'a':1, 'b':2}\n",
    "\n",
    "# Afficher la valeur d'un item\n",
    "print(monDictionnaire['a']) # on utilise la clé comme on utiliserait un index avec une liste!\n",
    "\n",
    "# Modifier un item\n",
    "monDictionnaire['a'] = 3\n",
    "\n",
    "# Ajouter un item\n",
    "monDictionnaire['c'] = 4 # Si la clé n'existe pas, l'item est créé"
   ]
  },
  {
   "cell_type": "markdown",
   "metadata": {},
   "source": [
    "### Supprimer un item du dictionnaire"
   ]
  },
  {
   "cell_type": "code",
   "execution_count": null,
   "metadata": {},
   "outputs": [],
   "source": [
    "# Soit le dictionnaire suivant\n",
    "monDictionnaire = {'a':1, 'b':2}\n",
    "\n",
    "# Méthode pop()\n",
    "monDictionnaire.pop('a')\n",
    "print(monDictionnaire)\n",
    "\n",
    "# Instruction del\n",
    "del monDictionnaire['b']\n",
    "print(monDictionnaire)"
   ]
  },
  {
   "cell_type": "markdown",
   "metadata": {},
   "source": [
    "### Itération sur les items d'un dictionnaire"
   ]
  },
  {
   "cell_type": "code",
   "execution_count": null,
   "metadata": {},
   "outputs": [],
   "source": [
    "myDict = {'Superman': 'Clark Kent', 'Hulk': 'Robert Bruce Banner'}\n",
    "\n",
    "# La clé seulement\n",
    "for key in myDict:\n",
    "    print(key)  \n",
    "    \n",
    "print('-'*50)\n",
    "    \n",
    "# La valeur seulement\n",
    "for value in myDict.values():\n",
    "    print(value)"
   ]
  },
  {
   "cell_type": "code",
   "execution_count": null,
   "metadata": {},
   "outputs": [],
   "source": [
    "myDict = {'Superman': 'Clark Kent', 'Hulk': 'Robert Bruce Banner'}\n",
    "\n",
    "# La clé et la valeur dans un tuple\n",
    "for item in myDict.items():\n",
    "    print(item, item[0], item[1])\n",
    "\n",
    "\n",
    "print('-'*50)\n",
    "    \n",
    "# La clé et la valeur déballées (unpacked) séparément\n",
    "for key, value in myDict.items():\n",
    "    print(key, value, sep=' <--> ')"
   ]
  },
  {
   "cell_type": "markdown",
   "metadata": {},
   "source": [
    "## 8. Importer des modules\n",
    "\n",
    "Voir la [documentation officielle](https://docs.python.org/3/tutorial/stdlib.html) pour une liste des modules de la librairie standard."
   ]
  },
  {
   "cell_type": "code",
   "execution_count": null,
   "metadata": {},
   "outputs": [],
   "source": [
    "# Différentes façons d'importer des modules\n",
    "\n",
    "import sys                 # Importe le module; ses classes et fonctions seront accessibles via sys.<nom_fonction>\n",
    "import statistics as stat  # Importe le module; ses classes et fonctions seront accessibles via stat.<nom_fonction>\n",
    "from random import *       # Importe toutes les classes et fonctions du module; accessibles directement\n",
    "from pathlib import Path   # Importe seulement la classe Path; accessible directement"
   ]
  },
  {
   "cell_type": "markdown",
   "metadata": {},
   "source": [
    "## 9. Obtenir de l'aide"
   ]
  },
  {
   "cell_type": "markdown",
   "metadata": {},
   "source": [
    "### Fonction dir()"
   ]
  },
  {
   "cell_type": "code",
   "execution_count": null,
   "metadata": {},
   "outputs": [],
   "source": [
    "# La fonction dir() donne la liste des méthode disponibles pour un objet/variable\n",
    "# Les méthodes dont le nom commencent et se terminent par des doubles traits de soulignement '__'\n",
    "# sont des méthodes internes à Python.\n",
    "\n",
    "x = 'abc'\n",
    "\n",
    "# Liste de toutes les méthodes pour la chaîne de caractères 'x'.\n",
    "dir(x)"
   ]
  },
  {
   "cell_type": "code",
   "execution_count": null,
   "metadata": {},
   "outputs": [],
   "source": [
    "x = 'abc'\n",
    "\n",
    "# Liste des méthodes publiques pour la chaîne de caractères 'x'.\n",
    "for i in dir(x):\n",
    "    if not (i[:2] == '__' and i[-2:]):\n",
    "        print(i)"
   ]
  },
  {
   "cell_type": "markdown",
   "metadata": {},
   "source": [
    "### Fonction help()"
   ]
  },
  {
   "cell_type": "code",
   "execution_count": null,
   "metadata": {},
   "outputs": [],
   "source": [
    "# La fonction help() est utile pour connaître les arguments à fournir d'une fonction\n",
    "\n",
    "help(print)"
   ]
  }
 ],
 "metadata": {
  "kernelspec": {
   "display_name": "Python 3",
   "language": "python",
   "name": "python3"
  },
  "language_info": {
   "codemirror_mode": {
    "name": "ipython",
    "version": 3
   },
   "file_extension": ".py",
   "mimetype": "text/x-python",
   "name": "python",
   "nbconvert_exporter": "python",
   "pygments_lexer": "ipython3",
   "version": "3.7.6"
  }
 },
 "nbformat": 4,
 "nbformat_minor": 4
}
