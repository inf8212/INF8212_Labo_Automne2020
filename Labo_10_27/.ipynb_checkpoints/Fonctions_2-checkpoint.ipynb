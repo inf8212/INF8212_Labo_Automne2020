{
 "cells": [
  {
   "cell_type": "markdown",
   "metadata": {},
   "source": [
    "# Python\n",
    "\n",
    "**INF8212 - Introduction aux systèmes informatiques**\n",
    "\n",
    "[Mathieu Lemieux](mailto:lemieux.mathieu@courrier.uqam.ca) @ Université du Québec à Montréal (Automne 2020)"
   ]
  },
  {
   "cell_type": "markdown",
   "metadata": {},
   "source": [
    "## Rappel sur les fonctions"
   ]
  },
  {
   "cell_type": "code",
   "execution_count": null,
   "metadata": {},
   "outputs": [],
   "source": [
    "# Soit les variables suivantes\n",
    "x, y, z = 'Les carottes sont cuites', 'Le pudding est au four', 'Le diner est servi'\n",
    "\n",
    "# Soit la fonction suivante\n",
    "def f1(msg1, msg2, upper=None):\n",
    "    \n",
    "    msg = '\\n'.join([msg1, msg2]) # Attention, msg1 et msg2 sont insérés dans une liste avant d'être passés à join()!   \n",
    "    if upper : return msg.upper()\n",
    "    else     : return msg\n",
    "\n",
    "\n",
    "    \n",
    "# On appelle la fonction...\n",
    "\n",
    "# 1. Les paramètres obligatoires peuvent être donnés selon leur position\n",
    "print( f1(x, y), '\\n'+'-'*50 )\n",
    "\n",
    "# 2. On peut aussi les référencer par leur nom, dans l'ordre que l'on veut. C'est plus clair!\n",
    "print( f1(msg2=y, msg1=x), '\\n'+'-'*50 )\n",
    "\n",
    "# 3et4. Il est préférable de nommer les paramètres optionnels, mais ce n'est pas obligatoire s'il en existe un seul.\n",
    "print( f1(x, y, True), '\\n'+'-'*50 )\n",
    "print( f1(x, y, upper=True), '\\n'+'-'*50 )"
   ]
  },
  {
   "cell_type": "markdown",
   "metadata": {},
   "source": [
    "### Recevoir un nombre indéfinis d'arguments avec  `*args` et `**kwargs`"
   ]
  },
  {
   "cell_type": "code",
   "execution_count": null,
   "metadata": {},
   "outputs": [],
   "source": [
    "# 1. Ex.\n",
    "def f2(*args, **kwargs):\n",
    "    print('Liste des arguments par position : ', args, type(args))\n",
    "    print('Liste des arguments nommés : ', kwargs, type(kwargs))\n",
    "    print('-'*50)\n",
    "    \n",
    "# On appelle la fonction...\n",
    "f2()\n",
    "f2(1, 2)\n",
    "f2(1, test='allo')"
   ]
  },
  {
   "cell_type": "code",
   "execution_count": null,
   "metadata": {},
   "outputs": [],
   "source": [
    "# Autre exemple\n",
    "def f3(a, *args, **kwargs):\n",
    "    print(a)                                                     # 'a' est un paramètre obligatoire\n",
    "    for i, v in enumerate(args): print('args', i, v, sep='. ')   # Paramètres optionnels positionnels\n",
    "    for k, v in kwargs.items() : print('kwargs', k, v, sep=': ') # Paramètres optionnels nommés\n",
    "\n",
    "# On appelle la fonction...\n",
    "f3('World!')                 ;print('-'*50)\n",
    "f3('World!', 12, 40, 31)     ;print('-'*50)\n",
    "f3('World!', x=1, y=2)       ;print('-'*50)"
   ]
  },
  {
   "cell_type": "code",
   "execution_count": null,
   "metadata": {},
   "outputs": [],
   "source": [
    "# On peut utiliser '*' et '**' pour déballer (unpacking) liste/tuple et dictionnaire respectivement...\n",
    "\n",
    "# D'abord, voici un tuple et un dictionnaire...\n",
    "tpl = (1, 2, 3, 4)\n",
    "dic = {'Marco':'Polo', 'Marcus':'Aurelius'}\n",
    "\n",
    "# Une fonction semblable à la précédente...\n",
    "def f3(*args, **kwargs):\n",
    "    for i, v in enumerate(args): print(i, v, sep='. ') # Paramètres optionnels positionnels\n",
    "    for k, v in kwargs.items() : print(k, v, sep=': ') # Paramètres optionnels nommés\n",
    "\n",
    "# On appelle la fonction, mais cette fois en 'déballant' tuple et dictionnaire...\n",
    "f3(*tpl, **dic)"
   ]
  },
  {
   "cell_type": "markdown",
   "metadata": {},
   "source": [
    "## Fonction *main()*"
   ]
  },
  {
   "cell_type": "code",
   "execution_count": null,
   "metadata": {},
   "outputs": [],
   "source": [
    "# Il n'y a pas de fonction main() réservée en Python, mais il est d'usage d'en créer une.\n",
    "\n",
    "def main():\n",
    "    # Do some stuff...\n",
    "    print('main()!')\n",
    "\n",
    "\n",
    "# S'assure que la fonction main() ne sera pas appelée sur simple chargement du module\n",
    "# Normalement placé à la fin du code.\n",
    "if __name__ == '__main__':\n",
    "    main()"
   ]
  },
  {
   "cell_type": "markdown",
   "metadata": {},
   "source": [
    "## Générateurs"
   ]
  },
  {
   "cell_type": "markdown",
   "metadata": {},
   "source": [
    "Les générateurs sont des fonctions qui se comportent comme des itérateurs, *i.e.* ils retournent un objet sur lequel on peut itérer.\n",
    "\n",
    "Aujourd'hui on ne fait qu'un survol...\n",
    "\n",
    "Un bon article [ici](https://realpython.com/introduction-to-python-generators/)."
   ]
  },
  {
   "cell_type": "code",
   "execution_count": null,
   "metadata": {
    "scrolled": true
   },
   "outputs": [],
   "source": [
    "# D'abord, un contre-exemple.\n",
    "def suiteDesCarrés(n):\n",
    "    lst = []\n",
    "    for i in range(n): lst.append(i**2)\n",
    "    return lst\n",
    "\n",
    "# Retourne la liste complète d'un coup\n",
    "print(suiteDesCarrés(5))\n"
   ]
  },
  {
   "cell_type": "code",
   "execution_count": null,
   "metadata": {},
   "outputs": [],
   "source": [
    "# Exemple de générateur\n",
    "# 'yield' remplace 'return', mais ne fait que mettre l'exécution sur pause...\n",
    "def suiteDesCarrés2(n):\n",
    "    i = 0\n",
    "    while i < n:\n",
    "        yield i**2\n",
    "        i+=1\n",
    "\n",
    "# Retourne les éléments 1 à la fois\n",
    "x = suiteDesCarrés2(5)\n",
    "print(next(x))\n",
    "print(next(x))\n",
    "print(next(x))\n",
    "# # Attention, une 6e itération génère une erreur...\n",
    "\n",
    "print('-'*50)\n",
    "\n",
    "# Autre façon... La boucle s'arrête quand le générateur est épuisé\n",
    "for i in suiteDesCarrés2(5): print(i)"
   ]
  },
  {
   "cell_type": "markdown",
   "metadata": {},
   "source": [
    "## Fonctions anonymes (*Lambda expressions*)\n",
    "\n",
    "Les fonctions anonymes peuvent être utilisées pour écrire des fonctions sur 1 seule ligne.\n",
    "\n",
    "Un bon article [ici](https://realpython.com/python-lambda/)."
   ]
  },
  {
   "cell_type": "code",
   "execution_count": null,
   "metadata": {},
   "outputs": [],
   "source": [
    "def x(i, j):\n",
    "    return i*j\n",
    "\n",
    "print(x(3, 4))"
   ]
  },
  {
   "cell_type": "code",
   "execution_count": null,
   "metadata": {},
   "outputs": [],
   "source": [
    "# D'abord, voici comment définir et exécuter une fonction anonyme\n",
    "print( (lambda i, j: i*j)(3, 4) )\n",
    "\n",
    "print('-'*50)\n",
    "\n",
    "# On peut aussi définir et affecter la fonction à une variable sur une ligne, puis appeler plus tard...\n",
    "x = lambda i, j: i*j\n",
    "print(x(5, 5))\n",
    "print(x(6, 7))\n",
    "\n",
    "print('-'*50)\n",
    "\n",
    "# ...ou immédiatement\n",
    "y = (lambda i, j: i*j)(9, 9)\n",
    "print(y)\n",
    "print(y)"
   ]
  },
  {
   "cell_type": "markdown",
   "metadata": {},
   "source": [
    "### Passer une fonction anonyme comme argument à une autre fonction"
   ]
  },
  {
   "cell_type": "code",
   "execution_count": null,
   "metadata": {},
   "outputs": [],
   "source": [
    "# Les fonctions anonymes peuvent entre autres être utilies dans le cas suivant.\n",
    "# La fonction f4() applique une fonction à chaque élément d'une liste...\n",
    "def f4(fnc, lst):\n",
    "    for i, v in enumerate(lst): lst[i]=fnc(v)\n",
    "    return lst\n",
    "\n",
    "print( f4(lambda i: i**2, [1, 2, 3, 4]) )"
   ]
  },
  {
   "cell_type": "markdown",
   "metadata": {},
   "source": [
    "## *map()* et *filter()*\n",
    "\n",
    "Survol rapide...\n",
    "\n",
    "Distinction entre map() et filter() expliquée [ici](https://stackoverflow.com/questions/18939596/python-difference-between-filterfunction-sequence-and-mapfunction-sequence/18939630#answer-18939630)"
   ]
  },
  {
   "cell_type": "code",
   "execution_count": null,
   "metadata": {},
   "outputs": [],
   "source": [
    "lst = [1, 2, 3, 4]\n",
    "\n",
    "\n",
    "# 1. La fonction map() applique une fonction à chaque élément d'une collection... Tien donc!\n",
    "x = map(lambda i: i**2, lst)\n",
    "print(list(x))\n",
    "\n",
    "\n",
    "# 2. La fonction filter() filtre la collection passée selon la fonction passée (évaluée 'truthy' ou 'falsy').\n",
    "y = filter(lambda i: i>2, lst)\n",
    "print(list(y))\n",
    "\n",
    "\n",
    "# 3. filter() et map() ensemble, une possibilité...\n",
    "z = map(lambda i: i**2, filter(lambda i: i>2, lst))\n",
    "print(list(z))"
   ]
  }
 ],
 "metadata": {
  "kernelspec": {
   "display_name": "Python 3",
   "language": "python",
   "name": "python3"
  },
  "language_info": {
   "codemirror_mode": {
    "name": "ipython",
    "version": 3
   },
   "file_extension": ".py",
   "mimetype": "text/x-python",
   "name": "python",
   "nbconvert_exporter": "python",
   "pygments_lexer": "ipython3",
   "version": "3.7.6"
  }
 },
 "nbformat": 4,
 "nbformat_minor": 4
}
