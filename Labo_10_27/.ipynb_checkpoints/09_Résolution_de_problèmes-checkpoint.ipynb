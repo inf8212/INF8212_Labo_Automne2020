{
 "cells": [
  {
   "cell_type": "markdown",
   "metadata": {},
   "source": [
    "# Approche pour la résolution de problème"
   ]
  },
  {
   "cell_type": "markdown",
   "metadata": {},
   "source": [
    "- Subdivisez le problème initial en **sous-problèmes** pourvant être résolus indépendamment\n",
    "- Parmis les sous-problèmes, il est souvent préférable de résoudre d'abord celui qui constitue **le coeur du problème initial**\n",
    "- Si l'un des sous-problèmes vous semble tout de même compliqué:\n",
    "    - Imaginez une **version réduite**, plus facile à aborder (mais ayant conservé l'essence du problème; évitez les cas limites)\n",
    "    - et/ou inventez un **cas particulier pour laquelle vous avez la réponse** (doit être facile à trouver sans code)\n",
    "    - **Résoudre sans programmation** ce cas particulier, juste en suivant la logique. <u>Notez dans le détail les étapes accomplies</u>!\n",
    "    - Choisissez la/les **structures de données** les plus appropriées pour le stockage des informations.\n",
    "    - Reprenez les étapes accomplies et traduisez-les sous forme de code (telles-qu'elles ou presque...). Tout se fait en python! **Ne contournez pas vos faiblesses** en syntaxe en changeant les étapes; cherchez plutôt en ligne.\n",
    "    - **Testez le sous-problème à part**, avec plusieurs combinaisons de input. C'est un bon moment pour <u>tester les cas limites</u>!"
   ]
  },
  {
   "cell_type": "markdown",
   "metadata": {},
   "source": [
    "# Quelques fonctionnalités vues ensemble"
   ]
  },
  {
   "cell_type": "markdown",
   "metadata": {},
   "source": [
    "### Affichage d'information\n",
    "- Utilisation de la fonction **print()**, utiliser les paaramètres *sep* et *end* au besoin\n",
    "- **Concaténation** de chaînes de caractères au besoin, dans la fonction print() ou à l'extérieur de celle-ci\n",
    "- **Formattage** (méthodes upper(), lower(), etc.) au besoin\n",
    "- Utilisation des **caractères spéciaux** (\\n, \\t, etc.) au besoin"
   ]
  },
  {
   "cell_type": "markdown",
   "metadata": {},
   "source": [
    "### Interrogation de l'utilisateur\n",
    "- Utilisation de la fonction **input()**\n",
    "- **Conversion** des données saisies au besoin; **vérification** préalable pour savoir si la conversion est possible (genre de pré-validation)\n",
    "- **Validation** subséquente des données saisies"
   ]
  },
  {
   "cell_type": "markdown",
   "metadata": {},
   "source": [
    "### Validation des données\n",
    "La validation de données fait souvent appel à :\n",
    "- Utilisation d'**opérateurs** arithmétiques, logiques et conditionnels\n",
    "- **Interrogation de l'utilisateur**, avec ou sans **conversion** subséquente des données saisies\n",
    "- Itérations conditionnelles (**boucle while**), pour donner à l'utilisateur plusieurs chanches de saisir une réponse valide\n",
    "- **Affichage d'information**, conditionnelle (**if/elif/else**) au résultat de la validation"
   ]
  }
 ],
 "metadata": {
  "kernelspec": {
   "display_name": "Python 3",
   "language": "python",
   "name": "python3"
  },
  "language_info": {
   "codemirror_mode": {
    "name": "ipython",
    "version": 3
   },
   "file_extension": ".py",
   "mimetype": "text/x-python",
   "name": "python",
   "nbconvert_exporter": "python",
   "pygments_lexer": "ipython3",
   "version": "3.7.6"
  }
 },
 "nbformat": 4,
 "nbformat_minor": 4
}
