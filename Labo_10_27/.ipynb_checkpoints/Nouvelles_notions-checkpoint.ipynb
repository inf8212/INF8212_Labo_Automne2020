{
 "cells": [
  {
   "cell_type": "markdown",
   "metadata": {},
   "source": [
    "# Nouveautés"
   ]
  },
  {
   "cell_type": "code",
   "execution_count": null,
   "metadata": {},
   "outputs": [],
   "source": [
    "# zip\n",
    "# map, filter\n",
    "\n",
    "# decorateurs\n",
    "# récursion, mémoisation, dp\n",
    "# fonctions pures\n",
    "\n",
    "# compréhension de liste, tuple, dictionnaire\n",
    "# expressions conditionnelles\n",
    "\n",
    "# Mutabilité; id(), is\n",
    "# Scope\n",
    "# global"
   ]
  }
 ],
 "metadata": {
  "kernelspec": {
   "display_name": "Python 3",
   "language": "python",
   "name": "python3"
  },
  "language_info": {
   "codemirror_mode": {
    "name": "ipython",
    "version": 3
   },
   "file_extension": ".py",
   "mimetype": "text/x-python",
   "name": "python",
   "nbconvert_exporter": "python",
   "pygments_lexer": "ipython3",
   "version": "3.7.6"
  }
 },
 "nbformat": 4,
 "nbformat_minor": 4
}
