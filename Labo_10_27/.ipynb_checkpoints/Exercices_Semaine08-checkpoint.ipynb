{
 "cells": [
  {
   "cell_type": "markdown",
   "metadata": {},
   "source": [
    "# Exercices Semaine 08\n",
    "## Définir ses propres fonctions"
   ]
  },
  {
   "cell_type": "markdown",
   "metadata": {},
   "source": [
    "### 1. Quelques exercices simples pour commencer"
   ]
  },
  {
   "cell_type": "markdown",
   "metadata": {},
   "source": [
    "a. Créez une fonction nommée 'helloWorld' qui affiche le message 'helloWorld'.\n",
    "\n",
    "b. Créez une fonction nommée '' qui \n",
    "\n",
    "c. Affichez la liste de vos contacts (seulement le nom).\n",
    "\n",
    "d. Modifiez le numéro de téléphone de l'un de vos contact.\n",
    "\n",
    "e. Affichez un à un le nom de vos contacts avec leur numéro de téléphone."
   ]
  }
 ],
 "metadata": {
  "kernelspec": {
   "display_name": "Python 3",
   "language": "python",
   "name": "python3"
  },
  "language_info": {
   "codemirror_mode": {
    "name": "ipython",
    "version": 3
   },
   "file_extension": ".py",
   "mimetype": "text/x-python",
   "name": "python",
   "nbconvert_exporter": "python",
   "pygments_lexer": "ipython3",
   "version": "3.7.6"
  }
 },
 "nbformat": 4,
 "nbformat_minor": 4
}
