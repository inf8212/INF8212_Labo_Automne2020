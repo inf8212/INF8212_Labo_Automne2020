{
 "cells": [
  {
   "cell_type": "markdown",
   "metadata": {},
   "source": [
    "# Exercices Semaine 08\n",
    "## Définir ses propres fonctions\n",
    "\n",
    "Pour l'exercice de ce soir, nous allons écrire une fonction simple pour commencer, puis nous allons y rajouter progressivement des éléments afin d'ajouter des fonctionnalités."
   ]
  },
  {
   "cell_type": "markdown",
   "metadata": {},
   "source": [
    "### 1. Définir et appeler une fonction simple\n",
    "\n",
    "Créez une fonction nommée **messageAccueil** qui affiche le message 'Bonjour!'; puis appelez-là."
   ]
  },
  {
   "cell_type": "code",
   "execution_count": null,
   "metadata": {},
   "outputs": [],
   "source": []
  },
  {
   "cell_type": "markdown",
   "metadata": {},
   "source": [
    "### 2. Passer un argument\n",
    "\n",
    "Modifiez maintenant votre fonction pour qu'elle accepte un prénom comme argument, puis modifier le message retourné pour saluer votre amis, par exemple: 'Bonjour Mathieu!'. Modifiez l'appel de la fonction en conséquence."
   ]
  },
  {
   "cell_type": "code",
   "execution_count": null,
   "metadata": {},
   "outputs": [],
   "source": []
  },
  {
   "cell_type": "markdown",
   "metadata": {},
   "source": [
    "### 3. Passer un second argument optionnel\n",
    "\n",
    "Modifiez encore votre fonction pour qu'elle accepte un préfix de salutation comme second argument, puis modifier le message retourné pour saluer votre amis, par exemple: 'Bonjour monsieur Mathieu!'. Cet argument est optionel (donc il a une valeur par défaut!). Modifiez l'appel de la fonction en conséquence."
   ]
  },
  {
   "cell_type": "code",
   "execution_count": null,
   "metadata": {},
   "outputs": [],
   "source": []
  },
  {
   "cell_type": "markdown",
   "metadata": {},
   "source": [
    "### 4.  Recevoir un nombre indéfini d'arguments positionnels\n",
    "\n",
    "Modifiez le premier argument pour recevoir un nombre indéfini de prénoms. Affichez un message de salutation pour chacun d'eux. Modifiez l'apper de la fonction pour saluer trois amis."
   ]
  },
  {
   "cell_type": "code",
   "execution_count": null,
   "metadata": {},
   "outputs": [],
   "source": []
  },
  {
   "cell_type": "markdown",
   "metadata": {},
   "source": [
    "### 5.  Recevoir un nombre indéfini d'arguments nommés\n",
    "\n",
    "Votre fonction doit maintenant n'accepter qu'un nombre indéfini d'arguments nommés (clé/valeur), rien d'autre. Chaque clé correspond à un préfix de salutation différent, et chaque valeur est une liste des amis que vous voulez saluer avec ce préfixe. Déterminez à l'avance une clé pour l'absence de préfixe de salutation. Modifiez évidemment l'apper de la fonction en conséquence."
   ]
  },
  {
   "cell_type": "code",
   "execution_count": null,
   "metadata": {},
   "outputs": [],
   "source": []
  },
  {
   "cell_type": "markdown",
   "metadata": {},
   "source": [
    "### 5.  Retourner une valeur\n",
    "\n",
    "Modifiez finalement votre fonction pour retourner une chaîne de caractères à afficher plutôt que d'afficher directement cette même chaîne. Modifiez l'appel de la fonction pour stocker cette valeur dans une variable et ensuite l'afficher."
   ]
  }
 ],
 "metadata": {
  "kernelspec": {
   "display_name": "Python 3",
   "language": "python",
   "name": "python3"
  },
  "language_info": {
   "codemirror_mode": {
    "name": "ipython",
    "version": 3
   },
   "file_extension": ".py",
   "mimetype": "text/x-python",
   "name": "python",
   "nbconvert_exporter": "python",
   "pygments_lexer": "ipython3",
   "version": "3.7.6"
  }
 },
 "nbformat": 4,
 "nbformat_minor": 4
}
