{
 "cells": [
  {
   "cell_type": "markdown",
   "metadata": {},
   "source": [
    "# Exercices Semaine 08\n",
    "## Définir ses propres fonctions\n",
    "\n",
    "Pour l'exercice de ce soir, nous allons écrire une fonction simple pour commencer, puis nous allons y rajouter progressivement des éléments afin d'ajouter des fonctionnalités."
   ]
  },
  {
   "cell_type": "markdown",
   "metadata": {},
   "source": [
    "### 1. Définir et appeler une fonction simple\n",
    "\n",
    "Créez une fonction nommée **messageAccueil** qui affiche le message 'Bonjour!'; puis appelez-là."
   ]
  },
  {
   "cell_type": "code",
   "execution_count": 42,
   "metadata": {},
   "outputs": [
    {
     "name": "stdout",
     "output_type": "stream",
     "text": [
      "Bonjour!\n"
     ]
    }
   ],
   "source": [
    "def messageAccueil():\n",
    "    print('Bonjour!')\n",
    "\n",
    "# Supposons qu'il y ait une 2e fonction qui n'est pas encore prête\n",
    "# On utilise l'instruction 'pass' pour éviter une erreur car on ne peut laisser une fonction totalement vide.\n",
    "def deuxiemeFonction():\n",
    "    pass\n",
    "\n",
    "messageAccueil()"
   ]
  },
  {
   "cell_type": "markdown",
   "metadata": {},
   "source": [
    "### 2. Passer un argument\n",
    "\n",
    "Modifiez maintenant votre fonction pour qu'elle accepte un prénom comme argument, puis modifier le message retourné pour saluer votre amis, par exemple: 'Bonjour Mathieu!'. Modifiez l'appel de la fonction en conséquence."
   ]
  },
  {
   "cell_type": "code",
   "execution_count": 41,
   "metadata": {},
   "outputs": [
    {
     "name": "stdout",
     "output_type": "stream",
     "text": [
      "Siasir votre nprénom: Mathieu\n",
      "Bonjour Mathieu !\n"
     ]
    }
   ],
   "source": [
    "def messageAccueil(prenom):\n",
    "    print('Bonjour', prenom, '!')\n",
    "    \n",
    "nom = input('Siasir votre nprénom: ') # Audrey-Ann propose d'interroger l'utilisateur, pourquoi pas!\n",
    "messageAccueil(nom)"
   ]
  },
  {
   "cell_type": "markdown",
   "metadata": {},
   "source": [
    "### 3. Passer un second argument optionnel\n",
    "\n",
    "Modifiez encore votre fonction pour qu'elle accepte un préfix de salutation comme second argument, puis modifier le message retourné pour saluer votre amis, par exemple: 'Bonjour monsieur Mathieu!'. Cet argument est optionel (donc il a une valeur par défaut!). Modifiez l'appel de la fonction en conséquence."
   ]
  },
  {
   "cell_type": "code",
   "execution_count": 40,
   "metadata": {},
   "outputs": [
    {
     "name": "stdout",
     "output_type": "stream",
     "text": [
      "Bonjour Yasmine!\n",
      "Bonjour madame Yasmine!\n",
      "Bonjour madame Yasmine!\n"
     ]
    }
   ],
   "source": [
    "def messageAccueil(prenom, prefix=''):\n",
    "    if len(prefix) != 0: prefix += ' '        # <- Ligne optionnelle; elle ajoute l'espace seulement s'il y a un préfix.\n",
    "    msg = 'Bonjour ' + prefix + prenom + '!'  # <- on a décidé de construire d'abord la chaîne, avant de la passer à print()\n",
    "    print(msg)\n",
    "    \n",
    "    \n",
    "nom    = 'Yasmine'\n",
    "prefix = 'madame'\n",
    "messageAccueil(nom)                        # Appel sans préfix\n",
    "messageAccueil(nom, prefix)                # Appel avec préfix\n",
    "messageAccueil(prefix=prefix, prenom=nom)  # On peut changer l'ordre si l'on nomme les arguments"
   ]
  },
  {
   "cell_type": "markdown",
   "metadata": {},
   "source": [
    "### 4.  Recevoir un nombre indéfini d'arguments positionnels (**args*)\n",
    "\n",
    "Modifiez le premier argument pour recevoir un nombre indéfini de prénoms. Affichez un message de salutation pour chacun d'eux. Modifiez l'apper de la fonction pour saluer trois amis."
   ]
  },
  {
   "cell_type": "code",
   "execution_count": 39,
   "metadata": {},
   "outputs": [
    {
     "name": "stdout",
     "output_type": "stream",
     "text": [
      "Bonjour madame  Janet!\n",
      "Bonjour madame  Jane!\n",
      "Bonjour madame  Judith!\n",
      "--------------------------------------------------\n",
      "Bonjour madame  Janet!\n",
      "Bonjour madame  Jane!\n",
      "Bonjour madame  Judith!\n"
     ]
    }
   ],
   "source": [
    "def messageAccueil(*args, prefix=''):\n",
    "    if len(prefix) != 0: prefix += ' '\n",
    "    for prenom in args:      \n",
    "        msg = 'Bonjour ' + prefix + ' ' + prenom + '!'\n",
    "        print(msg)\n",
    "    \n",
    "    \n",
    "prenom1 = 'Janet'\n",
    "prenom2 = 'Jane'\n",
    "prenom3 = 'Judith'\n",
    "prefix2 = 'madame'\n",
    "\n",
    "# On passe autant de prénoms que l'on veut maintenant.\n",
    "messageAccueil(prenom1, prenom2, prenom3, prefix=prefix2)\n",
    "print('-'*50)\n",
    "\n",
    "# On peut aussi utiliser une liste, puis la déballer (unpacking) avec '*'\n",
    "z = [prenom1, prenom2, prenom3]\n",
    "messageAccueil(*z, prefix=prefix2)"
   ]
  },
  {
   "cell_type": "markdown",
   "metadata": {},
   "source": [
    "### 5.  Recevoir un nombre indéfini d'arguments nommés (***kwargs*)\n",
    "\n",
    "Votre fonction doit maintenant n'accepter qu'un nombre indéfini d'arguments nommés (clé/valeur), rien d'autre. Chaque clé correspond à un préfix de salutation différent, et chaque valeur est une liste des amis que vous voulez saluer avec ce préfixe. Modifiez évidemment l'appel de la fonction en conséquence."
   ]
  },
  {
   "cell_type": "code",
   "execution_count": 44,
   "metadata": {},
   "outputs": [
    {
     "name": "stdout",
     "output_type": "stream",
     "text": [
      "Bonjour monsieur ALain!\n",
      "Bonjour monsieur John!\n",
      "Bonjour madame Jane!\n",
      "Bonjour madame Janet!\n",
      "--------------------------------------------------\n",
      "Bonjour monsieur ALain!\n",
      "Bonjour monsieur John!\n",
      "Bonjour madame Jane!\n",
      "Bonjour madame Janet!\n"
     ]
    }
   ],
   "source": [
    "def messageAccueil(**kwargs):\n",
    "    for prefix, listePrenoms in kwargs.items():   # Itération sur le dictionnaires des arguments nommés\n",
    "        for prenom in listePrenoms:               # Puisque chaque argument retourne une liste, itération sur la liste\n",
    "            msg = 'Bonjour ' + prefix + ' ' + prenom + '!'\n",
    "            print(msg)\n",
    "\n",
    "\n",
    "# on passe le nombre d'arguments nommés que l'on veut.\n",
    "messageAccueil(monsieur=['ALain', 'John'], madame=['Jane', 'Janet'])\n",
    "print('-'*50)\n",
    "\n",
    "# On peut aussi utiliser un dictionnaire, puis le déballer (unpacking) avec '**' (2 étoiles car clés + valeurs)\n",
    "x = {'monsieur':['ALain', 'John'], 'madame':['Jane', 'Janet'] }\n",
    "messageAccueil(**x)"
   ]
  },
  {
   "cell_type": "markdown",
   "metadata": {},
   "source": [
    "### 6.  Retourner une valeur\n",
    "\n",
    "Modifiez finalement votre fonction pour retourner une chaîne de caractères à afficher plutôt que d'afficher directement cette même chaîne. Modifiez l'appel de la fonction pour stocker cette valeur dans une variable et ensuite l'afficher."
   ]
  },
  {
   "cell_type": "code",
   "execution_count": 45,
   "metadata": {},
   "outputs": [
    {
     "name": "stdout",
     "output_type": "stream",
     "text": [
      "Bonjour monsieur ALain!\n",
      "Bonjour monsieur John!\n",
      "Bonjour madame Jane!\n",
      "Bonjour madame Janet!\n"
     ]
    }
   ],
   "source": [
    "def messageAccueil(**kwargs):\n",
    "    msg = ''                                         # On construit une liste qui va se remplir à chaque itération\n",
    "    for prefix, listePrenoms in kwargs.items():\n",
    "        for prenom in listePrenoms:\n",
    "            msg += 'Bonjour ' + prefix + ' ' + prenom + '!' + '\\n' # On ajoute au saut de ligne à la fin (avant c'était\n",
    "    return msg                                                     # ajouté automatiquement par la fonction print())\n",
    "\n",
    "\n",
    "# Appel de la fonction; on stocke la valeur retournée dans une variable (msg)\n",
    "x = {'monsieur':['ALain', 'John'], 'madame':['Jane', 'Janet'] }\n",
    "msg = messageAccueil(**x)\n",
    "\n",
    "# On affiche le contenu de la variable\n",
    "print(msg, end='')"
   ]
  }
 ],
 "metadata": {
  "kernelspec": {
   "display_name": "Python 3",
   "language": "python",
   "name": "python3"
  },
  "language_info": {
   "codemirror_mode": {
    "name": "ipython",
    "version": 3
   },
   "file_extension": ".py",
   "mimetype": "text/x-python",
   "name": "python",
   "nbconvert_exporter": "python",
   "pygments_lexer": "ipython3",
   "version": "3.7.6"
  }
 },
 "nbformat": 4,
 "nbformat_minor": 4
}
